{
 "cells": [
  {
   "cell_type": "markdown",
   "metadata": {},
   "source": [
    "# Recipe 6-1. Retrieving Information"
   ]
  },
  {
   "cell_type": "markdown",
   "metadata": {},
   "source": [
    "Step 1-1 Import the libraries"
   ]
  },
  {
   "cell_type": "code",
   "execution_count": 11,
   "metadata": {},
   "outputs": [],
   "source": [
    "import gensim\n",
    "from gensim.models import Word2Vec\n",
    "import numpy as np\n",
    "import nltk\n",
    "import itertools\n",
    "from nltk.corpus import stopwords\n",
    "from nltk.tokenize import sent_tokenize, word_tokenize\n",
    "import scipy\n",
    "from scipy import spatial\n",
    "from nltk.tokenize.toktok import ToktokTokenizer\n",
    "import re\n",
    "import pandas as pd\n",
    "tokenizer = ToktokTokenizer()\n",
    "stopword_list = nltk.corpus.stopwords.words('english') "
   ]
  },
  {
   "cell_type": "markdown",
   "metadata": {},
   "source": [
    "Step 1-2 Create/import documents"
   ]
  },
  {
   "cell_type": "code",
   "execution_count": 2,
   "metadata": {},
   "outputs": [],
   "source": [
    "# Randomly taking sentences from the internet:\n",
    "Doc1 = [\"With the Union cabinet approving the amendments to the Motor Vehicles Act, 2016, those caught for drunken driving will have to have really deep pockets, as the fine payable in court has been enhanced to Rs 10,000 for first-time offenders.\" ]\n",
    "\n",
    "Doc2 = [\"Natural language processing (NLP) is an area of computer science and artificial intelligence concerned with the interactions between computers and human (natural) languages, in particular how to program computers to process and analyze large amounts of natural language data.\"]\n",
    "\n",
    "Doc3 = [\"He points out that public transport is very good in Mumbai and New Delhi, where there is a good network of suburban and metro rail systems.\"]\n",
    "\n",
    "Doc4 = [\"But the man behind the wickets at the other end was watching just as keenly. With an affirmative nod from Dhoni, India captain Rohit Sharma promptly asked for a review. Sure enough, the ball would have clipped the top of middle and leg.\"]\n",
    "\n",
    "# Put all the documents in one list\n",
    "fin= Doc1+Doc2+Doc3+Doc4"
   ]
  },
  {
   "cell_type": "markdown",
   "metadata": {},
   "source": [
    "Step 1-3 Download word2vec"
   ]
  },
  {
   "cell_type": "code",
   "execution_count": 3,
   "metadata": {},
   "outputs": [],
   "source": [
    "#load the model\n",
    "model = gensim.models.KeyedVectors.load_word2vec_format('D:\\\\College\\\\Semester 6\\\\NLP (Natural Language Processing)\\\\TugasBab6_Galih Lanjar Pangastuti_2107412037_CCIT 6B\\\\GoogleNews-vectors-negative300.bin', binary=True) "
   ]
  },
  {
   "cell_type": "markdown",
   "metadata": {},
   "source": [
    "Step 1-4 Create IR system"
   ]
  },
  {
   "cell_type": "code",
   "execution_count": 4,
   "metadata": {},
   "outputs": [],
   "source": [
    "#Preprocessing\n",
    "def remove_stopwords(text, is_lower_case=False):\n",
    "    pattern = r'[^a-zA-z0-9\\s]'\n",
    "    text =  re.sub(pattern, ' ', text) \n",
    "    tokens = word_tokenize(text)\n",
    "    tokens = [token.strip() for token in tokens]\n",
    "    \n",
    "    if is_lower_case:\n",
    "        filtered_tokens = [token for token in tokens if token not in stopword_list]\n",
    "    else:\n",
    "        filtered_tokens = [token for token in tokens if token.lower() not in stopword_list]\n",
    "    filtered_text = ' '.join(filtered_tokens)\n",
    "    return filtered_text"
   ]
  },
  {
   "cell_type": "code",
   "execution_count": 5,
   "metadata": {},
   "outputs": [],
   "source": [
    "# Function to get the embedding vector for n dimension, we have used \"300\"\n",
    "def get_embedding(word):\n",
    "    if word in model.vocab:\n",
    "        return model[word]\n",
    "    else:\n",
    "        return np.zeros(300)"
   ]
  },
  {
   "cell_type": "code",
   "execution_count": 6,
   "metadata": {},
   "outputs": [],
   "source": [
    "# Getting average vector for each document\n",
    "out_dict = {}\n",
    "for sen in fin:\n",
    "    average_vector = (np.mean(np.array([get_embedding(x) for x in nltk.word_tokenize(remove_stopwords(sen))]), axis=0))\n",
    "    dict = { sen : (average_vector) }\n",
    "    out_dict.update(dict)"
   ]
  },
  {
   "cell_type": "code",
   "execution_count": 7,
   "metadata": {},
   "outputs": [],
   "source": [
    "# Function to calculate the similarity between the query vector and document vector\n",
    "def get_sim(query_embedding, average_vector_doc):\n",
    "    sim = [(1 - scipy.spatial.distance.cosine(query_embedding, average_vector_doc))]\n",
    "    return sim"
   ]
  },
  {
   "cell_type": "code",
   "execution_count": 8,
   "metadata": {},
   "outputs": [],
   "source": [
    "# Rank all the documents based on the similarity to get relevant docs\n",
    "def Ranked_documents(query):\n",
    "    query_words = (np.mean(np.array([get_embedding(x) for x in nltk.word_tokenize(query.lower())],dtype=float), axis=0))\n",
    "    rank = []\n",
    "    \n",
    "    for k,v in out_dict.items():\n",
    "        rank.append((k, get_sim(query_words, v)))\n",
    "        \n",
    "    rank = sorted(rank,key=lambda t: t[1], reverse=True)\n",
    "    print('Ranked Documents :')\n",
    "    return rank"
   ]
  },
  {
   "cell_type": "markdown",
   "metadata": {},
   "source": [
    "Step 1-5 Results and applications"
   ]
  },
  {
   "cell_type": "code",
   "execution_count": 9,
   "metadata": {},
   "outputs": [
    {
     "name": "stdout",
     "output_type": "stream",
     "text": [
      "Ranked Documents :\n"
     ]
    },
    {
     "data": {
      "text/plain": [
       "[('But the man behind the wickets at the other end was watching just as keenly. With an affirmative nod from Dhoni, India captain Rohit Sharma promptly asked for a review. Sure enough, the ball would have clipped the top of middle and leg.',\n",
       "  [0.44954328830341783]),\n",
       " ('He points out that public transport is very good in Mumbai and New Delhi, where there is a good network of suburban and metro rail systems.',\n",
       "  [0.23973446930269127]),\n",
       " ('With the Union cabinet approving the amendments to the Motor Vehicles Act, 2016, those caught for drunken driving will have to have really deep pockets, as the fine payable in court has been enhanced to Rs 10,000 for first-time offenders.',\n",
       "  [0.18673744058462127]),\n",
       " ('Natural language processing (NLP) is an area of computer science and artificial intelligence concerned with the interactions between computers and human (natural) languages, in particular how to program computers to process and analyze large amounts of natural language data.',\n",
       "  [0.17995061678671642])]"
      ]
     },
     "execution_count": 9,
     "metadata": {},
     "output_type": "execute_result"
    }
   ],
   "source": [
    "# Call the IR function with a query\n",
    "Ranked_documents(\"cricket\")"
   ]
  },
  {
   "cell_type": "code",
   "execution_count": 10,
   "metadata": {},
   "outputs": [
    {
     "name": "stdout",
     "output_type": "stream",
     "text": [
      "Ranked Documents :\n"
     ]
    },
    {
     "data": {
      "text/plain": [
       "[('With the Union cabinet approving the amendments to the Motor Vehicles Act, 2016, those caught for drunken driving will have to have really deep pockets, as the fine payable in court has been enhanced to Rs 10,000 for first-time offenders.',\n",
       "  [0.3528503913165989]),\n",
       " ('But the man behind the wickets at the other end was watching just as keenly. With an affirmative nod from Dhoni, India captain Rohit Sharma promptly asked for a review. Sure enough, the ball would have clipped the top of middle and leg.',\n",
       "  [0.19042557661139026]),\n",
       " ('He points out that public transport is very good in Mumbai and New Delhi, where there is a good network of suburban and metro rail systems.',\n",
       "  [0.1706653724240128]),\n",
       " ('Natural language processing (NLP) is an area of computer science and artificial intelligence concerned with the interactions between computers and human (natural) languages, in particular how to program computers to process and analyze large amounts of natural language data.',\n",
       "  [0.08872308406410134])]"
      ]
     },
     "execution_count": 10,
     "metadata": {},
     "output_type": "execute_result"
    }
   ],
   "source": [
    "# take one more example as may be driving.\n",
    "Ranked_documents(\"driving\")"
   ]
  },
  {
   "cell_type": "markdown",
   "metadata": {},
   "source": [
    "# Recipe 6-2. Classifying Text with Deep Learning"
   ]
  },
  {
   "cell_type": "markdown",
   "metadata": {},
   "source": [
    "Step 2-2 Identifying potential data sources, collection, and understanding"
   ]
  },
  {
   "cell_type": "code",
   "execution_count": 12,
   "metadata": {},
   "outputs": [],
   "source": [
    "import pandas as pd"
   ]
  },
  {
   "cell_type": "code",
   "execution_count": 13,
   "metadata": {},
   "outputs": [],
   "source": [
    "#read file\n",
    "file_content = pd.read_csv('D:\\\\College\\\\Semester 6\\\\NLP (Natural Language Processing)\\\\TugasBab6_Galih Lanjar Pangastuti_2107412037_CCIT 6B\\\\spam.csv', encoding = \"ISO-8859-1\")"
   ]
  },
  {
   "cell_type": "code",
   "execution_count": 14,
   "metadata": {},
   "outputs": [
    {
     "data": {
      "text/plain": [
       "'Ok lar... Joking wif u oni...'"
      ]
     },
     "execution_count": 14,
     "metadata": {},
     "output_type": "execute_result"
    }
   ],
   "source": [
    "#check sample content in the email\n",
    "file_content['v2'][1]"
   ]
  },
  {
   "cell_type": "markdown",
   "metadata": {},
   "source": [
    "Step 2-3 Text preprocessing"
   ]
  },
  {
   "cell_type": "code",
   "execution_count": 15,
   "metadata": {},
   "outputs": [],
   "source": [
    "#Import library\n",
    "from nltk.corpus import stopwords\n",
    "from nltk import *\n",
    "from sklearn.feature_extraction.text import TfidfVectorizer\n",
    "from nltk.stem import WordNetLemmatizer\n",
    "import matplotlib.pyplot as plt\n",
    "from sklearn.model_selection import train_test_split"
   ]
  },
  {
   "cell_type": "code",
   "execution_count": 16,
   "metadata": {},
   "outputs": [],
   "source": [
    "# Remove stop words\n",
    "stop = stopwords.words('english')\n",
    "file_content['v2'] = file_content['v2'].apply(lambda x: \" \".join(x for x in x.split() if x not in stop))"
   ]
  },
  {
   "cell_type": "code",
   "execution_count": 18,
   "metadata": {},
   "outputs": [],
   "source": [
    "# Delete unwanted columns\n",
    "Email_Data = file_content[['v1', 'v2']]"
   ]
  },
  {
   "cell_type": "code",
   "execution_count": 19,
   "metadata": {},
   "outputs": [
    {
     "data": {
      "text/html": [
       "<div>\n",
       "<style scoped>\n",
       "    .dataframe tbody tr th:only-of-type {\n",
       "        vertical-align: middle;\n",
       "    }\n",
       "\n",
       "    .dataframe tbody tr th {\n",
       "        vertical-align: top;\n",
       "    }\n",
       "\n",
       "    .dataframe thead th {\n",
       "        text-align: right;\n",
       "    }\n",
       "</style>\n",
       "<table border=\"1\" class=\"dataframe\">\n",
       "  <thead>\n",
       "    <tr style=\"text-align: right;\">\n",
       "      <th></th>\n",
       "      <th>Target</th>\n",
       "      <th>Email</th>\n",
       "    </tr>\n",
       "  </thead>\n",
       "  <tbody>\n",
       "    <tr>\n",
       "      <th>0</th>\n",
       "      <td>ham</td>\n",
       "      <td>Go jurong point, crazy.. Available bugis n gre...</td>\n",
       "    </tr>\n",
       "    <tr>\n",
       "      <th>1</th>\n",
       "      <td>ham</td>\n",
       "      <td>Ok lar... Joking wif u oni...</td>\n",
       "    </tr>\n",
       "    <tr>\n",
       "      <th>2</th>\n",
       "      <td>spam</td>\n",
       "      <td>Free entry 2 wkly comp win FA Cup final tkts 2...</td>\n",
       "    </tr>\n",
       "    <tr>\n",
       "      <th>3</th>\n",
       "      <td>ham</td>\n",
       "      <td>U dun say early hor... U c already say...</td>\n",
       "    </tr>\n",
       "    <tr>\n",
       "      <th>4</th>\n",
       "      <td>ham</td>\n",
       "      <td>Nah I think goes usf, lives around though</td>\n",
       "    </tr>\n",
       "  </tbody>\n",
       "</table>\n",
       "</div>"
      ],
      "text/plain": [
       "  Target                                              Email\n",
       "0    ham  Go jurong point, crazy.. Available bugis n gre...\n",
       "1    ham                      Ok lar... Joking wif u oni...\n",
       "2   spam  Free entry 2 wkly comp win FA Cup final tkts 2...\n",
       "3    ham          U dun say early hor... U c already say...\n",
       "4    ham          Nah I think goes usf, lives around though"
      ]
     },
     "execution_count": 19,
     "metadata": {},
     "output_type": "execute_result"
    }
   ],
   "source": [
    "# Rename column names\n",
    "Email_Data = Email_Data.rename(columns={\"v1\":\"Target\", \"v2\":\"Email\"})\n",
    "Email_Data.head()"
   ]
  },
  {
   "cell_type": "code",
   "execution_count": 20,
   "metadata": {},
   "outputs": [
    {
     "data": {
      "text/plain": [
       "0    go jurong point crazy available bugis n great ...\n",
       "1                              ok lar joking wif u oni\n",
       "2    free entry 2 wkly comp win fa cup final tkts 2...\n",
       "3                  u dun say early hor u c already say\n",
       "4             nah i think goes usf lives around though\n",
       "Name: Email, dtype: object"
      ]
     },
     "execution_count": 20,
     "metadata": {},
     "output_type": "execute_result"
    }
   ],
   "source": [
    "#Delete punctuations, convert text in lower case and delete the double space\n",
    "Email_Data['Email'] = Email_Data['Email'].apply(lambda x: re.sub('[!@#$:).;,?&]', '', x.lower()))\n",
    "Email_Data['Email'] = Email_Data['Email'].apply(lambda x: re.sub(' ', ' ', x))\n",
    "Email_Data['Email'].head(5)"
   ]
  },
  {
   "cell_type": "code",
   "execution_count": 21,
   "metadata": {},
   "outputs": [],
   "source": [
    "#Separating text(input) and target classes\n",
    "list_sentences_rawdata = Email_Data[\"Email\"].fillna(\"_na_\").values\n",
    "list_classes = [\"Target\"]\n",
    "target = Email_Data[list_classes].values\n",
    "To_Process=Email_Data[['Email', 'Target']]"
   ]
  },
  {
   "cell_type": "markdown",
   "metadata": {},
   "source": [
    "Step 2-4 Data preparation for model building"
   ]
  },
  {
   "cell_type": "code",
   "execution_count": 22,
   "metadata": {},
   "outputs": [],
   "source": [
    "#Train and test split with 80:20 ratio\n",
    "train, test = train_test_split(To_Process, test_size=0.2)"
   ]
  },
  {
   "cell_type": "code",
   "execution_count": 23,
   "metadata": {},
   "outputs": [],
   "source": [
    "# Define the sequence lengths, max number of words and embedding dimensions\n",
    "# Sequence length of each sentence. If more, truncate. If less, pad with zeros\n",
    "MAX_SEQUENCE_LENGTH = 300\n",
    "\n",
    "# Top 20000 frequently occurring words\n",
    "MAX_NB_WORDS = 20000"
   ]
  },
  {
   "cell_type": "code",
   "execution_count": 1,
   "metadata": {},
   "outputs": [
    {
     "name": "stdout",
     "output_type": "stream",
     "text": [
      "Requirement already satisfied: tensorflow in c:\\users\\lattae\\anaconda3\\lib\\site-packages (2.16.1)\n",
      "Requirement already satisfied: keras in c:\\users\\lattae\\anaconda3\\lib\\site-packages (3.3.3)\n",
      "Requirement already satisfied: tensorflow-intel==2.16.1 in c:\\users\\lattae\\anaconda3\\lib\\site-packages (from tensorflow) (2.16.1)\n",
      "Requirement already satisfied: absl-py>=1.0.0 in c:\\users\\lattae\\anaconda3\\lib\\site-packages (from tensorflow-intel==2.16.1->tensorflow) (2.1.0)\n",
      "Requirement already satisfied: astunparse>=1.6.0 in c:\\users\\lattae\\anaconda3\\lib\\site-packages (from tensorflow-intel==2.16.1->tensorflow) (1.6.3)\n",
      "Requirement already satisfied: flatbuffers>=23.5.26 in c:\\users\\lattae\\anaconda3\\lib\\site-packages (from tensorflow-intel==2.16.1->tensorflow) (24.3.25)\n",
      "Requirement already satisfied: gast!=0.5.0,!=0.5.1,!=0.5.2,>=0.2.1 in c:\\users\\lattae\\anaconda3\\lib\\site-packages (from tensorflow-intel==2.16.1->tensorflow) (0.5.4)\n",
      "Requirement already satisfied: google-pasta>=0.1.1 in c:\\users\\lattae\\anaconda3\\lib\\site-packages (from tensorflow-intel==2.16.1->tensorflow) (0.2.0)\n",
      "Requirement already satisfied: h5py>=3.10.0 in c:\\users\\lattae\\anaconda3\\lib\\site-packages (from tensorflow-intel==2.16.1->tensorflow) (3.11.0)\n",
      "Requirement already satisfied: libclang>=13.0.0 in c:\\users\\lattae\\anaconda3\\lib\\site-packages (from tensorflow-intel==2.16.1->tensorflow) (18.1.1)\n",
      "Requirement already satisfied: ml-dtypes~=0.3.1 in c:\\users\\lattae\\anaconda3\\lib\\site-packages (from tensorflow-intel==2.16.1->tensorflow) (0.3.2)\n",
      "Requirement already satisfied: opt-einsum>=2.3.2 in c:\\users\\lattae\\anaconda3\\lib\\site-packages (from tensorflow-intel==2.16.1->tensorflow) (3.3.0)\n",
      "Requirement already satisfied: packaging in c:\\users\\lattae\\anaconda3\\lib\\site-packages (from tensorflow-intel==2.16.1->tensorflow) (23.1)\n",
      "Requirement already satisfied: protobuf!=4.21.0,!=4.21.1,!=4.21.2,!=4.21.3,!=4.21.4,!=4.21.5,<5.0.0dev,>=3.20.3 in c:\\users\\lattae\\anaconda3\\lib\\site-packages (from tensorflow-intel==2.16.1->tensorflow) (4.25.3)\n",
      "Requirement already satisfied: requests<3,>=2.21.0 in c:\\users\\lattae\\anaconda3\\lib\\site-packages (from tensorflow-intel==2.16.1->tensorflow) (2.31.0)\n",
      "Requirement already satisfied: setuptools in c:\\users\\lattae\\anaconda3\\lib\\site-packages (from tensorflow-intel==2.16.1->tensorflow) (68.0.0)\n",
      "Requirement already satisfied: six>=1.12.0 in c:\\users\\lattae\\anaconda3\\lib\\site-packages (from tensorflow-intel==2.16.1->tensorflow) (1.16.0)\n",
      "Requirement already satisfied: termcolor>=1.1.0 in c:\\users\\lattae\\anaconda3\\lib\\site-packages (from tensorflow-intel==2.16.1->tensorflow) (2.4.0)\n",
      "Requirement already satisfied: typing-extensions>=3.6.6 in c:\\users\\lattae\\anaconda3\\lib\\site-packages (from tensorflow-intel==2.16.1->tensorflow) (4.7.1)\n",
      "Requirement already satisfied: wrapt>=1.11.0 in c:\\users\\lattae\\anaconda3\\lib\\site-packages (from tensorflow-intel==2.16.1->tensorflow) (1.16.0)\n",
      "Requirement already satisfied: grpcio<2.0,>=1.24.3 in c:\\users\\lattae\\anaconda3\\lib\\site-packages (from tensorflow-intel==2.16.1->tensorflow) (1.63.0)\n",
      "Requirement already satisfied: tensorboard<2.17,>=2.16 in c:\\users\\lattae\\anaconda3\\lib\\site-packages (from tensorflow-intel==2.16.1->tensorflow) (2.16.2)\n",
      "Requirement already satisfied: tensorflow-io-gcs-filesystem>=0.23.1 in c:\\users\\lattae\\anaconda3\\lib\\site-packages (from tensorflow-intel==2.16.1->tensorflow) (0.31.0)\n",
      "Requirement already satisfied: numpy<2.0.0,>=1.23.5 in c:\\users\\lattae\\anaconda3\\lib\\site-packages (from tensorflow-intel==2.16.1->tensorflow) (1.26.0)\n",
      "Requirement already satisfied: rich in c:\\users\\lattae\\anaconda3\\lib\\site-packages (from keras) (13.7.1)\n",
      "Requirement already satisfied: namex in c:\\users\\lattae\\anaconda3\\lib\\site-packages (from keras) (0.0.8)\n",
      "Requirement already satisfied: optree in c:\\users\\lattae\\anaconda3\\lib\\site-packages (from keras) (0.11.0)\n",
      "Requirement already satisfied: markdown-it-py>=2.2.0 in c:\\users\\lattae\\anaconda3\\lib\\site-packages (from rich->keras) (3.0.0)\n",
      "Requirement already satisfied: pygments<3.0.0,>=2.13.0 in c:\\users\\lattae\\anaconda3\\lib\\site-packages (from rich->keras) (2.15.1)\n",
      "Requirement already satisfied: wheel<1.0,>=0.23.0 in c:\\users\\lattae\\anaconda3\\lib\\site-packages (from astunparse>=1.6.0->tensorflow-intel==2.16.1->tensorflow) (0.41.2)\n",
      "Requirement already satisfied: mdurl~=0.1 in c:\\users\\lattae\\anaconda3\\lib\\site-packages (from markdown-it-py>=2.2.0->rich->keras) (0.1.2)\n",
      "Requirement already satisfied: charset-normalizer<4,>=2 in c:\\users\\lattae\\anaconda3\\lib\\site-packages (from requests<3,>=2.21.0->tensorflow-intel==2.16.1->tensorflow) (2.0.4)\n",
      "Requirement already satisfied: idna<4,>=2.5 in c:\\users\\lattae\\anaconda3\\lib\\site-packages (from requests<3,>=2.21.0->tensorflow-intel==2.16.1->tensorflow) (3.4)\n",
      "Requirement already satisfied: urllib3<3,>=1.21.1 in c:\\users\\lattae\\anaconda3\\lib\\site-packages (from requests<3,>=2.21.0->tensorflow-intel==2.16.1->tensorflow) (1.26.16)\n",
      "Requirement already satisfied: certifi>=2017.4.17 in c:\\users\\lattae\\anaconda3\\lib\\site-packages (from requests<3,>=2.21.0->tensorflow-intel==2.16.1->tensorflow) (2023.7.22)\n",
      "Requirement already satisfied: markdown>=2.6.8 in c:\\users\\lattae\\anaconda3\\lib\\site-packages (from tensorboard<2.17,>=2.16->tensorflow-intel==2.16.1->tensorflow) (3.6)\n",
      "Requirement already satisfied: tensorboard-data-server<0.8.0,>=0.7.0 in c:\\users\\lattae\\anaconda3\\lib\\site-packages (from tensorboard<2.17,>=2.16->tensorflow-intel==2.16.1->tensorflow) (0.7.2)\n",
      "Requirement already satisfied: werkzeug>=1.0.1 in c:\\users\\lattae\\anaconda3\\lib\\site-packages (from tensorboard<2.17,>=2.16->tensorflow-intel==2.16.1->tensorflow) (3.0.3)\n",
      "Requirement already satisfied: importlib-metadata>=4.4 in c:\\users\\lattae\\anaconda3\\lib\\site-packages (from markdown>=2.6.8->tensorboard<2.17,>=2.16->tensorflow-intel==2.16.1->tensorflow) (6.0.0)\n",
      "Requirement already satisfied: MarkupSafe>=2.1.1 in c:\\users\\lattae\\anaconda3\\lib\\site-packages (from werkzeug>=1.0.1->tensorboard<2.17,>=2.16->tensorflow-intel==2.16.1->tensorflow) (2.1.1)\n",
      "Requirement already satisfied: zipp>=0.5 in c:\\users\\lattae\\anaconda3\\lib\\site-packages (from importlib-metadata>=4.4->markdown>=2.6.8->tensorboard<2.17,>=2.16->tensorflow-intel==2.16.1->tensorflow) (3.11.0)\n",
      "Note: you may need to restart the kernel to use updated packages.\n"
     ]
    }
   ],
   "source": [
    "%pip install tensorflow keras"
   ]
  },
  {
   "cell_type": "code",
   "execution_count": 24,
   "metadata": {},
   "outputs": [],
   "source": [
    "from tensorflow.keras.preprocessing.text import Tokenizer\n",
    "from tensorflow.keras.preprocessing.sequence import pad_sequences"
   ]
  },
  {
   "cell_type": "code",
   "execution_count": 25,
   "metadata": {},
   "outputs": [],
   "source": [
    "# Get the frequently occurring words\n",
    "tokenizer = Tokenizer(num_words=MAX_NB_WORDS)\n",
    "tokenizer.fit_on_texts(train.Email)\n",
    "train_sequences = tokenizer.texts_to_sequences(train.Email)\n",
    "test_sequences = tokenizer.texts_to_sequences(test.Email)"
   ]
  },
  {
   "cell_type": "code",
   "execution_count": 26,
   "metadata": {},
   "outputs": [
    {
     "name": "stdout",
     "output_type": "stream",
     "text": [
      "{'i': 1, 'u': 2, 'call': 3, 'you': 4, '2': 5, 'get': 6, \"i'm\": 7, 'ur': 8, '4': 9, 'ltgt': 10, 'now': 11, 'go': 12, 'ok': 13, 'free': 14, 'know': 15, 'like': 16, 'it': 17, 'got': 18, 'come': 19, 'good': 20, 'me': 21, 'no': 22, 'day': 23, 'time': 24, 'text': 25, 'send': 26, 'want': 27, 'love': 28, 'one': 29, 'need': 30, 'lor': 31, \"i'll\": 32, 'going': 33, 'txt': 34, 'still': 35, 'dont': 36, 'back': 37, 'home': 38, 'r': 39, 'see': 40, 'if': 41, 'stop': 42, 'n': 43, 'today': 44, 'sorry': 45, 'so': 46, 'reply': 47, 'how': 48, 'do': 49, 'mobile': 50, 'tell': 51, 'later': 52, 'new': 53, 'phone': 54, 'but': 55, 'just': 56, 'da': 57, 'the': 58, 'take': 59, 'we': 60, 'my': 61, 'night': 62, 'think': 63, 'hi': 64, 'please': 65, 'and': 66, 'your': 67, 'well': 68, 'much': 69, 'week': 70, 'oh': 71, 'hey': 72, 'great': 73, 'ì': 74, 'what': 75, 'way': 76, 'happy': 77, 'claim': 78, 'msg': 79, 'pls': 80, 'dear': 81, 'a': 82, 'give': 83, 'have': 84, 'to': 85, 'hope': 86, 'can': 87, 'is': 88, 'work': 89, 'make': 90, 'are': 91, 'ask': 92, 'tomorrow': 93, 'number': 94, 'this': 95, 'in': 96, 'that': 97, 'prize': 98, 'e': 99, 'not': 100, 'right': 101, 'wat': 102, 'then': 103, 'yes': 104, 'said': 105, '1': 106, 'amp': 107, 'yeah': 108, 'really': 109, 'cash': 110, 'message': 111, 'say': 112, 'morning': 113, 'its': 114, 'already': 115, 'find': 116, 'there': 117, 'im': 118, '3': 119, 'life': 120, 'thanks': 121, 'anything': 122, 'keep': 123, 'last': 124, 'would': 125, '150p': 126, 'pick': 127, 'only': 128, 'cos': 129, 'win': 130, 'c': 131, 'lol': 132, 'babe': 133, 'sent': 134, \"i've\": 135, 'out': 136, 'nokia': 137, 'buy': 138, 'also': 139, 'every': 140, 'k': 141, 'ill': 142, 'let': 143, 'miss': 144, 'went': 145, 'meet': 146, 'b': 147, 'for': 148, 'someone': 149, 'sure': 150, 'cant': 151, 'per': 152, 'us': 153, 'something': 154, 'feel': 155, 'first': 156, 'service': 157, 'urgent': 158, 'contact': 159, 'gonna': 160, 'up': 161, 'customer': 162, 'care': 163, 'next': 164, 'min': 165, 'wait': 166, 'leave': 167, 'chat': 168, \"that's\": 169, 'soon': 170, 'place': 171, 'he': 172, 'tonight': 173, 'even': 174, 'could': 175, 'thing': 176, 'dun': 177, 'late': 178, 'ya': 179, 'always': 180, 'around': 181, 'when': 182, 'sms': 183, 'help': 184, 'x': 185, 'money': 186, 'coming': 187, 'people': 188, 'did': 189, 'wish': 190, 'hello': 191, 'things': 192, 'waiting': 193, 'gud': 194, 'wan': 195, 'lunch': 196, 'friends': 197, 'haha': 198, 'told': 199, \"can't\": 200, 'nice': 201, 'sleep': 202, 'ìï': 203, 'all': 204, 'special': 205, 'on': 206, 'many': 207, 'yet': 208, 'getting': 209, 'try': 210, 'tone': 211, 'name': 212, 'never': 213, 'may': 214, 'done': 215, 'guaranteed': 216, 'thought': 217, \"it's\": 218, 'best': 219, 'mins': 220, '16': 221, 'v': 222, 'as': 223, '5': 224, '18': 225, 'friend': 226, 'year': 227, 'live': 228, 'finish': 229, 'meeting': 230, 'man': 231, 'cool': 232, 'person': 233, 'or': 234, 'will': 235, 'stuff': 236, 'thk': 237, 'lar': 238, 'class': 239, 'fine': 240, 'heart': 241, 'draw': 242, 'she': 243, 'here': 244, 'where': 245, 'house': 246, 'enjoy': 247, 'holiday': 248, 'thats': 249, 'smile': 250, 'account': 251, 'guess': 252, 'end': 253, 'half': 254, 'at': 255, 'talk': 256, 'use': 257, 'yup': 258, 'yo': 259, 'check': 260, 'bit': 261, '6': 262, 'better': 263, 'job': 264, 'trying': 265, 'liao': 266, 'called': 267, 'line': 268, 'awarded': 269, 'nothing': 270, 'month': 271, 'shit': 272, 'eat': 273, 'mind': 274, 'car': 275, 'big': 276, 'long': 277, 'start': 278, 'chance': 279, 'days': 280, 'another': 281, 'play': 282, 'am': 283, 'world': 284, 'landline': 285, 'receive': 286, \"he's\": 287, 'ready': 288, 'dinner': 289, 'luv': 290, 'ever': 291, 'dat': 292, '1st': 293, 'box': 294, 'shows': 295, 'wanna': 296, 'again': 297, 'lot': 298, 'room': 299, 'latest': 300, '150ppm': 301, 'aight': 302, 'might': 303, 'probably': 304, 'real': 305, 'jus': 306, 'problem': 307, 'they': 308, \"how's\": 309, 'dis': 310, 'hear': 311, 'word': 312, 'two': 313, 'princess': 314, 'too': 315, 'easy': 316, 'po': 317, 'girl': 318, 'sir': 319, 'pa': 320, 'å£150': 321, 'offer': 322, 'camera': 323, 'wk': 324, 'early': 325, 'watching': 326, 'apply': 327, 'video': 328, 'watch': 329, 'with': 330, 'pay': 331, 'actually': 332, 'birthday': 333, 'put': 334, 'hour': 335, '7': 336, 'speak': 337, 'fun': 338, 'å£1000': 339, 'maybe': 340, 'sweet': 341, 'god': 342, 'of': 343, 'guys': 344, 'left': 345, 'kiss': 346, 'den': 347, 'cost': 348, 'part': 349, 'bt': 350, 'code': 351, '9': 352, 'reach': 353, 'face': 354, 'dunno': 355, 'leh': 356, 'bad': 357, 'xmas': 358, 'rate': 359, 'remember': 360, 'wif': 361, 'look': 362, 'why': 363, 'won': 364, 'forgot': 365, 'plan': 366, \"don't\": 367, 'å£2000': 368, 'abt': 369, 'town': 370, 'minutes': 371, 'was': 372, 'wont': 373, 'thanx': 374, 'entry': 375, 'tmr': 376, 'shopping': 377, 'without': 378, 'ah': 379, 'thank': 380, 'working': 381, 'award': 382, 'okay': 383, 'everything': 384, 'since': 385, 'years': 386, 'ringtone': 387, 'xxx': 388, 'weekend': 389, 'quite': 390, 'baby': 391, 'afternoon': 392, 'away': 393, 'details': 394, 'looking': 395, 'says': 396, 'making': 397, \"we're\": 398, \"there's\": 399, 'collect': 400, 'network': 401, 'selected': 402, 'important': 403, 'join': 404, 'true': 405, 'from': 406, 'wen': 407, 'made': 408, 'wake': 409, 'hair': 410, 'came': 411, 'boy': 412, 'fuck': 413, 'sexy': 414, 'over': 415, '500': 416, 'shall': 417, 'show': 418, 'lei': 419, 'times': 420, 'weekly': 421, '2nd': 422, 'plus': 423, 'bed': 424, 'evening': 425, 'pain': 426, 'saw': 427, 'missing': 428, 'delivery': 429, 'had': 430, 'plz': 431, 'means': 432, 'alright': 433, 'sat': 434, 'food': 435, 'bus': 436, 'worry': 437, 'anyway': 438, 'de': 439, 'test': 440, 'bring': 441, 'tcs': 442, 'http': 443, 'her': 444, 'asked': 445, 'calls': 446, 'able': 447, 'colour': 448, 'enough': 449, 'mail': 450, 'didnt': 451, 'goes': 452, 'school': 453, 'set': 454, 'missed': 455, 'wanted': 456, 'stay': 457, 'yesterday': 458, 'tc': 459, 'music': 460, 'tones': 461, 'hav': 462, 'tv': 463, 'mean': 464, 'dad': 465, '10': 466, 'bored': 467, 'ltdecimalgt': 468, 'collection': 469, 'tried': 470, 's': 471, 'havent': 472, 'question': 473, 'our': 474, 'friendship': 475, 'wot': 476, 'makes': 477, 'tot': 478, 'till': 479, 'texts': 480, 'either': 481, 'full': 482, 'til': 483, 'national': 484, 'nite': 485, 'feeling': 486, 'sad': 487, 'trip': 488, 'orange': 489, 'must': 490, 'pounds': 491, 'together': 492, 'order': 493, 'comes': 494, 'dude': 495, 'charge': 496, '10p': 497, 't': 498, 'date': 499, 'guy': 500, 'driving': 501, 'office': 502, 'answer': 503, 'finished': 504, 'okie': 505, 'hot': 506, 'book': 507, 'todays': 508, 'happen': 509, 'private': 510, 'lose': 511, 'vouchers': 512, 'å£100': 513, '8007': 514, 'story': 515, 'saying': 516, 'shop': 517, 'family': 518, 'ard': 519, 'beautiful': 520, 'bonus': 521, 'services': 522, 'angry': 523, 'coz': 524, 'wid': 525, 'busy': 526, 'game': 527, 'games': 528, 'old': 529, 'top': 530, 'drive': 531, 'little': 532, 'update': 533, 'hurt': 534, 'believe': 535, 'words': 536, 'after': 537, 'online': 538, 'him': 539, 'å£500': 540, 'though': 541, 'sch': 542, 'haf': 543, 'aft': 544, 'neva': 545, 'same': 546, 'gr8': 547, 'drop': 548, 'gift': 549, \"what's\": 550, 'movie': 551, 'be': 552, 'mob': 553, 'dating': 554, 'awesome': 555, 'messages': 556, 'price': 557, 'oso': 558, 'change': 559, 'more': 560, 'calling': 561, 'lots': 562, 'smiling': 563, 'run': 564, 'any': 565, 'wife': 566, 'sae': 567, 'points': 568, 'huh': 569, 'gone': 570, 'hours': 571, 'valid': 572, 'touch': 573, '8': 574, 'lets': 575, 'juz': 576, 'pics': 577, 'g': 578, 'brother': 579, 'poly': 580, 'sounds': 581, 'knw': 582, 'sister': 583, 'double': 584, 'whatever': 585, 'open': 586, 'forget': 587, 'ring': 588, 'wants': 589, 'should': 590, 'id': 591, 'expires': 592, 'goin': 593, 'used': 594, \"we'll\": 595, 'took': 596, 'lesson': 597, 'choose': 598, 'wit': 599, '750': 600, 'thinking': 601, 'sis': 602, 'welcome': 603, 'company': 604, '86688': 605, 'row': 606, 'doing': 607, 'takes': 608, 'whole': 609, 'club': 610, 'who': 611, 'prob': 612, 'available': 613, 'email': 614, 'tomo': 615, 'ltd': 616, 'y': 617, 'wonderful': 618, 'hand': 619, 'second': 620, 'cause': 621, 'noe': 622, 'off': 623, 'å£5000': 624, 'kind': 625, 'break': 626, 'attempt': 627, 'girls': 628, 'mu': 629, 'rite': 630, 'by': 631, 'congrats': 632, 'yours': 633, 'boytoy': 634, 'visit': 635, 'fone': 636, 'sea': 637, 'gd': 638, 'else': 639, 'anytime': 640, '08000930705': 641, 'await': 642, 'statement': 643, 'identifier': 644, 'pm': 645, 'minute': 646, 'opt': 647, 'land': 648, 'w': 649, 'mum': 650, 'tho': 651, 'happened': 652, 'pic': 653, 'msgs': 654, 'eve': 655, 'taking': 656, 'congratulations': 657, 'leaving': 658, 'close': 659, 'sex': 660, 'listen': 661, '100': 662, 'currently': 663, 'crazy': 664, 'almost': 665, 'sleeping': 666, 'course': 667, 'address': 668, 'pub': 669, 'seeing': 670, 'party': 671, 'them': 672, 'rs': 673, 'finally': 674, 'etc': 675, 'worth': 676, 'smoke': 677, 'search': 678, 'hard': 679, 'auction': 680, 'found': 681, 'nt': 682, 'alone': 683, 'felt': 684, 'everyone': 685, 'head': 686, 'camcorder': 687, \"''\": 688, 'blue': 689, 'darlin': 690, 'anyone': 691, 'card': 692, 'needs': 693, 'uk': 694, 'fancy': 695, 'parents': 696, 'å£350': 697, 'fr': 698, 'ipod': 699, 'player': 700, 'mine': 701, 'before': 702, '12hrs': 703, 'winner': 704, 'valued': 705, 'age': 706, 'chikku': 707, 'hold': 708, 'sun': 709, 'smth': 710, 'fri': 711, 'information': 712, 'point': 713, 'march': 714, 'pobox': 715, 'lost': 716, 'friday': 717, 'å£250': 718, 'telling': 719, 'walk': 720, 'frnd': 721, 'goodmorning': 722, 'cut': 723, 'dreams': 724, 'wrong': 725, 'snow': 726, 'grins': 727, 'final': 728, 'ten': 729, 'treat': 730, 'freemsg': 731, 'wow': 732, 'b4': 733, 'frnds': 734, 'college': 735, 'read': 736, 'hit': 737, 'loving': 738, 'm': 739, 'yr': 740, 'news': 741, 'father': 742, 'john': 743, 'askd': 744, 'suite342': 745, '2lands': 746, 'slow': 747, 'case': 748, 'earlier': 749, 'saturday': 750, 'drink': 751, 'd': 752, 'lovely': 753, 'mom': 754, 'nope': 755, 'mayb': 756, 'about': 757, 'talking': 758, 'wil': 759, 'fast': 760, '87066': 761, 'wkly': 762, 'computer': 763, 'sort': 764, 'unsubscribe': 765, 'mates': 766, 'hee': 767, 'whenever': 768, 'couple': 769, 'mobileupd8': 770, 'correct': 771, 'log': 772, 'mate': 773, 'mrng': 774, 'outside': 775, 'dnt': 776, 'area': 777, 'via': 778, 'numbers': 779, \"i'd\": 780, 'started': 781, 'within': 782, 'hows': 783, 'post': 784, 'savamob': 785, 'wap': 786, 'reading': 787, 'supposed': 788, 'bout': 789, 'thinks': 790, 'gets': 791, 'side': 792, 'pretty': 793, 'std': 794, 'voucher': 795, 'na': 796, 'bslvyl': 797, 'chennai': 798, 'project': 799, 'seen': 800, '2003': 801, '800': 802, 'un': 803, 'operator': 804, 'song': 805, 'bank': 806, 'lucky': 807, 'ans': 808, 'bath': 809, 'hmm': 810, 'direct': 811, 'heard': 812, 'txts': 813, 'ge': 814, 'f': 815, 'abiola': 816, 'type': 817, 'quiz': 818, 'complimentary': 819, '08000839402': 820, 'tired': 821, 'balance': 822, 'hg': 823, 'doin': 824, 'ends': 825, 'pass': 826, 'surprise': 827, 'jay': 828, 'mr': 829, 'extra': 830, '0800': 831, 'store': 832, 'ass': 833, '04': 834, 'water': 835, 'rply': 836, 'eg': 837, 'orchard': 838, 'th': 839, 'offers': 840, 'sub': 841, 'content': 842, 'motorola': 843, '\\x89û': 844, 'gas': 845, 'light': 846, '11': 847, 'knew': 848, 'carlos': 849, 'least': 850, 'figure': 851, 'caller': 852, 'yar': 853, 'entered': 854, 'hoping': 855, 'secret': 856, 'questions': 857, 'ugh': 858, 'link': 859, 'tscs': 860, \"b'day\": 861, 'redeemed': 862, 'decided': 863, '150': 864, 'unlimited': 865, 'download': 866, 'kids': 867, 'christmas': 868, 'simple': 869, 'ha': 870, 'match': 871, 'less': 872, 'eh': 873, 'callertune': 874, 'oredi': 875, 'lect': 876, '12': 877, 'frm': 878, 'tht': 879, 'monday': 880, 'ago': 881, 'cum': 882, 'gettin': 883, 'small': 884, 'paper': 885, 'bcoz': 886, 'tel': 887, 'wonder': 888, '20p': 889, 'fact': 890, 'reaching': 891, 'wine': 892, 'far': 893, 'wana': 894, 'phones': 895, 'uncle': 896, 'doesnt': 897, \"you're\": 898, 'sound': 899, 'loan': 900, 'picking': 901, 'fantastic': 902, 'india': 903, 'park': 904, 'darren': 905, 'hmmm': 906, 'which': 907, 'voice': 908, 'support': 909, 'credit': 910, 'confirm': 911, 'valentines': 912, 'decide': 913, 'o': 914, 'xy': 915, 'worries': 916, 'cs': 917, 'meant': 918, 'across': 919, 'reason': 920, 'once': 921, 'shower': 922, 'semester': 923, 'comp': 924, 'crave': 925, 'comin': 926, 'swing': 927, '03': 928, 'laugh': 929, 'months': 930, 'empty': 931, 'mode': 932, 'leaves': 933, 'difficult': 934, 'brings': 935, 'mah': 936, 'remove': 937, 'reveal': 938, 'rock': 939, 'booked': 940, 'weeks': 941, 'others': 942, 'kate': 943, 'info': 944, 'weed': 945, \"joy's\": 946, 'oops': 947, 'reward': 948, 'invited': 949, 'w1j6hl': 950, 'warm': 951, 'asking': 952, 'gym': 953, 'lazy': 954, 'reached': 955, 'while': 956, 'sign': 957, 'tickets': 958, 'discount': 959, 'however': 960, 'cd': 961, '4u': 962, 'fucking': 963, 'move': 964, 'ntt': 965, 'yourself': 966, 'facebook': 967, 'staying': 968, 'situation': 969, 'feels': 970, 'does': 971, 'terms': 972, 'hospital': 973, 'somewhere': 974, 'poor': 975, 'press': 976, 'laptop': 977, 'rcvd': 978, 'whats': 979, 'user': 980, 'die': 981, 'sell': 982, 'ho': 983, 'lovable': 984, 'seriously': 985, 'aha': 986, 'goto': 987, 'happiness': 988, 'representative': 989, 'tonite': 990, 'sending': 991, 'ip4': 992, '5we': 993, 'slowly': 994, 'future': 995, 'normal': 996, 'studying': 997, 'disturb': 998, 'rent': 999, \"she's\": 1000, 'rental': 1001, 'call2optout': 1002, 'forwarded': 1003, 'somebody': 1004, 'boss': 1005, 'worried': 1006, 'lover': 1007, 'gal': 1008, 'woke': 1009, 'copy': 1010, 'xx': 1011, 'deal': 1012, 'asap': 1013, 'forever': 1014, 'otherwise': 1015, 'loads': 1016, 'met': 1017, 'wishing': 1018, 'bathe': 1019, 'p': 1020, 'noon': 1021, '2004': 1022, 'rest': 1023, 'buying': 1024, 'mon': 1025, 'loved': 1026, 'ni8': 1027, 'enter': 1028, 'colleagues': 1029, 'ending': 1030, 'rates': 1031, 'sitting': 1032, 'muz': 1033, 'matches': 1034, '50': 1035, 'list': 1036, 'very': 1037, 'notice': 1038, 'mp3': 1039, \"wat's\": 1040, 'deep': 1041, 'net': 1042, \"today's\": 1043, 'drugs': 1044, 'especially': 1045, 'cup': 1046, 'weight': 1047, 'hungry': 1048, 'rain': 1049, 'understand': 1050, 'yep': 1051, 'ice': 1052, '2nite': 1053, 'dream': 1054, \"they're\": 1055, 'men': 1056, 'st': 1057, 'access': 1058, '1327': 1059, 'croydon': 1060, 'cr9': 1061, '5wb': 1062, 'dogging': 1063, 'txting': 1064, 'kallis': 1065, 'knows': 1066, 'menu': 1067, 'pete': 1068, 'opinion': 1069, 'glad': 1070, 'kick': 1071, 'maximize': 1072, 'credits': 1073, 'sunshine': 1074, 'sony': 1075, 'dvd': 1076, 'imagine': 1077, 'å£800': 1078, 'pray': 1079, 'train': 1080, 'meh': 1081, 'awaiting': 1082, 'study': 1083, 'wun': 1084, 'short': 1085, 'clean': 1086, 'holla': 1087, 'gotta': 1088, 'reference': 1089, 'charged': 1090, 'sim': 1091, 'yahoo': 1092, 'luck': 1093, 'feb': 1094, 'urself': 1095, 'mm': 1096, 'don': 1097, 'thnk': 1098, 'å£200': 1099, 'using': 1100, 'flag': 1101, 'picked': 1102, 'bx420': 1103, 'member': 1104, 'bid': 1105, 'trust': 1106, 'down': 1107, 'nobody': 1108, 'kinda': 1109, 'street': 1110, 'ex': 1111, 'digital': 1112, 'il': 1113, 'stupid': 1114, 'immediately': 1115, 'nyt': 1116, 'gn': 1117, 'safe': 1118, 'wednesday': 1119, 'sunday': 1120, 'promise': 1121, 'training': 1122, '25': 1123, 'eyes': 1124, 'tuition': 1125, 're': 1126, 'lttimegt': 1127, 'been': 1128, 'truth': 1129, 'click': 1130, 'entitled': 1131, 'cheap': 1132, 'mobiles': 1133, 'hmv': 1134, '\\x89ûò': 1135, 'energy': 1136, '25p': 1137, 'valentine': 1138, 'pound': 1139, 'apartment': 1140, 'spent': 1141, 'admirer': 1142, 'accept': 1143, 'hop': 1144, 'wiv': 1145, 'sofa': 1146, 'checking': 1147, 'were': 1148, 'sick': 1149, 'nigeria': 1150, 'flirt': 1151, 'em': 1152, 'round': 1153, 'exam': 1154, 'longer': 1155, 'specially': 1156, 'completely': 1157, 'yest': 1158, 'plans': 1159, 'tenerife': 1160, 'request': 1161, 'gave': 1162, 'merry': 1163, 'sometimes': 1164, 'style': 1165, 'cheers': 1166, 'pc': 1167, 'usf': 1168, 'fb': 1169, 'nah': 1170, '40gb': 1171, 'inside': 1172, 'cafe': 1173, 'fat': 1174, 'strong': 1175, 'ldn': 1176, 'turns': 1177, 'ish': 1178, 'convey': 1179, 'regards': 1180, 'sucks': 1181, 'mo': 1182, 'login': 1183, 'those': 1184, 'pix': 1185, 'tear': 1186, 'ones': 1187, 'j': 1188, 'vikky': 1189, '10am': 1190, 'exactly': 1191, 'pin': 1192, 'thru': 1193, 'share': 1194, 'write': 1195, 'midnight': 1196, 'library': 1197, '08707509020': 1198, '0870': 1199, 'mrt': 1200, 'no1': 1201, 'wwwgetzedcouk': 1202, 'door': 1203, 'quick': 1204, 'exciting': 1205, 'past': 1206, 'showing': 1207, 'alex': 1208, 'spree': 1209, 'cc': 1210, 'kept': 1211, 'mark': 1212, 'aiyah': 1213, 'save': 1214, \"tc's\": 1215, 'loyalty': 1216, 'shuhui': 1217, 'keeping': 1218, 'naked': 1219, \"let's\": 1220, 'complete': 1221, 'onto': 1222, 'wwwurawinnercom': 1223, 'waste': 1224, 'al': 1225, 'pleased': 1226, 'following': 1227, 'review': 1228, 'arrive': 1229, '06': 1230, 'isnt': 1231, 'problems': 1232, 'slave': 1233, 'shd': 1234, 'film': 1235, 'summer': 1236, \"u're\": 1237, 'police': 1238, 'buzz': 1239, 'england': 1240, 'bold': 1241, 'torch': 1242, 'rose': 1243, 'some1': 1244, 'marry': 1245, 'yay': 1246, 'campus': 1247, '150pm': 1248, 'miracle': 1249, 'num': 1250, 'unless': 1251, 'maid': 1252, 'murderer': 1253, 'murdered': 1254, 'january': 1255, '85023': 1256, 'å£300': 1257, 'ac': 1258, 'behind': 1259, 'heavy': 1260, 'lessons': 1261, 'teasing': 1262, 'idea': 1263, 'happens': 1264, 'tuesday': 1265, 'usual': 1266, 'imma': 1267, 'ive': 1268, '20': 1269, 'walking': 1270, 'hurry': 1271, 'shes': 1272, 'definitely': 1273, 'starts': 1274, 'bill': 1275, 'å£400': 1276, 'spend': 1277, 'hotel': 1278, 'pizza': 1279, '02': 1280, 'fixed': 1281, 'fullonsmscom': 1282, 'sunny': 1283, 'bother': 1284, 'liked': 1285, 'movies': 1286, 'different': 1287, 'his': 1288, 'seems': 1289, 'quality': 1290, 'mid': 1291, 'moment': 1292, 'slept': 1293, 'izzit': 1294, '8th': 1295, 'usually': 1296, 'hiya': 1297, 'fault': 1298, 'amazing': 1299, 'wats': 1300, 'mistake': 1301, 'photo': 1302, 'fyi': 1303, 'ended': 1304, 'works': 1305, 'forward': 1306, 'directly': 1307, 'none': 1308, 'version': 1309, 'high': 1310, 'married': 1311, 'goodnight': 1312, 'vodafone': 1313, 'red': 1314, 'yrs': 1315, 'power': 1316, 'cine': 1317, 'kb': 1318, 'daily': 1319, 'air': 1320, 'eating': 1321, 'din': 1322, 'fantasies': 1323, 'daddy': 1324, 'omg': 1325, 'doctor': 1326, 'internet': 1327, 'tour': 1328, 'silent': 1329, 'hai': 1330, 'umma': 1331, 'dead': 1332, 'experience': 1333, 'vl': 1334, 'bb': 1335, '2day': 1336, 'itself': 1337, 'joke': 1338, 'hurts': 1339, 'excellent': 1340, 'wnt': 1341, 'putting': 1342, 'mood': 1343, 'theatre': 1344, 'surely': 1345, 'king': 1346, 'ahead': 1347, 'medical': 1348, 'insurance': 1349, 'charity': 1350, 'naughty': 1351, 'south': 1352, 'del': 1353, 'road': 1354, 'wishes': 1355, 'worse': 1356, 'chinese': 1357, 'paying': 1358, '3030': 1359, 'issues': 1360, '300': 1361, 'tea': 1362, 'coffee': 1363, 'realy': 1364, 'excuse': 1365, 'stopped': 1366, 'indian': 1367, 'cover': 1368, 'earth': 1369, 'rays': 1370, 'bak': 1371, \"who's\": 1372, 'partner': 1373, 'polys': 1374, 'ate': 1375, 'thurs': 1376, 'selling': 1377, 'password': 1378, 'cds': 1379, 'tncs': 1380, 'running': 1381, 'track': 1382, 'persons': 1383, 'lift': 1384, 'meaning': 1385, 'law': 1386, 'joking': 1387, 'planned': 1388, 'whether': 1389, 'flower': 1390, 'tariffs': 1391, 'argument': 1392, 'spoke': 1393, 'happening': 1394, 'anymore': 1395, '08718720201': 1396, 'checked': 1397, 'matter': 1398, 'damn': 1399, 'stand': 1400, 'scream': 1401, 'cal': 1402, 'broke': 1403, 'fingers': 1404, 'moms': 1405, 'other': 1406, 'inviting': 1407, 'wwwsmsac': 1408, '62468': 1409, 'competition': 1410, 'deliver': 1411, 'boys': 1412, 'group': 1413, 'add': 1414, 'tough': 1415, 'childish': 1416, 'appreciate': 1417, 'eatin': 1418, 'inclusive': 1419, 'wwwcomuknet': 1420, 'arrange': 1421, 'english': 1422, 'kerala': 1423, 'station': 1424, 'cuz': 1425, 'holding': 1426, 'unable': 1427, '1000': 1428, '2000': 1429, 'relation': 1430, '08712460324': 1431, 'weekends': 1432, 'wherever': 1433, 'these': 1434, 'pobox36504w45wq': 1435, 'mei': 1436, 'cinema': 1437, 'babes': 1438, '2mrw': 1439, 'wear': 1440, 'sport': 1441, 'surfing': 1442, 'ad': 1443, 'lookin': 1444, 'howz': 1445, 'yogasana': 1446, 'expensive': 1447, 'jazz': 1448, 'armand': 1449, 'cute': 1450, 'contract': 1451, '2optout': 1452, 'starting': 1453, 'scared': 1454, 'current': 1455, 'moral': 1456, 'ar': 1457, 'due': 1458, 'added': 1459, 'revealed': 1460, 'bluetooth': 1461, 'character': 1462, 'space': 1463, 'ignore': 1464, 'nature': 1465, 'brand': 1466, 'gm': 1467, 'gay': 1468, 'horny': 1469, 'registered': 1470, 'near': 1471, 'frens': 1472, 'fix': 1473, 'connection': 1474, 'recently': 1475, 'l8r': 1476, 'replied': 1477, '11mths': 1478, 'twice': 1479, \"uk's\": 1480, 'learn': 1481, 'ticket': 1482, 'posted': 1483, 'murder': 1484, \"you've\": 1485, 'handset': 1486, 'la': 1487, 'workin': 1488, 'return': 1489, 'co': 1490, 'activate': 1491, 'conditions': 1492, 'pobox84': 1493, 'site': 1494, 'results': 1495, 'loves': 1496, 'bought': 1497, '3510i': 1498, 'cabin': 1499, 'london': 1500, 'gt': 1501, 'gives': 1502, 'hr': 1503, 'sipix': 1504, '28': 1505, 'report': 1506, 'serious': 1507, 'envelope': 1508, \"'\": 1509, 'charges': 1510, 'body': 1511, 'country': 1512, 'pleasure': 1513, 'possible': 1514, 'informed': 1515, 'wondering': 1516, 'awake': 1517, 'changed': 1518, 'sense': 1519, 'ttyl': 1520, 'remind': 1521, 'hw': 1522, 'giving': 1523, 'cancel': 1524, 'hell': 1525, 'instead': 1526, 'choice': 1527, 'transaction': 1528, 'singles': 1529, 'rd': 1530, 'playing': 1531, 'willing': 1532, \"he'll\": 1533, 'teach': 1534, 'dint': 1535, 'single': 1536, 'age16': 1537, '4th': 1538, 'app': 1539, 'trouble': 1540, 'bucks': 1541, 'yoga': 1542, 'lead': 1543, 'nw': 1544, 'contacted': 1545, 'screaming': 1546, 'rather': 1547, 'amount': 1548, '60p': 1549, 'dollars': 1550, '3g': 1551, 'videophones': 1552, 'videochat': 1553, 'java': 1554, 'dload': 1555, 'noline': 1556, 'rentl': 1557, 'records': 1558, '7pm': 1559, 'lemme': 1560, 'ringtones': 1561, 'callers': 1562, 'iam': 1563, 'amt': 1564, 'bedroom': 1565, 'bugis': 1566, 'å£3': 1567, 'omw': 1568, 'boo': 1569, \"haven't\": 1570, 'meds': 1571, 'local': 1572, 'present': 1573, 'paid': 1574, '530': 1575, 'lmao': 1576, '86021': 1577, 'wed': 1578, 'hostel': 1579, 'hrs': 1580, \"she'll\": 1581, 'relax': 1582, 'ave': 1583, 'become': 1584, \"did'nt\": 1585, 'tampa': 1586, 'vry': 1587, 'weather': 1588, 'geeee': 1589, 'standard': 1590, 'thinkin': 1591, '08712300220': 1592, 'stock': 1593, 'holder': 1594, 'plenty': 1595, 'self': 1596, \"c's\": 1597, 'truly': 1598, '83355': 1599, 'mtmsgrcvd18': 1600, 'surprised': 1601, 'å£900': 1602, 'def': 1603, 'sec': 1604, 'hella': 1605, 'exams': 1606, 'milk': 1607, 'sit': 1608, 'wtf': 1609, 'evng': 1610, 'bag': 1611, 'perfect': 1612, '730': 1613, 'website': 1614, '8552': 1615, 'sam': 1616, 'lik': 1617, '3rd': 1618, 'asks': 1619, 'anybody': 1620, 'skype': 1621, 'uni': 1622, 'wwwldewcom1win150ppmx3age16': 1623, 'idiot': 1624, 'mmm': 1625, '36504': 1626, 'greet': 1627, 'apparently': 1628, '4get': 1629, 'egg': 1630, 'i\\x89û÷ll': 1631, 'pictures': 1632, '9pm': 1633, 'cud': 1634, '87121': 1635, 'theory': 1636, 'wins': 1637, 'argue': 1638, 'expecting': 1639, 'custcare': 1640, 'weak': 1641, 'super': 1642, '82277': 1643, 'oz': 1644, 'hands': 1645, 'infernal': 1646, '21': 1647, 'o2': 1648, \"week's\": 1649, 'sept': 1650, 'raise': 1651, 'å£1500': 1652, '87239': 1653, \"ain't\": 1654, 'bcums': 1655, 'affection': 1656, 'kettoda': 1657, 'manda': 1658, '3qxj9': 1659, '9ae': 1660, 'jess': 1661, 'created': 1662, 'gap': 1663, 'moji': 1664, 'seem': 1665, 'rush': 1666, 'official': 1667, 'optout': 1668, 'total': 1669, 'blackberry': 1670, 'tis': 1671, 'purpose': 1672, 'tenants': 1673, 'refused': 1674, \"'help'\": 1675, 'ages': 1676, 'eerie': 1677, 'file': 1678, \"'ll\": 1679, 'appt': 1680, 'godi': 1681, 'youclean': 1682, 'bloodsend': 1683, 'itplspls': 1684, 'ru': 1685, 'nvm': 1686, 'sup': 1687, 'yijue': 1688, 'public': 1689, 'govtinstituitions': 1690, 'closedincluding': 1691, 'unsub': 1692, 'announcement': 1693, 'freephone': 1694, 'aiyo': 1695, 'grand': 1696, 'feet': 1697, 'smiles': 1698, 'polyphonic': 1699, '87575': 1700, 'hl': 1701, 'themob': 1702, 'selection': 1703, 'tells': 1704, 'appointment': 1705, 'texted': 1706, 'random': 1707, 'players': 1708, 'derek': 1709, '2u': 1710, 'social': 1711, 'sed': 1712, 'dai': 1713, 'towards': 1714, 'callså£1': 1715, 'idk': 1716, 'barely': 1717, 'w1': 1718, 'pussy': 1719, 'tat': 1720, 'boring': 1721, 'arcade': 1722, 'purchase': 1723, 'hopefully': 1724, 'lab': 1725, 'jokes': 1726, 'netcollex': 1727, 'embarassed': 1728, 'yan': 1729, 'jiu': 1730, 'weird': 1731, 'enemy': 1732, 'catch': 1733, 'spending': 1734, \"where's\": 1735, 'buns': 1736, 'darling': 1737, 'passed': 1738, 'wearing': 1739, 'fever': 1740, 'aftr': 1741, 'malaria': 1742, 'expect': 1743, 'considering': 1744, 'gee': 1745, 'personal': 1746, \"you'll\": 1747, 'å£1': 1748, 'april': 1749, 'battery': 1750, 'loverboy': 1751, 'rem': 1752, 'marriage': 1753, 'arrested': 1754, 'sore': 1755, 'centre': 1756, 'å£10000': 1757, 'mother': 1758, 'raining': 1759, 'replying': 1760, 'wrc': 1761, 'rally': 1762, 'answers': 1763, 'google': 1764, 'pod': 1765, 'lecture': 1766, 'logo': 1767, 'joined': 1768, 'pilates': 1769, '786': 1770, 'unredeemed': 1771, 'bay': 1772, 'flat': 1773, 'salary': 1774, 'easier': 1775, 'bye': 1776, 'fall': 1777, 'dirty': 1778, 'prepare': 1779, 'totally': 1780, 'texting': 1781, 'fighting': 1782, 'begin': 1783, 'belovd': 1784, 'songs': 1785, 'sura': 1786, 'hip': 1787, 'faster': 1788, 'euro2004': 1789, 'hook': 1790, 'six': 1791, 'urgnt': 1792, 'released': 1793, 'basically': 1794, 'passionate': 1795, 'cold': 1796, 'queen': 1797, 'funny': 1798, 'teaches': 1799, 'assume': 1800, 'aiyar': 1801, 'discuss': 1802, 'places': 1803, 'gentle': 1804, 'stylish': 1805, 'str': 1806, 'ran': 1807, 'hv': 1808, 'happend': 1809, 'interview': 1810, \"'t\": 1811, 'sooner': 1812, 'belly': 1813, 'result': 1814, 'fool': 1815, 'looks': 1816, 'center': 1817, 'alrite': 1818, 'oni': 1819, 'advance': 1820, 'cell': 1821, 'å£10': 1822, 'travel': 1823, 'ladies': 1824, 'connect': 1825, 'dog': 1826, 'receiving': 1827, 'white': 1828, 'original': 1829, 'february': 1830, 'season': 1831, 'fa': 1832, '5000': 1833, 'cw25wx': 1834, 'page': 1835, 'askin': 1836, '250': 1837, 'meal': 1838, 'dictionary': 1839, 'interesting': 1840, 'addicted': 1841, 'seemed': 1842, 'escape': 1843, 'iq': 1844, 'settled': 1845, 'sing': 1846, 'porn': 1847, \"didn't\": 1848, 'italian': 1849, 'inc': 1850, 'fight': 1851, 'yuo': 1852, 'tihs': 1853, 'bahamas': 1854, 'respond': 1855, 'depends': 1856, 'step': 1857, 'sha': 1858, 'five': 1859, 'oru': 1860, 'bringing': 1861, 'ride': 1862, 'honey': 1863, 'moan': 1864, '85': 1865, 'reasons': 1866, 'common': 1867, 'grl': 1868, 'nxt': 1869, 'received': 1870, 'shirt': 1871, 'mad': 1872, 'planning': 1873, 'an': 1874, '440': 1875, 'children': 1876, 'zed': 1877, 'txtauction': 1878, 'horrible': 1879, 'drug': 1880, 'searching': 1881, 'dropped': 1882, 'voda': 1883, 'quoting': 1884, 'meanwhile': 1885, '6hrs': 1886, 'sighs': 1887, 'dem': 1888, 'costa': 1889, 'sol': 1890, 'sk38xh': 1891, 'series': 1892, 'cha': 1893, 'cbe': 1894, 'pg': 1895, 'germany': 1896, \"t's\": 1897, 'taunton': 1898, 'ibhltd': 1899, 'ldnw15h': 1900, 'decision': 1901, 'members': 1902, 'symbol': 1903, 'score': 1904, 'confirmed': 1905, 'community': 1906, 'uks': 1907, 'vomit': 1908, 'bet': 1909, 'american': 1910, 'pie': 1911, 'swimming': 1912, 'roast': 1913, 'finishes': 1914, 'drivin': 1915, 'photos': 1916, 'except': 1917, 'living': 1918, 'wanting': 1919, '2moro': 1920, 'railway': 1921, 'u4': 1922, 'rude': 1923, 'followed': 1924, 'i\\x89û÷m': 1925, 'sale': 1926, 'rofl': 1927, 'books': 1928, 'june': 1929, 'threats': 1930, 'outstanding': 1931, 'innings': 1932, 'iscoming': 1933, 'eaten': 1934, '0845': 1935, 'essential': 1936, 'roommates': 1937, 'norm': 1938, 'tests': 1939, 'letter': 1940, 'yummy': 1941, 'reality': 1942, 'fantasy': 1943, 'okey': 1944, 'storming': 1945, 'phne': 1946, 'wt': 1947, 'margaret': 1948, 'girlfrnd': 1949, 'grahmbell': 1950, 'invnted': 1951, 'telphone': 1952, 'moralone': 1953, 'stops': 1954, 'bottle': 1955, 'karaoke': 1956, 'football': 1957, 'everybody': 1958, 'ppl': 1959, 'gona': 1960, 'waitin': 1961, '2stoptxt': 1962, 'loses': 1963, 'clear': 1964, '08715705022': 1965, 'kadeem': 1966, 'quickly': 1967, 'valid12hrs': 1968, 'loud': 1969, 'usualiam': 1970, 'upgrade': 1971, '0207': 1972, 'incident': 1973, 'chain': 1974, 'violence': 1975, 'women': 1976, 'ordered': 1977, 'pple': 1978, 'affairs': 1979, 'along': 1980, 'boat': 1981, 'hanging': 1982, 'costs': 1983, \"kki'm\": 1984, '123': 1985, 'we\\x89û÷re': 1986, 'anyways': 1987, 'bf': 1988, 'joy': 1989, 'dresser': 1990, 'advise': 1991, 'recent': 1992, 'university': 1993, 'california': 1994, '450': 1995, 'gautham': 1996, 'understood': 1997, 'pages': 1998, '08702840625comuk': 1999, '220': 2000, 'cm2': 2001, 'city': 2002, 'å£150perwksub': 2003, 'qatar': 2004, \"cann't\": 2005, 'cock': 2006, 'fills': 2007, 'gaps': 2008, 'yetunde': 2009, 'messenger': 2010, 'yer': 2011, '84199': 2012, 'eng': 2013, 'box39822': 2014, 'w111wx': 2015, 'tyler': 2016, 'display': 2017, 'subs': 2018, 'flaked': 2019, 'roommate': 2020, 'including': 2021, 'å£75000': 2022, 'homeowners': 2023, 'previously': 2024, '1956669': 2025, 'uncles': 2026, 'nat': 2027, 'vote': 2028, 'alert': 2029, 'esplanade': 2030, 'title': 2031, 'titles': 2032, '09061209465': 2033, 'suprman': 2034, 'matrix3': 2035, 'starwars3': 2036, 'shame': 2037, 'gals': 2038, 'regular': 2039, 'blood': 2040, 'sugar': 2041, 'sleepingand': 2042, 'wkend': 2043, 'officeunderstand': 2044, 'behave': 2045, '08717898035': 2046, 'masters': 2047, 'carry': 2048, 'shld': 2049, 'prey': 2050, 'mths': 2051, 'cross': 2052, 'ntwk': 2053, '08001950382': 2054, 'newest': 2055, 'gossip': 2056, 'fit': 2057, 'purity': 2058, 'messageits': 2059, 'don\\x89û÷t': 2060, 'ki': 2061, \"did't\": 2062, 'm26': 2063, '3uz': 2064, 'knowing': 2065, 'played': 2066, 'bros': 2067, 'bat': 2068, 'aathilove': 2069, 'speed': 2070, 'inform': 2071, 'successfully': 2072, 'jst': 2073, 'in2': 2074, 'letters': 2075, 'snake': 2076, 'buff': 2077, 'rich': 2078, '125gift': 2079, 'juicy': 2080, 'meetin': 2081, 'cust': 2082, 'giv': 2083, 'twelve': 2084, 'aah': 2085, 'mall': 2086, 'female': 2087, 'system': 2088, 'village': 2089, 'blank': 2090, 'moved': 2091, 'mite': 2092, 'explain': 2093, 'lick': 2094, 'spoken': 2095, '6months': 2096, 'apologise': 2097, 'box97n7qp': 2098, '0': 2099, 'settings': 2100, 'exact': 2101, 'tomarrow': 2102, 'shesil': 2103, 'lines': 2104, 'moon': 2105, 'honeybee': 2106, 'sweetest': 2107, 'laughed': 2108, 'waitu': 2109, 'havnt': 2110, 'crack': 2111, 'upto': 2112, 'sp': 2113, 'subscriber': 2114, 'receipt': 2115, '80062': 2116, 'throw': 2117, 'wah': 2118, \"we'd\": 2119, 'dates': 2120, 'timing': 2121, 'headache': 2122, \"when's\": 2123, 'period': 2124, 'lt': 2125, 'proof': 2126, 'sonyericsson': 2127, 'walmart': 2128, 'wisdom': 2129, 'package': 2130, 'schedule': 2131, 'each': 2132, 'arms': 2133, 'di': 2134, 'gravity': 2135, 'carefully': 2136, 'plane': 2137, 'vijay': 2138, 'december': 2139, '08002986906': 2140, 'smokes': 2141, 'born': 2142, 'painful': 2143, 'avent': 2144, 'it\\x89û÷s': 2145, '89545': 2146, 'www4': 2147, 'tcbiz': 2148, '08718726270150gbp': 2149, 'mtmsg18': 2150, 'blow': 2151, 'simply': 2152, 'low': 2153, 'callsmessagesmissed': 2154, 'kkhow': 2155, 'black': 2156, 'solve': 2157, 'brilliant': 2158, 'bday': 2159, 'drinks': 2160, '2morrow': 2161, 'answering': 2162, 'ym': 2163, 'attend': 2164, 'understanding': 2165, 'possession': 2166, 'butt': 2167, 'collecting': 2168, \"prabhai'm\": 2169, 'sorydarealyfrm': 2170, 'sory': 2171, 'indians': 2172, 'sometime': 2173, 'challenge': 2174, 'ibiza': 2175, 'avatar': 2176, 'quit': 2177, 'careful': 2178, 'm263uz': 2179, 'fave': 2180, 'journey': 2181, 'normally': 2182, 'cuddle': 2183, 'mt': 2184, 'calicut': 2185, 'deliveredtomorrow': 2186, 'chatting': 2187, \"dsn't\": 2188, '87077': 2189, 'strike': 2190, 'terrible': 2191, '45239': 2192, '29': 2193, \"u'll\": 2194, 'vip': 2195, 'woman': 2196, 'pongal': 2197, '09061221066': 2198, 'fromm': 2199, 'invite': 2200, 'shirts': 2201, 'changes': 2202, 'recd': 2203, 'morphine': 2204, 'doors': 2205, 'billed': 2206, 'dayu': 2207, 'dear1': 2208, 'best1': 2209, 'clos1': 2210, 'lvblefrnd': 2211, 'jstfrnd': 2212, 'cutefrnd': 2213, 'lifpartnr': 2214, 'swtheart': 2215, 'bstfrnd': 2216, 'budget': 2217, 'citizen': 2218, 'monthly': 2219, 'listening': 2220, \"we've\": 2221, 'brought': 2222, 'history': 2223, 'beer': 2224, 'suite': 2225, '9ja': 2226, 'software': 2227, 'euro': 2228, '83222': 2229, 'responding': 2230, 'becoz': 2231, 'cream': 2232, 'walked': 2233, 'died': 2234, 'favour': 2235, 'exhausted': 2236, 'fish': 2237, 'slap': 2238, 'dick': 2239, 'four': 2240, 'ahmad': 2241, 'because': 2242, 'sheets': 2243, 'stuck': 2244, 'profit': 2245, 'jada': 2246, 'kusruthi': 2247, 'spl': 2248, 'matured': 2249, 'ikea': 2250, 'moby': 2251, 'generally': 2252, 'saved': 2253, 'messageno': 2254, 'responcewhat': 2255, 'executive': 2256, 'popped': 2257, 'cake': 2258, 'delivered': 2259, '200': 2260, 'obviously': 2261, 'adult': 2262, 'chosen': 2263, 'wedding': 2264, 'reminder': 2265, 'mmmm': 2266, 'fair': 2267, 'asleep': 2268, 'vava': 2269, 'roger': 2270, 'gang': 2271, 'bloody': 2272, 'machan': 2273, 'audition': 2274, 'burger': 2275, 'ppm': 2276, 'freak': 2277, 'some': 2278, 'model': 2279, 'cannot': 2280, 'credited': 2281, 'ese': 2282, 'erm': 2283, 'supply': 2284, 'lounge': 2285, 'ache': 2286, 'iouri': 2287, 'wifehow': 2288, 'husband': 2289, 'btw': 2290, 'regarding': 2291, 'callin': 2292, 'fear': 2293, 'cheer': 2294, 'speechless': 2295, 'cruise': 2296, 'captain': 2297, 'research': 2298, 'lifetime': 2299, '83600': 2300, 'blame': 2301, 'both': 2302, 'response': 2303, 'aint': 2304, 'basic': 2305, 'doggy': 2306, 'standing': 2307, 'booking': 2308, \"jay's\": 2309, 'parked': 2310, 'kidz': 2311, 'dress': 2312, 'force': 2313, 'process': 2314, '24': 2315, '88066': 2316, 'å£450': 2317, 'bathing': 2318, 'shortly': 2319, 'wwwringtonescouk': 2320, '3gbp': 2321, 'waking': 2322, 'bitch': 2323, 'instructions': 2324, '09063458130': 2325, 'polyph': 2326, 'valuable': 2327, 'art': 2328, 'pence': 2329, '630': 2330, 'prolly': 2331, 'tkts': 2332, 'cancer': 2333, 'ths': 2334, 'xavier': 2335, 'peace': 2336, 'shot': 2337, 'dave': 2338, 'contents': 2339, 'role': 2340, 'hols': 2341, 'students': 2342, '3cover': 2343, 'screen': 2344, '4press': 2345, '5gently': 2346, 'q': 2347, 'ansr': 2348, 'sptyrone': 2349, 'key': 2350, 'msging': 2351, 'arun': 2352, 'middle': 2353, '50p': 2354, 'wc1n3xx': 2355, 'fancies': 2356, 'remains': 2357, 'bro': 2358, 'accident': 2359, 'flights': 2360, 'lady': 2361, '9am': 2362, 'files': 2363, 'nichols': 2364, 'tm': 2365, 'downloads': 2366, 'irritating': 2367, 'stomach': 2368, 'films': 2369, 'suntec': 2370, 'tablets': 2371, '09066612661': 2372, \"'til\": 2373, \"'melle\": 2374, 'melle': 2375, 'minnaminunginte': 2376, 'nurungu': 2377, \"vettam'\": 2378, 'cornwall': 2379, 'stress': 2380, 'building': 2381, 'sports': 2382, 'spk': 2383, 'lotr': 2384, '7250i': 2385, 'w1jhl': 2386, 'lturlgt': 2387, 'docs': 2388, 'dry': 2389, 'doc': 2390, 'dubsack': 2391, 'spook': 2392, '114': 2393, '14': 2394, 'tcr': 2395, 'comedy': 2396, 'switch': 2397, 'follow': 2398, 'whos': 2399, 'has': 2400, 'transfered': 2401, 'somethin': 2402, 'hardcore': 2403, 'teacher': 2404, 'iz': 2405, 'frndship': 2406, 'ta': 2407, 'returns': 2408, 'w45wq': 2409, 'norm150p': 2410, 'intro': 2411, 'kano': 2412, '80182': 2413, '08452810073': 2414, 'voicemail': 2415, '88039': 2416, 'skilgme': 2417, 'advice': 2418, 'fuckin': 2419, 'auto': 2420, 'tb': 2421, 'jesus': 2422, 'subpoly': 2423, '81618': 2424, '08718727870': 2425, 'fill': 2426, 'runs': 2427, 'oic': 2428, 'moments': 2429, 'celebrate': 2430, 'realize': 2431, 'height': 2432, 'major': 2433, 'guide': 2434, 'eight': 2435, 'fren': 2436, 'china': 2437, 'minmobsmorelkpobox177hp51fl': 2438, 'among': 2439, 'wylie': 2440, 'missin': 2441, 'finishing': 2442, 'cramps': 2443, 'unique': 2444, 'vary': 2445, 'record': 2446, \"said''\": 2447, \"''ok''\": 2448, 'minuts': 2449, 'latr': 2450, 'caken': 2451, 'elsewhere': 2452, '3d': 2453, 'crab': 2454, 'footprints': 2455, 'boston': 2456, 'nyc': 2457, 'aathiwhere': 2458, 'chill': 2459, 'prospects': 2460, 'dearer': 2461, '09050090044': 2462, 'toclaim': 2463, 'pobox334': 2464, 'stockport': 2465, 'costå£150': 2466, 'max10mins': 2467, \"mom's\": 2468, 'bmw': 2469, 'urgentlyits': 2470, 'urgentbut': 2471, 'shortage': 2472, 'lacsthere': 2473, 'source': 2474, 'arng': 2475, 'lacsthats': 2476, 'se': 2477, 'preferably': 2478, 'radio': 2479, 'august': 2480, '121': 2481, 'biggest': 2482, 'takin': 2483, 'three': 2484, 'afraid': 2485, 'smoking': 2486, 'birds': 2487, 'pouts': 2488, 'stomps': 2489, 'uu': 2490, 'maxå£7': 2491, 'wet': 2492, 'addie': 2493, 'enuff': 2494, 'dey': 2495, 'wonders': 2496, '7th': 2497, '6th': 2498, '5th': 2499, 'personality': 2500, 'upload': 2501, 'shipping': 2502, 'bell': 2503, 'eye': 2504, 'hm': 2505, 'tom': 2506, 'tick': 2507, 'wer': 2508, 'randomly': 2509, 'arsenal': 2510, 'pack': 2511, 'fetch': 2512, '2p': 2513, 'mandan': 2514, 'filling': 2515, '09061790121': 2516, 'granite': 2517, 'explosive': 2518, 'nasdaq': 2519, 'cdgt': 2520, 'sac': 2521, 'receivea': 2522, '09061701461': 2523, 'kl341': 2524, 'er': 2525, 'filled': 2526, 'elaine': 2527, 'inches': 2528, 'cochin': 2529, 'en': 2530, 'unknown': 2531, 'eek': 2532, 'singing': 2533, 'brah': 2534, 'recognise': 2535, 'confused': 2536, 'tsunamis': 2537, 'electricity': 2538, 'river': 2539, 'ne': 2540, 'worst': 2541, 'toa': 2542, 'payoh': 2543, 'survey': 2544, '830': 2545, 'garbage': 2546, 'items': 2547, 'morn': 2548, 'slippers': 2549, '01223585334': 2550, '2c': 2551, 'shagged': 2552, '2end': 2553, 'chechi': 2554, 'career': 2555, 'horo': 2556, 'star': 2557, '8pm': 2558, 'student': 2559, 'soiree': 2560, 'protect': 2561, 'sib': 2562, 'sensitive': 2563, 'passwordsatm': 2564, 'tnc': 2565, 'genius': 2566, 'lion': 2567, '87131': 2568, 'perhaps': 2569, 'weirdest': 2570, 'jolt': 2571, 'suzy': 2572, 'improved': 2573, 'msgs150p': 2574, 'dokey': 2575, 'tee': 2576, 'cookies': 2577, 'didnåõt': 2578, 'fire': 2579, 'flame': 2580, 'lt3': 2581, 'amused': 2582, 'langport': 2583, 'enjoyed': 2584, 'mojibiola': 2585, 'activities': 2586, 'concentrate': 2587, 'papers': 2588, 'buses': 2589, '84025': 2590, 'eurodisinc': 2591, 'trav': 2592, 'acoentry41': 2593, 'morefrmmob': 2594, 'shracomorsglsuplt10': 2595, 'ls1': 2596, '3aj': 2597, 'sacrifice': 2598, 'beg': 2599, 'promises': 2600, 'responsibility': 2601, 'rule': 2602, 'locations': 2603, 'largest': 2604, 'ec2a': 2605, '80878': 2606, \"t'sc's\": 2607, '1x150p': 2608, 'mids': 2609, 'box334sk38ch': 2610, 'renewal': 2611, 'hospitals': 2612, 'nydc': 2613, 'heading': 2614, 'capital': 2615, 'shocking': 2616, 'scary': 2617, 'crash': 2618, '88888': 2619, 'gbp': 2620, 'east': 2621, '09050001808': 2622, 'm95': 2623, 'shoving': 2624, '153': 2625, 'ranjith': 2626, '5min': 2627, 'processed': 2628, 'kindly': 2629, 'brothas': 2630, 'kicks': 2631, 'nap': 2632, '910': 2633, 'explicit': 2634, '30': 2635, 'secs': 2636, '02073162414': 2637, 'finewhen': 2638, 'shipped': 2639, 'lane': 2640, 'å£1450': 2641, '09050002311': 2642, 'b4280703': 2643, '08718727868': 2644, 'mag': 2645, 'billion': 2646, 'classes': 2647, 'helloooo': 2648, 'welcomes': 2649, 'toot': 2650, 'fringe': 2651, 'own': 2652, 'dough': 2653, '09066364589': 2654, 'bishan': 2655, 'legal': 2656, '5pm': 2657, 'removal': 2658, '08708034412': 2659, 'jiayin': 2660, 'gimme': 2661, 'cam': 2662, 'fab': 2663, 'figures': 2664, 'yeshe': 2665, 'greatbhaji': 2666, 'cricketer': 2667, 'sachin': 2668, 'worldvery': 2669, 'reverse': 2670, 'cheating': 2671, 'mathematics': 2672, '169': 2673, '6031': 2674, 'shitload': 2675, 'freezing': 2676, 'caught': 2677, 'chest': 2678, 'claims': 2679, '13': 2680, 'tonights': 2681, 'call09050000327': 2682, 'rstm': 2683, 'sw7': 2684, '3ss': 2685, 'redred': 2686, 'bloodblood': 2687, 'heartheart': 2688, 'luvs': 2689, 'praying': 2690, 'mental': 2691, 'curious': 2692, 'shelf': 2693, 'dippeditinadew': 2694, 'lovingly': 2695, 'touched': 2696, 'itwhichturnedinto': 2697, 'gifted': 2698, 'tomeandsaidthis': 2699, 'acc': 2700, 'greetings': 2701, 'consider': 2702, 'bears': 2703, \"weekend's\": 2704, 'easter': 2705, 'k52': 2706, 'reminding': 2707, 'owns': 2708, 'completed': 2709, 'abj': 2710, 'dracula': 2711, 'ghost': 2712, 'addamsfa': 2713, 'munsters': 2714, 'exorcist': 2715, 'twilight': 2716, 'innocent': 2717, 'bagi': 2718, 'constant': 2719, 'kg': 2720, 'lst': 2721, 'ruin': 2722, 'thesis': 2723, 'rang': 2724, 'l': 2725, 'nd': 2726, 'parco': 2727, 'nb': 2728, '542': 2729, '0825': 2730, 'signing': 2731, 'farm': 2732, 'allah': 2733, 'delay': 2734, 'allowed': 2735, 'failed': 2736, 'stretch': 2737, 'epsilon': 2738, 'anniversary': 2739, 'pen': 2740, 'drinking': 2741, 'avoiding': 2742, 'pt2': 2743, 'txtin': 2744, '4info': 2745, 'smiled': 2746, 'answered': 2747, '82468': 2748, 'musthu': 2749, 'shut': 2750, 'smart': 2751, 'panic': 2752, 'flirting': 2753, 'paperwork': 2754, 'interest': 2755, 'flip': 2756, 'si': 2757, 'sorting': 2758, 'taylor': 2759, 'itlet': 2760, 'day2find': 2761, \"everybody's\": 2762, 'application': 2763, 'airtel': 2764, 'bigger': 2765, 'dark': 2766, 'waited': 2767, 'ful': 2768, 'stones': 2769, 'thm': 2770, 'atlast': 2771, 'diamonds': 2772, 'chase': 2773, 'sux': 2774, '300p': 2775, 'dollar': 2776, 'sleepin': 2777, 'membership': 2778, 'å£100000': 2779, 'jackpot': 2780, '81010': 2781, 'wwwdbuknet': 2782, 'lccltd': 2783, '4403ldnw1a7rw18': 2784, 'onwards': 2785, 'mini': 2786, 'leona': 2787, 'excuses': 2788, 'greatest': 2789, 'courage': 2790, 'bear': 2791, 'defeat': 2792, 'losing': 2793, 'heartgn': 2794, 'dial': 2795, 'downloaded': 2796, 'exe': 2797, 'installing': 2798, 'deciding': 2799, 'accordingly': 2800, 'schools': 2801, 'closed': 2802, 'inch': 2803, 'field': 2804, 'administrator': 2805, 'alcohol': 2806, 'jane': 2807, 'heads': 2808, 'freedom': 2809, 'hun': 2810, '83383': 2811, 'ls15hb': 2812, 'n9dx': 2813, 'lovers': 2814, 'salon': 2815, 'invaders': 2816, 'orig': 2817, 'console': 2818, 'o2couk': 2819, 'likes': 2820, 'printed': 2821, 'replacement': 2822, 'foot': 2823, 'aww': 2824, 'messagesome': 2825, 'sendername': 2826, 'sentdate': 2827, 'piss': 2828, 'adventure': 2829, 'galileo': 2830, 'hurting': 2831, 'goodnite': 2832, 'housewives': 2833, '08717507711': 2834, 'landlines': 2835, 'held': 2836, '12mths': 2837, 'linerental': 2838, 'mth': 2839, '08700621170150p': 2840, 'smashed': 2841, 'visionsmscom': 2842, 'wrk': 2843, 'delete': 2844, 'messy': 2845, 'laundry': 2846, 'underwear': 2847, 'floor': 2848, 'telly': 2849, 'guilty': 2850, 'math': 2851, 'gudk': 2852, 'minimum': 2853, 'prof': 2854, 'sem': 2855, 'pig': 2856, 'allow': 2857, 'opening': 2858, 'covers': 2859, 'kisses': 2860, 'difficulties': 2861, 'alwys': 2862, 'lil': 2863, 'cheese': 2864, 'division': 2865, 'cardiff': 2866, 'management': 2867, 'wee': 2868, 'build': 2869, 'fucked': 2870, 'falls': 2871, 'kaiez': 2872, 'option': 2873, 'melt': 2874, 'ground': 2875, 'scotland': 2876, 'silver': 2877, 'killed': 2878, '6pm': 2879, 'headin': 2880, 'booty': 2881, 'ola': 2882, 'frying': 2883, 'pan': 2884, 'that\\x89û÷s': 2885, 'likely': 2886, 'laid': 2887, '69888': 2888, 'todayfrom': 2889, 'incredible': 2890, 'o2fwd': 2891, '18p': 2892, 'handle': 2893, 'traffic': 2894, 'album': 2895, 'birthdate': 2896, 'tirunelvali': 2897, 'devouring': 2898, 'genuine': 2899, 'infowww100percent': 2900, 'realcom': 2901, 'business': 2902, 'anthony': 2903, 'adore': 2904, 'hes': 2905, 'hon': 2906, '1his': 2907, '2police': 2908, 'questioned': 2909, '3wife': 2910, 'siri': 2911, '4cook': 2912, 'cooking': 2913, '5gardener': 2914, 'vegetables': 2915, '6house': 2916, '7children': 2917, '8neighbour': 2918, \"god's\": 2919, 'reboot': 2920, 'roads': 2921, 'thgt': 2922, 'maturity': 2923, 'kay': 2924, 'gf': 2925, 'bc': 2926, 'returned': 2927, '08002986030': 2928, 'yeh': 2929, 'shining': 2930, 'pickle': 2931, '434': 2932, 'sk3': 2933, '8wp': 2934, 'discussed': 2935, 'goodo': 2936, '165': 2937, 'www07781482378com': 2938, 'xuhui': 2939, 'lucozade': 2940, 'le': 2941, '61200': 2942, 'packs': 2943, 'lucozadecouk': 2944, 'itcould': 2945, 'combine': 2946, 'oil': 2947, 'position': 2948, 'jenny': 2949, 'atm': 2950, 'ques': 2951, 'suits': 2952, '09065989182': 2953, 'lush': 2954, 'soup': 2955, 'fineabsolutly': 2956, 'costing': 2957, 'ideas': 2958, 'desparate': 2959, 'textpod': 2960, 'wwwtextpodnet': 2961, '08712405020': 2962, 'bleh': 2963, 'bloke': 2964, 'names': 2965, 'name1': 2966, 'name2': 2967, 'mobno': 2968, 'adam': 2969, '07123456789': 2970, 'txtno': 2971, 'ads': 2972, 'ron': 2973, 'modules': 2974, 'japanese': 2975, 'proverb': 2976, 'itu': 2977, 'itleave': 2978, '07742676969': 2979, '08719180248': 2980, 'creep': 2981, 'stranger': 2982, 'driver': 2983, 'evn': 2984, 'evr': 2985, 'discreet': 2986, 'goodenvironment': 2987, 'terrific': 2988, 'previous': 2989, 'fightng': 2990, 'dificult': 2991, '09061743386': 2992, 'donate': 2993, '09065174042': 2994, '07821230901': 2995, 'bird': 2996, 'under': 2997, 'lays': 2998, 'networks': 2999, 'sake': 3000, 'rhythm': 3001, 'swiss': 3002, 'crore': 3003, 'banks': 3004, 'jobs': 3005, 'delhi': 3006, 'politicians': 3007, 'rights': 3008, 'beloved': 3009, 'moving': 3010, 'skyped': 3011, 'kz': 3012, 'given': 3013, 'ultimatum': 3014, 'countin': 3015, 'aburo': 3016, 'lotwill': 3017, 'violated': 3018, 'privacy': 3019, 'supervisor': 3020, 'attached': 3021, 'kickoff': 3022, 'muchi': 3023, 'postcard': 3024, 'tms': 3025, 'widelivecom': 3026, 'index': 3027, 'wmlid': 3028, '09065171142': 3029, 'stopsms': 3030, 'certainly': 3031, 'coin': 3032, 'settle': 3033, '1030': 3034, 'chances': 3035, '20000': 3036, 'csh11': 3037, '6days': 3038, 'tsandcs': 3039, 'ganesh': 3040, 'diwali': 3041, 'evenings': 3042, 'nights': 3043, 'interflora': 3044, 'flowing': 3045, 'babies': 3046, 'july': 3047, '2007': 3048, 'green': 3049, 'dr': 3050, \"wasn't\": 3051, 'lock': 3052, 'temp': 3053, 'jacket': 3054, 'engin': 3055, 'taste': 3056, 'curry': 3057, 'misbehaved': 3058, 'screamed': 3059, 'hallaq': 3060, 'fell': 3061, 'stayed': 3062, 'knackered': 3063, 'natural': 3064, 'jealous': 3065, 'bread': 3066, 'event': 3067, 'kothi': 3068, 'snowman': 3069, 'msn': 3070, '09061213237': 3071, '177': 3072, 'm227xy': 3073, 'scold': 3074, '021': 3075, 'arm': 3076, 'okok': 3077, 'okthenwhats': 3078, 'restaurant': 3079, 'dearslp': 3080, 'welltake': 3081, 'careswt': 3082, 'dreamsmuah': 3083, 'birla': 3084, 'soft': 3085, 'faggy': 3086, 'demand': 3087, 'fo': 3088, 'wn': 3089, 'cn': 3090, 'boost': 3091, 'instantly': 3092, 'shouted': 3093, '08': 3094, 'annie': 3095, 'market': 3096, 'whom': 3097, 'freefone': 3098, 'jd': 3099, 'accounts': 3100, 'hyde': 3101, 'mel': 3102, '1000s': 3103, 'foreign': 3104, 'stamps': 3105, 'dare': 3106, 'doesn': 3107, 'telephone': 3108, '05': 3109, 'hugs': 3110, 'snogs': 3111, 'include': 3112, 'kkwhen': 3113, 'cme': 3114, '2morow': 3115, 'wwwfullonsmscom': 3116, 'spanish': 3117, 'deus': 3118, 'santa': 3119, 'satisfy': 3120, 'action': 3121, 'rec': 3122, 'royal': 3123, 'bloomberg': 3124, '447797706009': 3125, 'careers': 3126, 'bloombergcom': 3127, 'killing': 3128, \"guy's\": 3129, 'sleepwellamptake': 3130, 'youre': 3131, 'turning': 3132, 'bruce': 3133, 'slide': 3134, 'makin': 3135, 'maneesha': 3136, 'satisfied': 3137, 'toll': 3138, 'repair': 3139, '07xxxxxxxxx': 3140, 'xxxxx': 3141, 'apps': 3142, 'thts': 3143, 'wwwldewcomsubs16': 3144, '1win150ppmx3': 3145, 'sathya': 3146, 'simpler': 3147, 'magical': 3148, 'unbelievable': 3149, 'bin': 3150, 'europe': 3151, \"blake's\": 3152, 'keeps': 3153, \"doesn't\": 3154, 'effect': 3155, 'wwwidewcom': 3156, 'skillgame': 3157, '1winaweek': 3158, '150ppermesssubscription': 3159, 'alive': 3160, 'breathe': 3161, 'suggest': 3162, 'stays': 3163, 'issue': 3164, 'weigh': 3165, 'regret': 3166, 'poem': 3167, 'vth': 3168, 'eveb': 3169, 'intelligent': 3170, 'clearly': 3171, '2marrow': 3172, 'easily': 3173, 'anywhere': 3174, 'canada': 3175, \"isn't\": 3176, 'cared': 3177, 'sum1': 3178, 'yun': 3179, 'scores': 3180, 'yellow': 3181, 'custcare08718720201': 3182, 'abi': 3183, '08712402050': 3184, '10ppm': 3185, 'ag': 3186, 'promo': 3187, 'gods': 3188, 'blessings': 3189, 'prem': 3190, 'pop': 3191, 'turn': 3192, 'heater': 3193, 'transport': 3194, 'nos': 3195, 'mis': 3196, 'prabha': 3197, 'impatient': 3198, 'filthy': 3199, 'contacts': 3200, 'color': 3201, 'posts': 3202, '09061221061': 3203, '28days': 3204, 'box177': 3205, 'm221bp': 3206, '2yr': 3207, 'warranty': 3208, 'på£399': 3209, 'slots': 3210, 'vodka': 3211, 'successful': 3212, 'falling': 3213, 'smeone': 3214, 'technical': 3215, 'property': 3216, 'ref': 3217, 'tree': 3218, 'airport': 3219, 'sarcastic': 3220, 'paragon': 3221, 'mono': 3222, 'lookatme': 3223, 'thangam': 3224, 'connections': 3225, 'repeat': 3226, 'mnths': 3227, 'callback': 3228, 'spring': 3229, 'dedicated': 3230, 'dedicate': 3231, 'peaceful': 3232, 'cutting': 3233, 'plm': 3234, 'racing': 3235, 'chicken': 3236, 'rice': 3237, 'nit': 3238, 'burns': 3239, 'anti': 3240, 'confuses': 3241, '21st': 3242, '2005': 3243, \"ratetc's\": 3244, \"08452810075over18's\": 3245, 'bone': 3246, 'chart': 3247, 'mila': 3248, 'age23': 3249, 'blonde': 3250, 'mtalk': 3251, '6986618': 3252, '30pp': 3253, '5free': 3254, 'increments': 3255, 'help08718728876': 3256, 'dancing': 3257, 'improve': 3258, 'testing': 3259, 'cleaning': 3260, '09061743806': 3261, 'box326': 3262, 'ham': 3263, 'literally': 3264, '2go': 3265, '4a': 3266, 'pee': 3267, '41685': 3268, '07': 3269, 'solved': 3270, 'algarve': 3271, 'cancelled': 3272, \"'maangalyam\": 3273, \"alaipayuthe'\": 3274, 'philosophy': 3275, 'fml': 3276, 'tool': 3277, 'transfr': 3278, 'ias': 3279, 'birth': 3280, 'rajipls': 3281, 'nimya': 3282, 'hahahause': 3283, 'brain': 3284, 'wishin': 3285, 'sue': 3286, '89555': 3287, 'textoperator': 3288, 'macho': 3289, 'range': 3290, 'buffet': 3291, '24hrs': 3292, 'pool': 3293, 'necessarily': 3294, 'secretly': 3295, 'datebox1282essexcm61xn': 3296, 'amongst': 3297, 'jordan': 3298, '88600': 3299, 'pocketbabecouk': 3300, '4eva': 3301, 'breath': 3302, 'heri': 3303, 'craziest': 3304, 'herlove': 3305, 'sorted': 3306, 'control': 3307, '0808': 3308, '145': 3309, '4742': 3310, '11pm': 3311, 'konw': 3312, 'waht': 3313, 'rael': 3314, 'gving': 3315, 'exmpel': 3316, 'jsut': 3317, 'evrey': 3318, 'splleing': 3319, 'wrnog': 3320, 'sitll': 3321, 'raed': 3322, 'wihtuot': 3323, 'ayn': 3324, 'mitsake': 3325, 'sleepsweet': 3326, 'os': 3327, 'callfreefone': 3328, '08081560665': 3329, 'ofå£2000': 3330, '07786200117': 3331, 'bruv': 3332, 'rewarding': 3333, 'prepared': 3334, '09058094565': 3335, 'picture': 3336, 'infections': 3337, '69669': 3338, 'serving': 3339, 'staring': 3340, 'ruining': 3341, 'kavalan': 3342, 'size': 3343, 'massive': 3344, 'guessing': 3345, 'spoiled': 3346, 'lo': 3347, 'hol': 3348, '08002888812': 3349, 'speaking': 3350, 'staff': 3351, 'placement': 3352, 'anythin': 3353, 'benefits': 3354, '09058094599': 3355, 'haiz': 3356, 'realise': 3357, 'itåõs': 3358, 'iåõm': 3359, 'cm': 3360, 'admin': 3361, 'slightly': 3362, '88877': 3363, 'sn': 3364, 'licks': 3365, 'cheaper': 3366, 'rooms': 3367, '4882': 3368, '09064019014': 3369, 'mess': 3370, 'whatsup': 3371, 'woken': 3372, 'prefer': 3373, 'tues': 3374, 'sian': 3375, 'fret': 3376, 'ovulation': 3377, 'mmmmm': 3378, 'aiya': 3379, 'properly': 3380, 'phoned': 3381, 'fifteen': 3382, 'liverpool': 3383, 'ni8swt': 3384, '0871': 3385, 'box95qu': 3386, 'shoot': 3387, 'catching': 3388, 'diff': 3389, 'mac': 3390, 'usb': 3391, 'flash': 3392, 'disturbing': 3393, 'kappa': 3394, 'miserable': 3395, 'halloween': 3396, '0844': 3397, '861': 3398, 'prepayment': 3399, 'lower': 3400, \"there're\": 3401, 'shock': 3402, 'smith': 3403, 'boye': 3404, 'sky': 3405, 'team': 3406, 'premium': 3407, 'speedchat': 3408, 'ey': 3409, 'calm': 3410, 'up4': 3411, 'rocks': 3412, 'gender': 3413, 'hrishi': 3414, 'postcode': 3415, 'sheffield': 3416, 'conducts': 3417, 'difference': 3418, 'knock': 3419, 'whose': 3420, '80082': 3421, 'oi': 3422, 'ummmmmaah': 3423, 'dumb': 3424, 'tirupur': 3425, 'most': 3426, 'meets': 3427, 'brief': 3428, 'remain': 3429, 'andros': 3430, 'agalla': 3431, 'necklace': 3432, 'jokin': 3433, 'reaction': 3434, 'seat': 3435, 'superb': 3436, 'opportunity': 3437, 'beauty': 3438, 'tscs087147403231winawkage16': 3439, 'distract': 3440, 'eighth': 3441, 'ke': 3442, 'maga': 3443, 'crap': 3444, 'dealing': 3445, 'pattern': 3446, 'gentleman': 3447, 'dignity': 3448, 'respect': 3449, 'thursday': 3450, 'map': 3451, 'blessed': 3452, 'value': 3453, 'realized': 3454, 'sundaysunday': 3455, 'holidayso': 3456, 'pole': 3457, '80086': 3458, 'wwwtxttowincouk': 3459, 'ahsen': 3460, 'aunt': 3461, 'ned': 3462, 'argh': 3463, 'atlanta': 3464, 'silence': 3465, 'forgets': 3466, 'wan2': 3467, 'westlife': 3468, 'm8': 3469, '1unbreakable': 3470, '2untamed': 3471, '3unkempt': 3472, '83049': 3473, 'throat': 3474, 'pissed': 3475, 'vegas': 3476, 'lives': 3477, 'success': 3478, 'having': 3479, 'tahan': 3480, 'anot': 3481, 'quizwin': 3482, 'duchess': 3483, '82277unsub': 3484, '008704050406': 3485, 'quote': 3486, 'cartoon': 3487, 'express': 3488, '09061744553': 3489, 'polyh': 3490, 'joining': 3491, 'finance': 3492, 'table': 3493, 'inconsiderate': 3494, 'nag': 3495, 'recession': 3496, 'hence': 3497, \"month's\": 3498, 'legs': 3499, 'shy': 3500, 'science': 3501, 'sunlight': 3502, 'loss': 3503, 'invest': 3504, 'tension': 3505, 'odi': 3506, 'åð': 3507, 'mb': 3508, 'talent': 3509, 'expression': 3510, 'havenåõt': 3511, 'jolly': 3512, 'pull': 3513, 'confidence': 3514, 'ding': 3515, 'jsco': 3516, 'jeans': 3517, 'child': 3518, 'sight': 3519, 'plaza': 3520, '7ish': 3521, '2waxsto': 3522, 'lately': 3523, 'tlk': 3524, 'pending': 3525, 'spare': 3526, 'forgotten': 3527, 'thousands': 3528, '09': 3529, 'colours': 3530, 'earn': 3531, 'fran': 3532, 'ps': 3533, 'slip': 3534, 'prescription': 3535, 'donåõt': 3536, 'natalja': 3537, 'nat27081980': 3538, 'saucy': 3539, 'pre': 3540, 'detroit': 3541, 'alfie': 3542, \"moon's\": 3543, 'm8s': 3544, 'nokias': 3545, '08701417012': 3546, 'teaching': 3547, 'shu': 3548, 'yeshere': 3549, 'lousy': 3550, 'british': 3551, 'hotels': 3552, 'sw73ss': 3553, 'potter': 3554, 'phoenix': 3555, 'harry': 3556, 'readers': 3557, 'bec': 3558, 'temple': 3559, 'mystery': 3560, 'sweetie': 3561, 'furniture': 3562, 'pap': 3563, 'swatch': 3564, 'teeth': 3565, 'indeed': 3566, 'ws': 3567, 'spell': 3568, 'sptv': 3569, 'tmrw': 3570, 'arent': 3571, 'bright': 3572, 'despite': 3573, 'bowl': 3574, 'annoying': 3575, 'durban': 3576, \"priscilla's\": 3577, '900': 3578, 'neck': 3579, 'offerthe': 3580, 'nokia6650': 3581, '81151': 3582, '4tctxt': 3583, 'mtmsg': 3584, 'sales': 3585, 'aom': 3586, 'gram': 3587, 'madam': 3588, 'luxury': 3589, 'canary': 3590, 'islands': 3591, \"roommate's\": 3592, '21870000': 3593, 'mailbox': 3594, 'messaging': 3595, '09056242159': 3596, 'retrieve': 3597, 'buzy': 3598, 'seven': 3599, '2morro': 3600, 'randy': 3601, '3mins': 3602, 'clock': 3603, 'desires': 3604, 'seconds': 3605, 'virgin': 3606, '81303': 3607, 'hide': 3608, 'yck': 3609, 'soo': 3610, 'format': 3611, 'imp': 3612, 'boyfriend': 3613, 'bein': 3614, 'reasonable': 3615, 'waves': 3616, 'cleared': 3617, 'fastest': 3618, 'growing': 3619, 'bags': 3620, 'eggs': 3621, 'stars': 3622, 'ideal': 3623, 'xxxx': 3624, '3100': 3625, 'refilled': 3626, 'inr': 3627, 'keralacircle': 3628, 'prepaid': 3629, 'kr': 3630, 'constantly': 3631, 'ear': 3632, 'upset': 3633, 'juan': 3634, 'laughing': 3635, 'ericsson': 3636, 'bud': 3637, 'push': 3638, '40533': 3639, '31': 3640, 'formclark': 3641, 'utter': 3642, 'lyfu': 3643, 'lyf': 3644, 'meow': 3645, 'blind': 3646, 'cuddling': 3647, 'stick': 3648, 'impossible': 3649, 'commercial': 3650, 'removed': 3651, 'abta': 3652, '326': 3653, 'bite': 3654, 'mca': 3655, 'ela': 3656, \"mum's\": 3657, 'garage': 3658, 've': 3659, 'keys': 3660, 'purse': 3661, 'indicate': 3662, 'pink': 3663, 'wallpaper': 3664, 'talks': 3665, 'lk': 3666, 'noun': 3667, 'welp': 3668, 'tog': 3669, \"friend's\": 3670, 'necessary': 3671, 'effects': 3672, 'gorgeous': 3673, 'loans': 3674, 'tons': 3675, 'straight': 3676, '09050003091': 3677, 'c52': 3678, 'nuther': 3679, '09094646899': 3680, 'vu': 3681, 'bcm1896wc1n3xx': 3682, '08000776320': 3683, 'nothin': 3684, 'ba': 3685, 'pobox45w2tg150p': 3686, 'woot': 3687, 'northampton': 3688, 'bids': 3689, 'goldviking': 3690, '762': 3691, 'rcv': 3692, '0870k': 3693, '7250': 3694, 'tok': 3695, 'west': 3696, 'geeeee': 3697, 'fights': 3698, 'coins': 3699, 'needed': 3700, 'poker': 3701, 'swoop': 3702, 'outta': 3703, 'cars': 3704, 'arts': 3705, 'church': 3706, 'med': 3707, 'unnecessarily': 3708, 'pouch': 3709, 'å£1250': 3710, '09071512433': 3711, '050703': 3712, 'tcsbcm4235wc1n3xx': 3713, 'callcost': 3714, 'mobilesvary': 3715, 'clothes': 3716, 'drunken': 3717, 'officially': 3718, 'hang': 3719, 'death': 3720, 'note': 3721, 'paris': 3722, 'flight': 3723, 'jogging': 3724, '08718730666': 3725, 'transfer': 3726, 'partnership': 3727, 'funk': 3728, 'tones2u': 3729, 'foley': 3730, 'prizes': 3731, 'wwwwin': 3732, '82050couk': 3733, 'charles': 3734, 'relatives': 3735, 'neft': 3736, 'beneficiary': 3737, 'lie': 3738, 'coat': 3739, 'fees': 3740, 'front': 3741, 'approx': 3742, 'nahi': 3743, 'wo': 3744, 'jo': 3745, 'appreciated': 3746, 'creepy': 3747, 'into': 3748, 'pieces': 3749, 'picsfree1': 3750, '09058091854': 3751, 'box385': 3752, 'm6': 3753, '6wu': 3754, 'secretary': 3755, 'blessing': 3756, 'ure': 3757, 'loveme': 3758, 'apart': 3759, 'sry': 3760, 'lag': 3761, 'miles': 3762, 'steam': 3763, 'uh': 3764, '40': 3765, 'nowi': 3766, 'lux': 3767, 'romantic': 3768, 'moves': 3769, 'flies': 3770, 'thanksgiving': 3771, 'tacos': 3772, 'whn': 3773, 'neither': 3774, 'oooh': 3775, 'habit': 3776, 'nan': 3777, 'than': 3778, 'parking': 3779, 'concert': 3780, 'cooked': 3781, 'several': 3782, 'fav': 3783, 'edison': 3784, 'rightly': 3785, 'wise': 3786, 'viva': 3787, 'block': 3788, 'hill': 3789, 'divorce': 3790, 'mas': 3791, 'havin': 3792, 'mouth': 3793, 'channel': 3794, 'upstairs': 3795, 'beware': 3796, 'hint': 3797, 'ptbo': 3798, 'looked': 3799, 'otside': 3800, '09066364311': 3801, 'mesages': 3802, 'loyal': 3803, 'customers': 3804, '09066380611': 3805, 'james': 3806, 'specific': 3807, 'dime': 3808, 'ee': 3809, 'thot': 3810, 'wwwe': 3811, 'tlpcouk': 3812, 'becomes': 3813, 'location': 3814, '1hr': 3815, '69698': 3816, 'drunk': 3817, 'count': 3818, 'decimal': 3819, 'mostly': 3820, 'favorite': 3821, 'tt': 3822, 'academic': 3823, 'coast': 3824, '08719181513': 3825, 'å£6': 3826, 'tortilla': 3827, 'lucy': 3828, 'urn': 3829, '89070': 3830, 'mumtaz': 3831, \"mumtaz's\": 3832, 'goal': 3833, 'henry': 3834, 'emailed': 3835, 'yifeng': 3836, '08448350055': 3837, 'planettalkinstantcom': 3838, 'hassling': 3839, 'andres': 3840, 'haughaighgtujhyguj': 3841, 'inconvenient': 3842, 'dependents': 3843, 'quitting': 3844, 'least5times': 3845, \"wudn't\": 3846, 'memorable': 3847, 'packing': 3848, 'officestill': 3849, 'formsdon': 3850, 'kgive': 3851, 'bbq': 3852, '6ish': 3853, 'sigh': 3854, 'lipo': 3855, 'dorothykiefercom': 3856, 'chikkuwat': 3857, 'hundredhe': 3858, 'batsman': 3859, 'mw': 3860, 'tuth': 3861, 'folks': 3862, '2nights': 3863, 'uve': 3864, 'xchat': 3865, 'wildest': 3866, 'msgrcvdhg': 3867, '18yrs': 3868, 'dearme': 3869, 'cherthalain': 3870, 'bfore': 3871, 'starti': 3872, 'accordinglyor': 3873, 'comingtmorow': 3874, 'engaged': 3875, 'nange': 3876, 'bakra': 3877, 'kalstiyathen': 3878, 'wesleys': 3879, 'convenience': 3880, 'magic': 3881, 'loose': 3882, 'ammaelife': 3883, 'steering': 3884, 'jog': 3885, 'dentist': 3886, 'blastin': 3887, 'occur': 3888, 'rajnikant': 3889, 'ocean': 3890, 'sticky': 3891, 'cook': 3892, 'cloud': 3893, 'arty': 3894, 'collages': 3895, 'tryin': 3896, 'poorly': 3897, 'punishment': 3898, 'brb': 3899, 'kill': 3900, 'thout': 3901, '850': 3902, '650': 3903, 'dahow': 3904, 'develop': 3905, 'goigng': 3906, 'perfume': 3907, '100p': 3908, 'cocksuckers': 3909, 'ipads': 3910, 'worthless': 3911, 'novelty': 3912, 'soz': 3913, 'imat': 3914, 'mums': 3915, 'flyng': 3916, 'aries': 3917, 'hppnss': 3918, 'sorrow': 3919, 'forevr': 3920, 'goodfriend': 3921, 'ax': 3922, 'x2': 3923, 'kthen': 3924, 'wenever': 3925, '80160': 3926, 'wwwtxt43com': 3927, 'prometazine': 3928, 'syrup': 3929, '5mls': 3930, 'feed': 3931, 'gam': 3932, '74355': 3933, 'wlcome': 3934, '2814032': 3935, '3xå£150pw': 3936, 'eå£nd': 3937, 'identification': 3938, 'å£125': 3939, 'freeentry': 3940, 'xt': 3941, 'fried': 3942, 'spares': 3943, 'looovvve': 3944, 'perform': 3945, 'inperialmusic': 3946, 'listening2the': 3947, 'byåóleafcutter': 3948, 'johnåó': 3949, 'insects': 3950, 'molestedsomeone': 3951, 'plumbingremixed': 3952, 'evil': 3953, 'acid': 3954, '415': 3955, 'w4': 3956, '5wq': 3957, 'cab': 3958, 'availablethey': 3959, 'steps': 3960, 'swashbuckling': 3961, 'jelly': 3962, 'jade': 3963, 'paul': 3964, 'barmed': 3965, 'soul': 3966, 'spark': 3967, 'rawring': 3968, 'xoxo': 3969, 'dismissial': 3970, 'grinule': 3971, 'arrived': 3972, \"yetty's\": 3973, 'lmaonice': 3974, 'bffs': 3975, 'carly': 3976, \"audrey's\": 3977, 'status': 3978, 'fifth': 3979, 'woozles': 3980, 'weasels': 3981, 'exeter': 3982, 'daplease': 3983, 'go2sri': 3984, 'lanka': 3985, 'burial': 3986, 'debating': 3987, 'l8': 3988, 'gon': 3989, 'ay': 3990, 'satì': 3991, 'wkg': 3992, 'eastenders': 3993, 'dot': 3994, 'compare': 3995, 'violet': 3996, 'tulip': 3997, 'lily': 3998, 'wkent': 3999, '150p16': 4000, 'strongly': 4001, 'creativity': 4002, 'stifled': 4003, 'rules': 4004, 'bend': 4005, 'thia': 4006, 'inlude': 4007, 'previews': 4008, \"anybody's\": 4009, 'tactful': 4010, 'superior': 4011, 'wamma': 4012, 'laidwant': 4013, 'doggin': 4014, 'dogs': 4015, '69696': 4016, 'nownyt': 4017, '3lp': 4018, 'wwwtxt': 4019, 'shopcom': 4020, 'slaaaaave': 4021, 'summon': 4022, '09064012103': 4023, 'topped': 4024, 'wwwbubbletextcom': 4025, 'tgxxrz': 4026, 'stubborn': 4027, 'sucker': 4028, 'suckers': 4029, 'parentsi': 4030, 'wheellock': 4031, 'recorder': 4032, 'canname': 4033, 'australia': 4034, 'mquiz': 4035, 'taxi': 4036, 'jamsterget': 4037, 'frog': 4038, 'mad1': 4039, 'mad2': 4040, 'zac': 4041, 'glo': 4042, 'raviyog': 4043, 'peripherals': 4044, 'bhayandar': 4045, 'gyno': 4046, 'belong': 4047, '9996': 4048, '14thmarch': 4049, 'availa': 4050, 'general': 4051, 'belongs': 4052, 'herwho': 4053, 'fated': 4054, 'shoranur': 4055, 'fuelled': 4056, 'concern': 4057, 'prior': 4058, 'grief': 4059, 'against': 4060, 'drpd': 4061, 'deeraj': 4062, 'deepak': 4063, 'recpt': 4064, 'justbeen': 4065, 'overa': 4066, 'brains': 4067, 'mush': 4068, 'documents': 4069, 'submitted': 4070, 'stapati': 4071, 'tape': 4072, 'attracts': 4073, 'coco': 4074, 'buttons': 4075, 'beside': 4076, 'thread': 4077, 'chillaxin': 4078, 'lyricalladie': 4079, 'hmmross': 4080, 'gsex': 4081, '2667': 4082, 'wc1n': 4083, '3xx': 4084, 'ujhhhhhhh': 4085, 'sandiago': 4086, 'parantella': 4087, 'poop': 4088, 'jaykwon': 4089, 'thuglyfe': 4090, 'falconerf': 4091, '24th': 4092, '083': 4093, '6089': 4094, '1526': 4095, 'jide': 4096, 'visiting': 4097, 'objection': 4098, 'hunt': 4099, 'salam': 4100, 'wahleykkumsharing': 4101, 'newsby': 4102, 'grace': 4103, 'tayseertissco': 4104, 'joinedhope': 4105, 'fineinshah': 4106, 'allahmeet': 4107, 'sometimerakheshvisitor': 4108, 'toyota': 4109, 'camry': 4110, \"olayiwola's\": 4111, 'mileage': 4112, 'kits': 4113, 'landing': 4114, 'southern': 4115, 'nearer': 4116, 'x29': 4117, '09065989180': 4118, 'lim': 4119, 'perf': 4120, 'senthil': 4121, 'apnt': 4122, 'practice': 4123, '28th': 4124, 'anand': 4125, 'guessin': 4126, 'lip': 4127, 'caveboy': 4128, 'treated': 4129, 'digi': 4130, 'coupla': 4131, 'wks': 4132, 'punish': 4133, 'entirely': 4134, 'woo': 4135, 'hoo': 4136, 'cousin': 4137, 'knowhe': 4138, 'nigh': 4139, 'familymay': 4140, 'stability': 4141, 'tranquility': 4142, 'vibrant': 4143, 'colourful': 4144, '09090204448': 4145, 'minded': 4146, 'aå£150': 4147, 'minapn': 4148, 'ls278bb': 4149, 'windy': 4150, '88039skilgmetscs087147403231winawkage16': 4151, 'restocked': 4152, 'broken': 4153, 'heroi': 4154, 'apt': 4155, 'opportunitypls': 4156, 'ltemailgt': 4157, 'toilet': 4158, 'stolen': 4159, 'cops': 4160, 'bcaz': 4161, 'buzzzz': 4162, 'vibrator': 4163, 'shake': 4164, 'ibored': 4165, 's8': 4166, 'returning': 4167, 'dado': 4168, 'lib': 4169, 'inever': 4170, 'requests': 4171, '1stchoicecouk': 4172, '08707808226': 4173, 'bhaskar': 4174, 'forgive': 4175, 'dept': 4176, '08717507382': 4177, 'itmail': 4178, 'panren': 4179, 'paru': 4180, 'bognor': 4181, 'splendid': 4182, 'youdearwith': 4183, 'loverakhesh': 4184, 'nri': 4185, 'quarter': 4186, 'internal': 4187, 'extract': 4188, \"shit's\": 4189, 'wifi': 4190, 'ipad': 4191, 'ello': 4192, '80488': 4193, 'ability': 4194, 'lara': 4195, 'natwest': 4196, '08708800282': 4197, 'cartons': 4198, 'shelves': 4199, 'hundreds': 4200, 'handsomes': 4201, 'beauties': 4202, 'aunties': 4203, 'excused': 4204, 'twinks': 4205, 'scallies': 4206, 'skins': 4207, 'jocks': 4208, '08712466669': 4209, 'sq825': 4210, 'arrival': 4211, 'velly': 4212, 'gent': 4213, '09064012160': 4214, 'guides': 4215, '07008009200': 4216, 'sink': 4217, 'paces': 4218, 'cage': 4219, 'surrounded': 4220, 'cuck': 4221, 'gist': 4222, 'stalk': 4223, 'profiles': 4224, 'worrying': 4225, 'quizzes': 4226, 'popcorn': 4227, 'ryder': 4228, 'unsoldnow': 4229, 'gibbs': 4230, 'brolly': 4231, 'franxx': 4232, 'easiest': 4233, 'barcelona': 4234, 'ducking': 4235, 'chinchillas': 4236, 'shoes': 4237, 'computerless': 4238, 'oreo': 4239, 'truffles': 4240, 'huiming': 4241, 'notified': 4242, 'marketing': 4243, '84122': 4244, '08450542832': 4245, 'gained': 4246, 'pressure': 4247, 'limits': 4248, 'avo': 4249, 'hellogorgeous': 4250, 'nitw': 4251, 'texd': 4252, 'hopeu': 4253, '4ward': 4254, 'jaz': 4255, 'ku': 4256, 'tops': 4257, 'thkin': 4258, 'knowwait': 4259, 'gudnitetcpractice': 4260, 'aslamalaikkuminsha': 4261, 'tohar': 4262, 'beeen': 4263, 'muht': 4264, 'albi': 4265, 'mufti': 4266, 'mahfuuzmeaning': 4267, 'mention': 4268, 'served': 4269, 'rub': 4270, 'outbid': 4271, 'simonwatson5120': 4272, 'shinco': 4273, 'plyr': 4274, 'smsrewards': 4275, 'notifications': 4276, 'swimsuit': 4277, 'dock': 4278, 'rolled': 4279, 'newscaster': 4280, 'dabbles': 4281, 'flute': 4282, 'wheel': 4283, '98321561': 4284, 'familiar': 4285, 'jontin': 4286, 'glorious': 4287, 'finds': 4288, 'coaxing': 4289, 'images': 4290, 'fond': 4291, 'souveniers': 4292, 'cougar': 4293, '674': 4294, 'shell': 4295, 'unconsciously': 4296, 'unhappy': 4297, 'neighbors': 4298, 'gudnite': 4299, 'funky': 4300, 'panasonic': 4301, 'bluetoothhdset': 4302, 'doublemins': 4303, 'doubletxt': 4304, 'receipts\\x89ûówell': 4305, 'what\\x89û÷s': 4306, 'youkwhere': 4307, 'fwiw': 4308, 'afford': 4309, 'pocked': 4310, 'photoshop': 4311, '85222': 4312, 'nowtcs': 4313, 'winnersclub': 4314, '84': 4315, 'gbp150': 4316, 'nervous': 4317, 'fired': 4318, 'figuring': 4319, 'roomate': 4320, 'graduated': 4321, 'smash': 4322, 'religiously': 4323, 'mokka': 4324, 'narcotics': 4325, 'assumed': 4326, 'blimey': 4327, 'exercise': 4328, '0789xxxxxxx': 4329, 'juliana': 4330, '730ish': 4331, '2u2': 4332, 'waliking': 4333, '08452810071': 4334, 'broadband': 4335, 'installation': 4336, 'leading': 4337, '151': 4338, 'pause': 4339, '08718726270': 4340, 'heaven': 4341, 'princegn': 4342, 'nitros': 4343, 'fishrman': 4344, 'sack': 4345, 'strtd': 4346, 'throwin': 4347, '1stone': 4348, \"mrng''\": 4349, 'crossing': 4350, 'raiden': 4351, 'mobs': 4352, 'breathe1': 4353, 'crazyin': 4354, 'sleepingwith': 4355, 'finest': 4356, 'ymca': 4357, 'getzedcouk': 4358, 'pobox365o4w45wq': 4359, 'brother\\x89û÷s': 4360, 'scraped': 4361, 'barrel': 4362, 'misfits': 4363, 'jp': 4364, 'mofo': 4365, 'kyou': 4366, 'reception': 4367, 'referin': 4368, \"mei's\": 4369, 'liaoso': 4370, 'snap': 4371, 'quizclub': 4372, '80122300p': 4373, 'sprwm': 4374, 'ph08704050406': 4375, 'ben': 4376, 'lul': 4377, 'nurses': 4378, 'obese': 4379, 'oyea': 4380, 'grumble': 4381, 'data': 4382, 'analysis': 4383, 'greatness': 4384, 'browser': 4385, 'surf': 4386, '3mobile': 4387, 'chatlines': 4388, 'inclu': 4389, 'servs': 4390, 'l8er': 4391, 'mega': 4392, 'bailiff': 4393, 'proze': 4394, 'norcorp': 4395, 'ltdå£150': 4396, \"how're\": 4397, 'throwing': 4398, 'compliments': 4399, 'grinder': 4400, '08715205273': 4401, 'donno': 4402, 'scorable': 4403, 'kkwhat': 4404, 'detail': 4405, 'transferacc': 4406, 'rdy': 4407, 'ship': 4408, 'gage': 4409, 'deck': 4410, 'wwwcnupdatescom': 4411, 'newsletter': 4412, 'alerts': 4413, 'dramatic': 4414, 'hmmmkbut': 4415, 'punto': 4416, 'woulda': 4417, 'safely': 4418, 'tp': 4419, '09096102316': 4420, 'minmoremobsemspobox45po139wa': 4421, 'butting': 4422, 'vs': 4423, 'every1': 4424, 'ava': 4425, 'goodtimeoli': 4426, 'melnite': 4427, 'ifink': 4428, 'sortedbut': 4429, 'everythin': 4430, 'monl8rsx': 4431, 'jason': 4432, '6230': 4433, 'pobox114': 4434, '14tcr': 4435, '08718723815': 4436, '09058097189': 4437, 'invitation': 4438, 'cali': 4439, \"bloke's\": 4440, 'weddin': 4441, 'resolution': 4442, 'replybe': 4443, 'frankgood': 4444, 'meat': 4445, 'supreme': 4446, '077xxx': 4447, '09066362206': 4448, 'dhoni': 4449, 'titleso': 4450, 'dislikes': 4451, 'olol': 4452, 'forum': 4453, 'gpu': 4454, 'hearing': 4455, 'nearly': 4456, 'deadwell': 4457, 'jez': 4458, 'todo': 4459, 'workand': 4460, 'whilltake': 4461, 'lovin': 4462, '448712404000': 4463, '08712404000': 4464, \"weather's\": 4465, 'atleast': 4466, 'shakespeare': 4467, 'allday': 4468, 'deny': 4469, 'meaningful': 4470, 'compromised': 4471, 'agent': 4472, 'goodies': 4473, 'mat': 4474, '87021': 4475, 'beneath': 4476, 'pale': 4477, 'firmware': 4478, 'spaces': 4479, 'embassy': 4480, '2006': 4481, 'fifa': 4482, '2price': 4483, 'mins100txt': 4484, \"b'tooth\": 4485, 'd3wv': 4486, 'ilol': 4487, 'personally': 4488, 'wuldnt': 4489, 'chloe': 4490, 'optin': 4491, 'bbc': 4492, 'charts': 4493, 'foned': 4494, 'chuck': 4495, \"you'd\": 4496, 'tag': 4497, 'bras': 4498, 'strewn': 4499, 'pillows': 4500, 'handed': 4501, 'celebrations': 4502, 'suppose': 4503, 'brdget': 4504, 'jones': 4505, 'univ': 4506, 'shitstorm': 4507, 'attributed': 4508, 'thx': 4509, 'pure': 4510, 'hearted': 4511, 'enemies': 4512, 'smiley': 4513, 'lips': 4514, 'teluguthts': 4515, 'resuming': 4516, 'reapply': 4517, 'womdarfull': 4518, 'actor': 4519, '120': 4520, 'teethif': 4521, 'asapok': 4522, 'desperate': 4523, 'gokila': 4524, 'truekdo': 4525, 'enna': 4526, 'kalaachutaarama': 4527, 'sfrom': 4528, 'manual': 4529, 'tech': 4530, 'processits': 4531, 'reset': 4532, 'troubleshooting': 4533, 'refund': 4534, 'reunion': 4535, 'randomlly': 4536, 'flatter': 4537, 'pints': 4538, 'carlin': 4539, 'splwat': 4540, 'whr': 4541, 'f4q': 4542, 'errors': 4543, 'correction': 4544, 'grumpy': 4545, 'lying': 4546, 'programs': 4547, 'stated': 4548, \"gumby's\": 4549, 'kkthis': 4550, 'kotees': 4551, '07090298926': 4552, 'ref9307622': 4553, 'affidavit': 4554, 'twiggs': 4555, 'courtroom': 4556, 'chikkuil': 4557, 'closes': 4558, 'revealing': 4559, 'itxx': 4560, 'goodmorningmy': 4561, 'grandfather': 4562, 'expiredso': 4563, 'invention': 4564, \"flyi'm\": 4565, 'bani': 4566, 'alsoor': 4567, 'jaya': 4568, 'uncomfortable': 4569, 'dub': 4570, 'je': 4571, 'neshanthtel': 4572, 'vco': 4573, 'although': 4574, 'eventually': 4575, 'tolerance': 4576, 'hits': 4577, 'beta': 4578, 'flurries': 4579, 'recognises': 4580, 'bomb': 4581, 'timeslil': 4582, 'busyi': 4583, 'africa': 4584, 'avin': 4585, 'vldo': 4586, 'adsense': 4587, 'approved': 4588, 'cried': 4589, 'cutie': 4590, 'wales': 4591, 'hills': 4592, 'myself': 4593, 'greatbye': 4594, 'operate': 4595, 'studyn': 4596, 'busetop': 4597, 'settling': 4598, 'happenin': 4599, 'silly': 4600, 'isn\\x89û÷t': 4601, 'firsg': 4602, 'gravel': 4603, '31pmsg150p': 4604, 'victoria': 4605, 'island': 4606, 'certificate': 4607, 'publish': 4608, 'reserve': 4609, 'thirunelvali': 4610, 'evei': 4611, 'netno': 4612, 'availablei': 4613, 'tackle': 4614, 'tease': 4615, 'drunkard': 4616, 'meatballs': 4617, 'taught': 4618, 'becaus': 4619, 'verifying': 4620, 'prabu': 4621, 'probs': 4622, 'doinat': 4623, 'bar': 4624, 'darlinim': 4625, 'soonxxx': 4626, 'caring': 4627, 'slippery': 4628, 'interested': 4629, 'clash': 4630, 'brainy': 4631, 'nannys': 4632, 'offense': 4633, 'sd': 4634, 'overtime': 4635, 'nigpun': 4636, 'kilos': 4637, 'sporadically': 4638, 'configure': 4639, '0anetworks': 4640, 'companies': 4641, 'responsible': 4642, 'suppliers': 4643, 'obey': 4644, 'infront': 4645, 'honeymoon': 4646, 'outfit': 4647, 'kane': 4648, 'shud': 4649, 'drizzling': 4650, 'nonenowhere': 4651, 'ikno': 4652, 'doesdiscountshitinnit': 4653, 'motivate': 4654, 'darkness': 4655, \"ashley's\": 4656, '09066649731from': 4657, 'financial': 4658, 'problemi': 4659, 'praps': 4660, 'natalie': 4661, 'natalie2k9': 4662, 'nigro': 4663, 'payasam': 4664, 'rinu': 4665, 'adventuring': 4666, 'howda': 4667, 'mathe': 4668, 'samachara': 4669, 'luton': 4670, '0125698789': 4671, 'h': 4672, 'freaky': 4673, 'lacking': 4674, 'particular': 4675, \"dramastorm's\": 4676, 'parts': 4677, 'massages': 4678, 'comingdown': 4679, 'loosu': 4680, 'careless': 4681, 'impressively': 4682, 'sensible': 4683, 'receipts': 4684, 'pendent': 4685, 'peteis': 4686, 'leannewhat': 4687, 'north': 4688, 'carolina': 4689, 'texas': 4690, 'gre': 4691, 'x49your': 4692, 'fumbling': 4693, 'offering': 4694, 'learned': 4695, 'fake': 4696, 'nearby': 4697, 'cliffs': 4698, '07801543489': 4699, 'latests': 4700, 'wordcollect': 4701, 'no83355': 4702, 'llc': 4703, 'ny': 4704, 'usa': 4705, 'msgrcvd18': 4706, '84128': 4707, 'stuffed': 4708, 'writhing': 4709, '44': 4710, '7732584351': 4711, 'evry': 4712, 'emotion': 4713, 'wordsevry': 4714, 'prayrs': 4715, 'uothrwise': 4716, 'uso': 4717, \"1000's\": 4718, 'zoe': 4719, 'burgundy': 4720, 'captaining': 4721, 'module': 4722, 'humanities': 4723, '08715203652': 4724, '42810': 4725, 'stands': 4726, 'nitz': 4727, 'dent': 4728, 'passable': 4729, 'phd': 4730, '5years': 4731, 'garden': 4732, 'bulbs': 4733, 'seeds': 4734, 'å£3350': 4735, 'scotsman': 4736, 'go2': 4737, 'notxtcouk': 4738, 'spoons': 4739, 'worlds': 4740, '83110': 4741, 'smokin': 4742, 'rearrange': 4743, 'dormitory': 4744, 'astronomer': 4745, 'starer': 4746, 'election': 4747, 'lies': 4748, 'recount': 4749, 'hitler': 4750, 'eleven': 4751, 'opportunityall': 4752, 'fastpls': 4753, 'prayers': 4754, 'dearrakhesh': 4755, 'french': 4756, 'fooled': 4757, 'gnarls': 4758, 'barkleys': 4759, 'talents': 4760, 'dearly': 4761, '449': 4762, 'bundle': 4763, 'deals': 4764, 'avble': 4765, 'mf': 4766, 'atten': 4767, 'kkadvance': 4768, 'tarot': 4769, '85555': 4770, 'deduct': 4771, 'nowsavamob': 4772, 'multimedia': 4773, 'kfc': 4774, 'meals': 4775, 'gravy': 4776, 'jumpers': 4777, 'hat': 4778, 'belt': 4779, 'cribbs': 4780, 'base': 4781, 'flavour': 4782, \"unicef's\": 4783, 'asian': 4784, 'tsunami': 4785, 'disaster': 4786, 'fund': 4787, '864233': 4788, 'offline': 4789, \"anjola's\": 4790, 'ic': 4791, 'posting': 4792, 'chennaibecause': 4793, 'perumbavoor': 4794, 'applebees': 4795, 'sized': 4796, 'antelope': 4797, 'toplay': 4798, 'fieldof': 4799, 'selfindependence': 4800, 'contention': 4801, 'growrandom': 4802, 'gep': 4803, 'msgwe': 4804, 'shortcode': 4805, '83332please': 4806, '08081263000': 4807, 'refundedthis': 4808, 'deam': 4809, 'fucks': 4810, 'establish': 4811, 'directors': 4812, 'lac': 4813, 'deposited': 4814, \"'taxless'\": 4815, 'suply': 4816, 'projects': 4817, 'imf': 4818, 'blocked': 4819, 'corrupt': 4820, 'itna': 4821, 'karo': 4822, 'pura': 4823, 'padhegm': 4824, 'symptoms': 4825, '1u': 4826, '3u': 4827, 'hellohow': 4828, 'doingwhat': 4829, '2when': 4830, 'lamp': 4831, 'caroline': 4832, 'trek': 4833, 'ball': 4834, 'spin': 4835, 'missy': 4836, 'gmw': 4837, 'connected': 4838, 'pshewmissing': 4839, 'evaporated': 4840, 'stealing': 4841, \"employer's\": 4842, 'converter': 4843, 'zoom': 4844, 'stupidits': 4845, \"'need'\": 4846, \"'comfort'\": 4847, \"'luxury'\": 4848, 'sold': 4849, 'onion': 4850, 'petrol': 4851, 'idc': 4852, 'weaseling': 4853, 'wwwt': 4854, 'cbiz': 4855, 'polo': 4856, '373': 4857, 'w1j': 4858, '6hl': 4859, 'jap': 4860, 'slower': 4861, 'maniac': 4862, 'designation': 4863, 'developer': 4864, 'youphone': 4865, 'athome': 4866, 'youwanna': 4867, 'escalator': 4868, 'elvis': 4869, 'presleys': 4870, 'treasure': 4871, \"tomocan't\": 4872, 'supose': 4873, 'babysit': 4874, 'therexx': 4875, 'gonnamissu': 4876, 'buttheres': 4877, 'aboutas': 4878, 'merememberin': 4879, 'asthere': 4880, 'ofsi': 4881, 'breakin': 4882, 'yaxx': 4883, '820554ad0a1705572711first': 4884, 'trueåác': 4885, 'ringtoneåá': 4886, 'passthey': 4887, 'silently': 4888, 'ntswt': 4889, 'drms': 4890, '08718727870150ppm': 4891, 'monkeys': 4892, 'mineall': 4893, 'wud': 4894, 'annoyin': 4895, 'choices': 4896, 'toss': 4897, 'gudni8': 4898, 'dayexcept': 4899, 'arestaurant': 4900, 'squid': 4901, 'dosomething': 4902, 'doesnåõt': 4903, 'matric': 4904, 'hesitate': 4905, 'weakness': 4906, 'notebook': 4907, 'crucify': 4908, 'approaching': 4909, 'sankranti': 4910, 'republic': 4911, 'shivratri': 4912, 'ugadi': 4913, 'fools': 4914, 'independence': 4915, 'friendshipmotherfatherteacherschildrens': 4916, 'festival': 4917, 'dasara': 4918, 'mornings': 4919, 'afternoons': 4920, 'rememberi': 4921, \"theseyour's\": 4922, 'raj': 4923, \"åòit's\": 4924, 'flowers': 4925, '505060': 4926, 'nevering': 4927, 'practicing': 4928, 'simpsons': 4929, 'band': 4930, 'professional': 4931, 'tiger': 4932, 'woods': 4933, 'loooooool': 4934, 'couch': 4935, 'celebration': 4936, 'rents': 4937, 'keypad': 4938, 'consensus': 4939, 'mittelschmertz': 4940, 'paracetamol': 4941, 'welli': 4942, '09066364349': 4943, 'box434sk38wp150ppm18': 4944, '09066368753': 4945, '97n7qp': 4946, 'unmits': 4947, \"alex's\": 4948, 'carso': 4949, 'cashto': 4950, '08000407165': 4951, 'getstop': 4952, '88222': 4953, 'php': 4954, 'rg21': 4955, '4jx': 4956, 'studies': 4957, 'anyones': 4958, 'owned': 4959, 'possessive': 4960, 'pounded': 4961, 'hooch': 4962, 'toaday': 4963, 'splat': 4964, 'grazed': 4965, 'knees': 4966, 'lark': 4967, '2hrs': 4968, 'soooo': 4969, 'provider': 4970, 'tming': 4971, 'obedient': 4972, 'mushy': 4973, 'embarrassed': 4974, 'casualty': 4975, 'stuff42moro': 4976, 'includes': 4977, 'volcanoes': 4978, 'erupt': 4979, 'arise': 4980, 'hurricanes': 4981, 'sway': 4982, 'aroundn': 4983, 'disasters': 4984, 'callon': 4985, 'wi': 4986, 'nz': 4987, 'unsold': 4988, \"dad's\": 4989, 'haiyoh': 4990, 'hamster': 4991, 'million': 4992, '08719839835': 4993, 'mgs': 4994, '89123': 4995, 'abeg': 4996, 'sponsors': 4997, 'print': 4998, 'marandratha': 4999, 'leads': 5000, 'gosh': 5001, 'spose': 5002, 'bangbabes': 5003, 'bangb': 5004, 'cheesy': 5005, 'frosty': 5006, 'yijuehotmailcom': 5007, 'amanda': 5008, 'regard': 5009, 'renewing': 5010, 'upgrading': 5011, '3680': 5012, 'subject': 5013, 'toldshe': 5014, 'millers': 5015, 'boooo': 5016, '078': 5017, 'meg': 5018, 'vague': 5019, 'accounting': 5020, 'delayed': 5021, 'housing': 5022, 'agency': 5023, 'renting': 5024, 'usc': 5025, 'propose': 5026, 'coulda': 5027, 'bless': 5028, 'chatim': 5029, 'w8in': 5030, '4utxt': 5031, '82242': 5032, 'hlp': 5033, '08712317606': 5034, 'msg150p': 5035, '2rcv': 5036, 'nobut': 5037, 'footie': 5038, 'phil': 5039, 'neville': 5040, 'sindu': 5041, 'acknowledgement': 5042, 'astoundingly': 5043, 'tactless': 5044, 'oath': 5045, 'veggie': 5046, 'asa': 5047, 'åè10': 5048, 'evey': 5049, 'mnth': 5050, 'propsd': 5051, 'gv': 5052, 'lv': 5053, 'lttrs': 5054, 'threw': 5055, 'aproach': 5056, 'dt': 5057, 'truck': 5058, 'speeding': 5059, 'girld': 5060, \"'hw\": 5061, \"fast'\": 5062, 'thy': 5063, 'lived': 5064, 'happily': 5065, '2gthr': 5066, 'evrydy': 5067, 'msgsd': 5068, 'useless': 5069, \"no's\": 5070, 'grooved': 5071, 'spatula': 5072, 'oranges': 5073, 'upd8': 5074, 'buyers': 5075, 'loo': 5076, 'ed': 5077, 'wipro': 5078, 'opps': 5079, \"tt's\": 5080, 'smell': 5081, 'tobacco': 5082, 'ana': 5083, 'sathy': 5084, 'rto': 5085, 'aids': 5086, 'patent': 5087, 'splashmobile': 5088, 'subscrition': 5089, 'suggestion': 5090, 'lands': 5091, 'helps': 5092, 'forgt': 5093, 'bold2': 5094, 'lastest': 5095, 'stereophonics': 5096, 'marley': 5097, 'dizzee': 5098, 'racal': 5099, 'libertines': 5100, 'strokes': 5101, 'nookii': 5102, 'bookmark': 5103, 'upgrdcentre': 5104, '9153': 5105, '26th': 5106, 'nimbomsons': 5107, 'evaluation': 5108, 'awkward': 5109, 'mummy': 5110, '85233': 5111, 'ringtonereply': 5112, 'perpetual': 5113, 'dd': 5114, 'raglan': 5115, 'edward': 5116, 'cricket': 5117, 'closeby': 5118, 'batt': 5119, 'mandy': 5120, 'sullivan': 5121, 'hotmix': 5122, 'fmyou': 5123, 'å£500000': 5124, 'drawplease': 5125, '09041940223': 5126, 'transferred': 5127, 'okors': 5128, 'cherish': 5129, \"tyler's\": 5130, 'minor': 5131, 'crisis': 5132, 'chapel': 5133, 'frontierville': 5134, 'exorcism': 5135, 'emily': 5136, 'weaknesses': 5137, 'pushes': 5138, \"knee's\": 5139, 'exposes': 5140, 'pulls': 5141, 'wicked': 5142, 'deartake': 5143, 'fuuuuck': 5144, 'penis': 5145, 'ceri': 5146, 'rebel': 5147, 'dreamz': 5148, 'buddy': 5149, 'blokes': 5150, 'help08700469649': 5151, 'box420': 5152, 'dom': 5153, 'owe': 5154, 'yesmum': 5155, 'totes': 5156, 'hos': 5157, 'nuerologist': 5158, '078498': 5159, '08719180219': 5160, '060505': 5161, 'goodno': 5162, 'problembut': 5163, 'sweets': 5164, 'coimbatore': 5165, 'surname': 5166, 'clue': 5167, 'begins': 5168, '09058094583': 5169, \"something's\": 5170, 'scrumptious': 5171, \"hubby's\": 5172, '89938': 5173, 'strings': 5174, 'å£150ea': 5175, 'otbox': 5176, '731': 5177, 'la1': 5178, '7ws': 5179, 'ssnervous': 5180, 'ahold': 5181, '09066350750': 5182, '10000': 5183, 'mirror': 5184, 'downs': 5185, 'fletcher': 5186, 'weirdy': 5187, 'brownies': 5188, 'agree': 5189, 'someplace': 5190, 'youi': 5191, '08719181259': 5192, '260305': 5193, \"s'fine\": 5194, 'surly': 5195, 'fakemy': 5196, 'reffering': 5197, 'uif': 5198, 'getiing': 5199, 'rsi': 5200, 'mising': 5201, 'sonot': 5202, 'conveying': 5203, 'impression': 5204, 'woodland': 5205, 'avenue': 5206, 'parish': 5207, 'magazine': 5208, 'noice': 5209, 'fps': 5210, 'meare': 5211, 'networking': 5212, 'whore': 5213, 'leo': 5214, 'jod': 5215, 'revision': 5216, 'keris': 5217, 'smidgin': 5218, 'collegexx': 5219, 'weirdo': 5220, \"'doctors'\": 5221, 'reminds': 5222, '2godid': 5223, 'occurs': 5224, 'desparately': 5225, 'funeral': 5226, 'srsly': 5227, 'yi': 5228, 'tiring': 5229, 'concentrating': 5230, 'smoked': 5231, 'homelove': 5232, 'irritation': 5233, 'rows': 5234, 'waythis': 5235, 'uniquei': 5236, 'mylife': 5237, 'commit': 5238, 'nudist': 5239, 'themed': 5240, 'dawns': 5241, 'refreshed': 5242, 'ninish': 5243, 'icky': 5244, 'freek': 5245, 'jen': 5246, 'significant': 5247, 'byatch': 5248, 'whassup': 5249, 'diesel': 5250, 'ors': 5251, 'stool': 5252, '07099833605': 5253, 'ref9280114': 5254, \"'wnevr\": 5255, 'fal': 5256, 'fals': 5257, \"me''\": 5258, 'yen': 5259, 'madodu': 5260, 'nav': 5261, 'pretsorginta': 5262, 'nammanna': 5263, 'pretsovru': 5264, 'alwa': 5265, 'fring': 5266, 'faggot': 5267, 'ploughing': 5268, 'pile': 5269, 'ironing': 5270, 'chinky': 5271, 'consistently': 5272, 'practicum': 5273, 'links': 5274, 'ears': 5275, 'skint': 5276, 'fancied': 5277, 'bevieswaz': 5278, 'othrs': 5279, 'spoon': 5280, 'watchng': 5281, 'planet': 5282, 'earthsofa': 5283, 'comfey': 5284, 'lengths': 5285, 'behalf': 5286, 'stunning': 5287, 'lambu': 5288, 'ji': 5289, 'cometil': 5290, 'batchlor': 5291, \"all's\": 5292, 'investigate': 5293, 'didn\\x89û÷t': 5294, 'nighters': 5295, 'persevered': 5296, 'syria': 5297, 'necesity': 5298, 'witout': 5299, \"hw'd\": 5300, 'colleg': 5301, \"wat'll\": 5302, 'wth': 5303, 'functions': 5304, 'events': 5305, \"espe'll\": 5306, 'irritated': 5307, '4wrd': 5308, 'wthout': 5309, 'takecare': 5310, 'pours': 5311, 'spontaneously': 5312, 'goodevening': 5313, '07734396839': 5314, 'ibh': 5315, 'nokia6600': 5316, 'txtauctiontxt': 5317, 'wordstart': 5318, 'no81151': 5319, 'now4t': 5320, 'concentration': 5321, 'sophas': 5322, 'secondary': 5323, 'applying': 5324, 'ogunrinde': 5325, 'poking': 5326, 'everyday': 5327, '3000': 5328, \"hi'\": 5329, 'shanilrakhesh': 5330, 'herethanksi': 5331, 'exchanged': 5332, 'uncut': 5333, 'diamond': 5334, 'stuffleaving': 5335, 'dino': 5336, 'accidentally': 5337, 'nowonion': 5338, 'sumthinxx': 5339, 'sooo': 5340, 'degrees': 5341, 'missionary': 5342, 'problematic': 5343, 'definite': 5344, 'presnts': 5345, 'bcz': 5346, 'jeevithathile': 5347, 'irulinae': 5348, 'neekunna': 5349, 'prakasamanu': 5350, 'sneham': 5351, 'prakasam': 5352, 'ennal': 5353, \"'that\": 5354, 'mns': 5355, \"is'love'\": 5356, \"finn's\": 5357, 'belligerent': 5358, 'stories': 5359, \"redi'm\": 5360, 'blueu': 5361, 'purpleu': 5362, 'pinku': 5363, 'swt': 5364, 'orangei': 5365, 'lyk': 5366, 'greeni': 5367, 'yelowi': 5368, 'bck': 5369, \"blacki'm\": 5370, 'browni': 5371, 'sun0819': 5372, 'sunroof': 5373, 'yupz': 5374, 'firesare': 5375, 'weighed': 5376, 'woohoo': 5377, '09064017305': 5378, 'pobox75ldns7': 5379, 'dull': 5380, 'sary': 5381, 'tim': 5382, 'bollox': 5383, 'tol': 5384, 'sorta': 5385, 'blown': 5386, 'sarcasm': 5387, 'scarcasim': 5388, 'wiskey': 5389, 'brandy': 5390, 'rum': 5391, 'gin': 5392, 'scotch': 5393, 'shampain': 5394, 'kudi': 5395, 'yarasu': 5396, 'dhina': 5397, 'vaazhthukkal': 5398, 'moneyi': 5399, 'shijutta': 5400, 'cps': 5401, 'causing': 5402, 'outages': 5403, 'conserve': 5404, 'bot': 5405, 'notes': 5406, 'waheed': 5407, 'fathima': 5408, 'dawhats': 5409, '09090900040': 5410, 'extreme': 5411, 'sic': 5412, '7mp': 5413, '0870753331018': 5414, 'popping': 5415, 'ibuprofens': 5416, '3pound': 5417, 'r836': 5418, '09065069154': 5419, 'loxahatchee': 5420, 'burning': 5421, 'chickened': 5422, 'messaged': 5423, 'woould': 5424, 'healthy': 5425, 'pose': 5426, 'comb': 5427, 'dryer': 5428, 'chachi': 5429, 'pl': 5430, 'tiz': 5431, 'kanagu': 5432, 'triple': 5433, 'echo': 5434, 'waaaat': 5435, 'lololo': 5436, 'fudge': 5437, 'oreos': 5438, 'stores': 5439, 'lions': 5440, 'lionm': 5441, 'lionp': 5442, 'clip': 5443, '35p': 5444, 'mmsto': 5445, '32323': 5446, 'li': 5447, 'lecturer': 5448, 'repeating': 5449, 'ignorant': 5450, '087123002209am': 5451, 'shadow': 5452, 'senor': 5453, '08718726971': 5454, 'complain': 5455, 'onlybettr': 5456, 'bsnl': 5457, 'offc': 5458, 'bcum': 5459, 'bluray': 5460, 'prasanth': 5461, 'ettans': 5462, 'borderline': 5463, 'recdthirtyeight': 5464, 'ajith': 5465, 'walls': 5466, 'bunkers': 5467, 'hustle': 5468, 'forth': 5469, 'harlem': 5470, 'tescos': 5471, 'horse': 5472, '945': 5473, '50s': 5474, 'alot': 5475, 'sometme': 5476, 'crammed': 5477, 'suffering': 5478, 'dysentry': 5479, 'workout': 5480, 'fats': 5481, '07732584351': 5482, 'rodger': 5483, 'phasing': 5484, 'fourth': 5485, 'dimension': 5486, 'topic': 5487, 'joanna': 5488, '1apple': 5489, '1tulsi': 5490, 'leaf': 5491, '1lemon': 5492, '1cup': 5493, 'problms': 5494, 'litres': 5495, 'watr': 5496, 'diseases': 5497, 'snd': 5498, 'heroes': 5499, 'tips': 5500, 'shhhhh': 5501, 'stitch': 5502, 'trouser': 5503, 'cheat': 5504, 'doinghow': 5505, '09058095107': 5506, 's3xy': 5507, 'ditto': 5508, 'hardly': 5509, \"prashanthettan's\": 5510, 'ooh': 5511, '4got': 5512, 'moseley': 5513, 'weds': 5514, 'drinkpa': 5515, 'srs': 5516, 'attended': 5517, 'shorts': 5518, 'hiwhat': 5519, 'beerage': 5520, 'wating': 5521, 'arguing': 5522, 'hairdressers': 5523, 'beforehand': 5524, '08717895698': 5525, 'mobstorequiz10ppm': 5526, 'doke': 5527, 'dressed': 5528, 'laying': 5529, 'nowuse': 5530, 'web2mobile': 5531, 'txt250com': 5532, 'box139': 5533, 'la32wu': 5534, 'txtx': 5535, 'dahe': 5536, 'daalways': 5537, 'thisdon': 5538, 'messagepandy': 5539, 'onbus': 5540, 'donyt': 5541, 'homebut': 5542, 'latelyxxx': 5543, '07808': 5544, 'xxxxxx': 5545, '08719899217': 5546, 'yagoing': 5547, 'cat': 5548, \"'xam\": 5549, 'brilliant1thingi': 5550, 'answr': 5551, 'poo': 5552, 'manky': 5553, 'scouse': 5554, 'stevelike': 5555, 'travelling': 5556, 'homewot': 5557, 'inmind': 5558, 'recreation': 5559, 'tix': 5560, 'costume': 5561, 'stressful': 5562, 'mumhas': 5563, 'beendropping': 5564, 'theplace': 5565, 'adress': 5566, 'continent': 5567, \"that'd\": 5568, 'scenario': 5569, 'window': 5570, 'stage': 5571, 'judgementali': 5572, 'fridays': 5573, 'wetherspoons': 5574, '215': 5575, 'surrender': 5576, 'velusamy': 5577, \"sir's\": 5578, 'facilities': 5579, 'bestrply': 5580, 'cards': 5581, 'dance': 5582, 'cupboard': 5583, 'lapdancer': 5584, 'g2': 5585, '1da': 5586, '150ppmsg': 5587, 'pansy': 5588, 'jungle': 5589, 'aaooooright': 5590, 'spoil': 5591, 'kkwhy': 5592, 'deary': 5593, 'interfued': 5594, 'geelater': 5595, 'aust': 5596, 'bk': 5597, 'jurong': 5598, 'amore': 5599, '69855': 5600, 'stopbcm': 5601, 'sf': 5602, \"x'mas\": 5603, 'bunch': 5604, 'lotto': 5605, '09061701939': 5606, 's89': 5607, 'gain': 5608, 'wifedont': 5609, 'iti': 5610, 'toolets': 5611, '09065394514': 5612, 'celeb': 5613, '087016248': 5614, 'gauge': 5615, \"patty's\": 5616, '08715203656': 5617, '42049': 5618, '26': 5619, 'fridge': 5620, 'pisces': 5621, 'aquarius': 5622, '09066368470': 5623, 'panties': 5624, 'a30': 5625, 'divert': 5626, 'wadebridgei': 5627, '0871277810810': 5628, 'å£12': 5629, 'pocay': 5630, 'wocay': 5631, '2morrowxxxx': 5632, 'forfeit': 5633, 'half8th': 5634, 'attractioni': 5635, 'meshe': 5636, 'thoughtsi': 5637, 'hershe': 5638, 'dreamlove': 5639, 'namemy': 5640, 'hermy': 5641, 'named': 5642, 'cry': 5643, 'herwill': 5644, 'sorrowsi': 5645, 'proove': 5646, 'planeti': 5647, 'praises': 5648, 'makiing': 5649, 'sambarlife': 5650, 'thenwill': 5651, 'crucial': 5652, \"someone's\": 5653, 'haunt': 5654, 'promoting': 5655, 'hex': 5656, 'collected': 5657, 'lunchtime': 5658, 'organise': 5659, 'stereo': 5660, 'mi': 5661, 'å£3365': 5662, 'ubandu': 5663, 'diskyou': 5664, 'dehydrated': 5665, 'thet': 5666, 'skinny': 5667, 'casting': 5668, 'disappeared': 5669, 'lolnice': 5670, 'xclusiveclubsaisai': 5671, 'speciale': 5672, 'zouk': 5673, 'parisfree': 5674, 'roses': 5675, '07946746291': 5676, '07880867867': 5677, 'fundamentals': 5678, \"tm'ing\": 5679, 'laughs': 5680, 'godyou': 5681, 'immed': 5682, 'dice': 5683, 'wahala': 5684, '80488biz': 5685, 'daysso': 5686, 'finalise': 5687, 'visitneed': 5688, 'draws': 5689, 'language': 5690, 'alto18couk': 5691, 'wave': 5692, 'waveaspo': 5693, '44345': 5694, 'fink': 5695, '09099726553': 5696, 'promised': 5697, 'carlie': 5698, 'minmobsmore': 5699, 'lkpobox177hp51fl': 5700, 'impressed': 5701, 'funs': 5702, 'uploaded': 5703, 'kkgoodstudy': 5704, \"'hex'\": 5705, 'chikkuk': 5706, 'antibiotic': 5707, 'abdomen': 5708, 'gynae': 5709, 'individual': 5710, 'gong': 5711, 'kaypoh': 5712, 'chik': 5713, \"100's\": 5714, 'filth': 5715, 'saristar': 5716, 'e14': 5717, '9yt': 5718, '08701752560': 5719, '450p': 5720, 'stop2': 5721, 'lifting': 5722, 'fredericksburg': 5723, 'dessert': 5724, 'onit': 5725, '0721072': 5726, 'lined': 5727, 'nightswe': 5728, 'port': 5729, 'liaotoo': 5730, 'strt': 5731, 'ltdhelpdesk': 5732, '02085076972': 5733, 'elephant': 5734, 'shove': 5735, 'um': 5736, 'involved': 5737, 'gotto': 5738, '08702840625': 5739, 'comuk220cm2': 5740, 'clocks': 5741, 'realised': 5742, 'wahay': 5743, 'guessed': 5744, 'specialisation': 5745, 'labor': 5746, 'shakara': 5747, 'beggar': 5748, 'doit': 5749, 'mymoby': 5750, 'complementary': 5751, 'wa14': 5752, '2px': 5753, 'sender': 5754, 'kit': 5755, 'strip': 5756, '1013': 5757, 'ig11': 5758, 'oja': 5759, 'brainless': 5760, 'doll': 5761, 'vehicle': 5762, 'sariyag': 5763, 'madoke': 5764, 'barolla': 5765, 'amrita': 5766, 'tunde': 5767, 'hor': 5768, 'we\\x89û÷ll': 5769, 'dying': 5770, 'pressies': 5771, 'select': 5772, 'trained': 5773, 'advisors': 5774, 'dialling': 5775, '402': 5776, 'scratching': 5777, 'expert': 5778, 'weekdays': 5779, 'nails': 5780, 'infra': 5781, 'ripped': 5782, 'wwwclubmobycom': 5783, '08717509990': 5784, '515': 5785, 'ummmawill': 5786, 'inour': 5787, 'backwards': 5788, 'canåõt': 5789, 'isnåõt': 5790, 'shite': 5791, 'kip': 5792, 'posible': 5793, 'century': 5794, 'frwd': 5795, 'reassuring': 5796, 'wwwtextcompcom': 5797, 'smaller': 5798, 'capacity': 5799, 'fans': 5800, '0870141701216': 5801, '4txt': 5802, '120p': 5803, 'babyhope': 5804, 'urfeeling': 5805, 'bettersn': 5806, 'probthat': 5807, 'overdose': 5808, 'lovejen': 5809, 'tootsie': 5810, 'hoped': 5811, 'regretted': 5812, 'hmmmy': 5813, 'befor': 5814, 'newspapers': 5815, 'hillsborough': 5816, 'hanks': 5817, 'lotsly': 5818, 'bull': 5819, 'floating': 5820, 'tbs': 5821, 'persolvo': 5822, 'chasing': 5823, 'forå£38': 5824, 'kath': 5825, 'manchester': 5826, '0796xxxxxx': 5827, 'day2': 5828, 'prizeawaiting': 5829, 'entertain': 5830, '09064017295': 5831, 'numberpls': 5832, 'idconvey': 5833, 'achanammarakheshqatar': 5834, 'romcapspam': 5835, 'presence': 5836, 'outgoing': 5837, 'korean': 5838, \"leona's\": 5839, '1010': 5840, 'garments': 5841, '087147123779am': 5842, 'grocers': 5843, 'kanji': 5844, '08006344447': 5845, 'disappointment': 5846, 'deleted': 5847, 'websitenow': 5848, 'blogging': 5849, 'magicalsongsblogspotcom': 5850, \"basket's\": 5851, 'strips': 5852, 'postal': 5853, \"addressu'll\": 5854, 'alrightokay': 5855, 'someday': 5856, 'sooooo': 5857, 'fellow': 5858, \"thangamit's\": 5859, 'andre': 5860, \"virgil's\": 5861, \"table's\": 5862, 'occupied': 5863, 'various': 5864, 'yeovil': 5865, 'motor': 5866, 'max': 5867, 'giggle': 5868, 'possibly': 5869, 'person2die': 5870, 'nvq': 5871, 'telugu': 5872, 'moviewat': 5873, 'wisheds': 5874, 'knowthis': 5875, 'tirunelvai': 5876, '09066358152': 5877, 'prompts': 5878, 'babesozi': 5879, 'culdnt': 5880, 'talkbut': 5881, 'wannatell': 5882, 'wenwecan': 5883, 'wasnt': 5884, 'stressfull': 5885, 'adds': 5886, 'wined': 5887, 'dined': 5888, 'bike': 5889, 'fridayhope': 5890, 'alternativehope': 5891, \"term's\": 5892, '4719': 5893, '523': 5894, \"mine's\": 5895, 'predicte': 5896, 'yoyyooo': 5897, 'permissions': 5898, 'nasty': 5899, 'cough': 5900, 'wwwldewcom1win150ppmx3age16subscription': 5901, 'sppok': 5902, 'logopic': 5903, 'reserves': 5904, 'wwwtelediscountcouk': 5905, 'karnan': 5906, 'drmstake': 5907, 'rebtel': 5908, 'firefox': 5909, 'ahhhhjust': 5910, 'uphad': 5911, 'thoso': 5912, '1mcfly': 5913, 'ab': 5914, 'sara': 5915, 'jorge': 5916, \"fuck's\": 5917, 'tallahassee': 5918, 'hmv1': 5919, 'yunny': 5920, 'citylink': 5921, 'positions': 5922, 'kama': 5923, 'sutra': 5924, 'gamestar': 5925, 'active': 5926, 'å£250k': 5927, 'scoring': 5928, 'register': 5929, 'nowsky': 5930, '88088': 5931, 'rs5': 5932, '88800': 5933, '89034': 5934, '08718711108': 5935, 'dolls': 5936, 'patrick': 5937, 'swayze': 5938, 'nofew': 5939, 'beforewent': 5940, 'rayan': 5941, 'macleran': 5942, 'ortxt': 5943, '80155': 5944, 'swap': 5945, 'chatter': 5946, 'chat80155': 5947, 'rcd': 5948, 'convincingjust': 5949, 'neglect': 5950, 'itjust': 5951, 'downon': 5952, 'theacusations': 5953, 'itxt': 5954, 'iwana': 5955, 'wotu': 5956, 'thew': 5957, 'haventcn': 5958, 'agesring': 5959, 'nething': 5960, 'satlove': 5961, 'sfirst': 5962, 'timedhoni': 5963, 'trauma': 5964, 'swear': 5965, '24m': 5966, 'barring': 5967, 'sudden': 5968, 'influx': 5969, 'sweetheart': 5970, 'biola': 5971, 'nanny': 5972, '69200': 5973, 'chrgd50p': 5974, '2exit': 5975, 'maggi': 5976, 'mee': 5977, 'nottel': 5978, 'sends': 5979, 'strict': 5980, 'crashed': 5981, 'cuddled': 5982, 'chit': 5983, 'logon': 5984, '8883': 5985, '4217': 5986, 'w1a': 5987, '6zf': 5988, '118p': 5989, 'versus': 5990, 'misscall': 5991, 'frndz': 5992, '6missed': 5993, 'wwwtklscom': 5994, 'stoptxtstopå£150': 5995, 'ami': 5996, 'parchi': 5997, 'kicchu': 5998, 'kaaj': 5999, 'korte': 6000, 'iccha': 6001, 'korche': 6002, 'tul': 6003, 'expired': 6004, 'monoc': 6005, 'monos': 6006, 'polyc': 6007, 'stream': 6008, '0871212025016': 6009, 'wwwapplausestorecom': 6010, 'monthlysubscription50p': 6011, 'max6': 6012, 'tcsc': 6013, 'web': 6014, '2stop': 6015, 'tddnewsletteremc1couk': 6016, 'thedailydraw': 6017, 'helen': 6018, 'dozens': 6019, 'prizeswith': 6020, 'sorts': 6021, 'knickers': 6022, '01223585236': 6023, 'nikiyu4net': 6024, '8077': 6025, 'jacuzzi': 6026, '08714712379': 6027, 'lavender': 6028, 'stone': 6029, 'trends': 6030, 'pros': 6031, 'cons': 6032, 'description': 6033, 'nuclear': 6034, 'fusion': 6035, 'iter': 6036, 'jet': 6037, 'mountain': 6038, 'deer': 6039, 'affair': 6040, 'olave': 6041, 'mandara': 6042, 'trishul': 6043, 'washob': 6044, 'nobbing': 6045, 'nickey': 6046, 'platt': 6047, 'unconvinced': 6048, 'elaborate': 6049, 'willpower': 6050, 'samus': 6051, 'shoulders': 6052, 'noncomittal': 6053, '08712402902': 6054, 'shag': 6055, 'dointerested': 6056, 'sextextukcom': 6057, 'xxuk': 6058, '69876': 6059, 'lists': 6060, 'skye': 6061, 'ree': 6062, '08718738034': 6063, 'foward': 6064, 'hogolo': 6065, 'gold': 6066, 'kodstini': 6067, 'madstini': 6068, 'hogli': 6069, 'mutai': 6070, 'eerulli': 6071, 'kodthini': 6072, 'hooked': 6073, 'liquor': 6074, 'loko': 6075, 'copied': 6076, 'painting': 6077, 'wall': 6078, 'prince': 6079, 'charming': 6080, '6times': 6081, 'disagreeable': 6082, '09066362231': 6083, 'screwd': 6084, '08719181503': 6085, 'petey': 6086, 'whereare': 6087, 'friendsare': 6088, 'thekingshead': 6089, 'canlove': 6090, 'nic': 6091, 'grateful': 6092, 'happier': 6093, 'clarify': 6094, 'preponed': 6095, 'kdo': 6096, 'daurgent': 6097, 'pimples': 6098, 'isaiah': 6099, 'ger': 6100, 'toking': 6101, 'syd': 6102, 'lehhaha': 6103, 'qi': 6104, 'suddenly': 6105, 'crowd': 6106, 'showr': 6107, 'moneyas': 6108, 'youmoney': 6109, 'thinghow': 6110, '600': 6111, '400': 6112, 'deltomorrow': 6113, 'borin': 6114, 'boggy': 6115, 'biatch': 6116, 'nationwide': 6117, 'newport': 6118, 'wwwflirtpartyus': 6119, 'replys150': 6120, 'castor': 6121, 'text82228': 6122, 'logos': 6123, 'wwwtxt82228com': 6124, 'infotxt82228couk': 6125, 'horniest': 6126, 'nytec2a3lpmsg150p': 6127, \"shade's\": 6128, 'acted': 6129, 'upon': 6130, \"rct'\": 6131, 'thnq': 6132, 'adrian': 6133, 'rgds': 6134, 'vatian': 6135, 'emerging': 6136, 'fiend': 6137, 'impede': 6138, 'hesitant': 6139, 'helens': 6140, 'princes': 6141, 'watever': 6142, 'built': 6143, 'lonlines': 6144, 'lotz': 6145, 'memories': 6146, 'crying': 6147, 'imprtant': 6148, 'tomorw': 6149, 'absence': 6150, 'league': 6151, 'get4an18th': 6152, 'endowed': 6153, 'sickness': 6154, 'pai': 6155, 'seh': 6156, 'treadmill': 6157, 'craigslist': 6158, '087018728737': 6159, 'toppoly': 6160, 'tune': 6161, \"yesi'm\": 6162, '09065394973': 6163, 'keng': 6164, 'rocking': 6165, 'ashes': 6166, 'reg': 6167, 'ciao': 6168, '07090201529': 6169, 'flow': 6170, 'developed': 6171, 'ovarian': 6172, 'cysts': 6173, 'shrink': 6174, 'convince': 6175, 'witot': 6176, 'main': 6177, 'taxt': 6178, 'massagetie': 6179, 'pos': 6180, 'lool': 6181, 'suffers': 6182, 'auctionpunj': 6183, 'tiwary': 6184, 'reache': 6185, 'timin': 6186, 'saeed': 6187, 'heat': 6188, 'applyed': 6189, 'xxxmobilemovieclub': 6190, 'xxxmobilemovieclubcomn': 6191, 'qjkgighjjgcbl': 6192, 'dileepthank': 6193, 'muchand': 6194, 'supportvery': 6195, 'hereremember': 6196, 'venugopal': 6197, 'mentionedtomorrow': 6198, 'latei': 6199, 'theregoodnight': 6200, 'somewhat': 6201, 'laden': 6202, 'wrecked': 6203, 'changing': 6204, 'diapers': 6205, 'owed': 6206, 'lunchyou': 6207, 'onlinewhy': 6208, 'waiti': 6209, 'watchin': 6210, 'lido': 6211, 'arrow': 6212, 'rebooting': 6213, 'jerry': 6214, 'irritates': 6215, 'fails': 6216, 'elaborating': 6217, 'safety': 6218, 'aspects': 6219, 'thatnow': 6220, 'maaaan': 6221, \"cali's\": 6222, 'complexities': 6223, 'freely': 6224, 'taxes': 6225, 'outrageous': 6226, 'mobsicom': 6227, '391784': 6228, 'lingerie': 6229, 'wwwbridalpetticoatdreamscouk': 6230, 'weddingfriend': 6231, 'browsin': 6232, 'compulsory': 6233, 'degree': 6234, 'dialogue': 6235, 'reltnship': 6236, 'lambda': 6237, 'btwn': 6238, '09058091870': 6239, 'image': 6240, 'chocolate': 6241, 'bcozi': 6242, 'dorm': 6243, 'betta': 6244, 'aging': 6245, 'products': 6246, 'wrkin': 6247, 'topicsorry': 6248, '5terror': 6249, '6cruel': 6250, '7romantic': 6251, '8lovable': 6252, '9decent': 6253, 'joker': 6254, 'err': 6255, 'upping': 6256, 'grams': 6257, 'showered': 6258, \"er'ything\": 6259, 'hmmmstill': 6260, 'opener': 6261, 'useful': 6262, 'uawakefeellikw': 6263, 'shitjustfound': 6264, 'aletter': 6265, 'thatmum': 6266, 'gotmarried': 6267, '4thnovbehind': 6268, 'ourbacks': 6269, 'fuckinniceselfish': 6270, 'hitechnical': 6271, 'supportproviding': 6272, 'assistance': 6273, 'wewa': 6274, '130': 6275, 'iriver': 6276, '255': 6277, '128': 6278, 'hii': 6279, '08707500020': 6280, 'pleassssssseeeeee': 6281, 'sportsx': 6282, 'depression': 6283, \"ki'm\": 6284, 'saibaba': 6285, 'colany': 6286, 'rv': 6287, 'roadsrvx': 6288, 'fireplace': 6289, 'icon': 6290, 'ore': 6291, 'owo': 6292, 'wa': 6293, 'fro': 6294, 'allo': 6295, 'braved': 6296, 'taken': 6297, 'trains': 6298, 'triumphed': 6299, 'b\\x89û÷ham': 6300, 'båõday': 6301, 'watts': 6302, '09066358361': 6303, 'y87': 6304, 'enjoying': 6305, 'rumour': 6306, 'tightly': 6307, 'dust': 6308, \"taylor's\": 6309, 'fassyole': 6310, 'blacko': 6311, 'londn': 6312, 'goodfine': 6313, '2channel': 6314, 'leadership': 6315, 'skills': 6316, 'psychic': 6317, 'smsing': 6318, '9061100010': 6319, 'wire3net': 6320, '1st4terms': 6321, 'mobcudb': 6322, 'apologetic': 6323, 'fallen': 6324, 'actin': 6325, 'spoilt': 6326, 'badly': 6327, 'maths': 6328, 'chapter': 6329, 'maintain': 6330, 'cr': 6331, 'hhahhaahahah': 6332, 'nig': 6333, 'leonardo': 6334, 'intention': 6335, 'visitors': 6336, 'bookedthe': 6337, 'hut': 6338, 'jabo': 6339, 'recycling': 6340, 'earning': 6341, \"tantrum's\": 6342, 'vday': 6343, 'bottom': 6344, 'ecstasy': 6345, 'appointments': 6346, 'nightnight': 6347, 'length': 6348, 'shorter': 6349, 'mus': 6350, 'chez': 6351, 'jules': 6352, 'ucall': 6353, 'wrki': 6354, 'dabooks': 6355, 'supplies': 6356, 'mallika': 6357, 'sherawat': 6358, 'ayo': 6359, 'travelled': 6360, 'hides': 6361, 'secrets': 6362, 'n8': 6363, 'becausethey': 6364, '09058098002': 6365, 'pobox1': 6366, 'w14rg': 6367, '07808726822': 6368, '872': 6369, '9758': 6370, 'copies': 6371, 'ohas': 6372, 'darker': 6373, 'styling': 6374, \"si'm\": 6375, 'lodge': 6376, 'noisy': 6377, 'sundayish': 6378, 'tessypls': 6379, 'favor': 6380, 'nimyapls': 6381, 'shijas': 6382, 'rupaul': 6383, 'janx': 6384, 'dads': 6385, 'dang': 6386, 'minus': 6387, 'paragraphs': 6388, '09050000332': 6389, 'webadres': 6390, 'geting': 6391, 'ambrithmaduraimet': 6392, 'dha': 6393, 'marrgeremembr': 6394, 'western': 6395, 'thatåõs': 6396, 'gail': 6397, 'wrongtake': 6398, 'worryc': 6399, 'l8tr': 6400, 'hunlove': 6401, 'yaxxx': 6402, \"dat's\": 6403, 'conacted': 6404, 'youto': 6405, '09111030116': 6406, 'pobox12n146tf15': 6407, '09064019788': 6408, 'box42wr29c': 6409, 'kafter': 6410, 'roles': 6411, 'outreach': 6412, 'daytime': 6413, 'busty': 6414, '09099726429': 6415, 'janinexx': 6416, 'rubber': 6417, 'sao': 6418, 'mondaynxt': 6419, 'completing': 6420, 'memory': 6421, 'tau': 6422, 'sar': 6423, 'piah': 6424, 'sacked': 6425, 'nelson': 6426, \"bb's\": 6427, 'someonone': 6428, '09064015307': 6429, 'wallet': 6430, '07753741225': 6431, '08715203677': 6432, '42478': 6433, 'singapore': 6434, 'dobby': 6435, 'prices': 6436, 'nosy': 6437, 'reacting': 6438, 'freaked': 6439, 'chk': 6440, 'ms': 6441, 'dict': 6442, \"u've\": 6443, 'bx526': 6444, '\\x89ûïharry': 6445, 'eldest': 6446, 'opened': 6447, 'batch': 6448, 'macs': 6449, 'diddy': 6450, 'neighbor': 6451, 'toothpaste': 6452, 'selfish': 6453, 'locks': 6454, 'jenne': 6455, 'kall': 6456, 'bestcongrats': 6457, 'rob': 6458, 'mack': 6459, 'theater': 6460, \"'its\": 6461, 'vidnot': 6462, 'finishd': 6463, 'checkup': 6464, 'aka': 6465, 'smear': 6466, 'dodgey': 6467, 'recovery': 6468, 'lit': 6469, 'motivating': 6470, 'sharing': 6471, \"medon't\": 6472, \"l'm\": 6473, 'goodnoon': 6474, 'smsservices': 6475, 'yourinclusive': 6476, \"ron's\": 6477, 'toledo': 6478, 'ringing': 6479, 'houseful': 6480, 'brats': 6481, 'pulling': 6482, '07815296484': 6483, '08718738001': 6484, '41782': 6485, 'huge': 6486, 'marking': 6487, 'hidden': 6488, 'dealer': 6489, 'lunsford': 6490, 'engagement': 6491, 'fixd': 6492, 'bthmm': 6493, 'njan': 6494, 'vilikkamt': 6495, 'sudn': 6496, 'baaaaabe': 6497, 'misss': 6498, 'youuuuu': 6499, 'nachos': 6500, 'eta': 6501, 'abroad': 6502, 'lonely': 6503, 'xxsp': 6504, 'stopcost': 6505, '08712400603': 6506, 'iraq': 6507, 'afghanistan': 6508, 'stable': 6509, 'honest': 6510, 'traveling': 6511, 'coherently': 6512, 'twenty': 6513, 'stairs': 6514, 'phews': 6515, 'brownie': 6516, 'jb': 6517, \"treatin'\": 6518, 'treacle': 6519, 'jersey': 6520, 'devils': 6521, 'wings': 6522, 'hockey': 6523, 'incorrect': 6524, 'genus': 6525, 'dammit': 6526, 'destination': 6527, 'rightio': 6528, '1148': 6529, 'toopray': 6530, 'meremove': 6531, 'maintaining': 6532, 'sliding': 6533, 'chillin': 6534, 'prevent': 6535, 'dehydration': 6536, 'fluids': 6537, 'approve': 6538, 'panalambut': 6539, 'vai': 6540, '1172': 6541, 'sparkling': 6542, 'breaks': 6543, '45': 6544, '0121': 6545, '2025050': 6546, 'wwwshortbreaksorguk': 6547, 'payments': 6548, 'fedex': 6549, 'owl': 6550, 'dump': 6551, 'heap': 6552, 'lowes': 6553, 'hate': 6554, 'grandmas': 6555, 'hungover': 6556, 'nothis': 6557, 'groundamla': 6558, 'piece': 6559, 'siva': 6560, 'hmmbad': 6561, 'newshype': 6562, '700': 6563, 'studio': 6564, 'takenonly': 6565, 'bedrm': 6566, 'torture': 6567, \"wouldn't\": 6568, 'thasa': 6569, 'messed': 6570, 'upyeh': 6571, 'amigos': 6572, 'burn': 6573, 'x49': 6574, 'txtstar': 6575, 'physics': 6576, 'breaking': 6577, 'cstore': 6578, 'shifad': 6579, 'raised': 6580, 'complaint': 6581, 'christmassy': 6582, '09094100151': 6583, 'cast': 6584, 'provided': 6585, 'gbp5': 6586, 'box61m60': 6587, '1er': 6588, 'reckon': 6589, 'smarter': 6590, 'chikkugoing': 6591, 'fixes': 6592, 'spelling': 6593, 'alle': 6594, 'moneeppolum': 6595, 'allalo': 6596, 'anna': 6597, 'nagar': 6598, 'dudette': 6599, \"xin's\": 6600, '08715203685': 6601, 'code4xx26': 6602, '7634': 6603, '7684': 6604, 'satanic': 6605, 'imposter': 6606, 'meneed': 6607, 'priceso': 6608, 'itmay': 6609, 'destiny': 6610, 'peteynoiåõm': 6611, 'alritehave': 6612, 'js': 6613, 'amx': 6614, 'seventeen': 6615, 'hundred': 6616, 'ml': 6617, 'dagood': 6618, 'murali': 6619, 'term': 6620, 'passion': 6621, '09099726481': 6622, 'dena': 6623, 'situations': 6624, 'loosing': 6625, 'wrking': 6626, 'daal': 6627, 'faglord': 6628, 'alertfrom': 6629, 'jeri': 6630, 'stewartsize': 6631, '2kbsubject': 6632, 'prescripiton': 6633, 'drvgsto': 6634, 'skateboarding': 6635, 'thrown': 6636, 'winds': 6637, 'bandages': 6638, '3650': 6639, '09066382422': 6640, '300603': 6641, 'bcm4284': 6642, 'board': 6643, 'overheating': 6644, 'reslove': 6645, 'inst': 6646, \"8'o\": 6647, 'liver': 6648, 'managed': 6649, 'applespairsall': 6650, 'malarky': 6651, 'kbut': 6652, 'hitteranyway': 6653, 'warning': 6654, 'samantha': 6655, 'guitar': 6656, 'impress': 6657, 'doug': 6658, 'realizes': 6659, \"carlos'll\": 6660, 'balloon': 6661, 'sumfing': 6662, '4mths': 6663, 'mobilesdirect': 6664, '08000938767': 6665, 'or2stoptxt': 6666, '69969': 6667, 'bcmsfwc1n3xx': 6668, 'ebay': 6669, 'heehee': 6670, 'macha': 6671, 'upseti': 6672, 'mindsetbelieve': 6673, 'uslet': 6674, 'againcall': 6675, 'cantdo': 6676, 'anythingtomorrow': 6677, 'myparents': 6678, 'aretaking': 6679, 'outfor': 6680, 'katexxx': 6681, 'vpod': 6682, 'anythiing': 6683, 'distance': 6684, 'nicenicehow': 6685, 'zogtorius': 6686, 'iåõve': 6687, 'classmates': 6688, 'brum': 6689, '08718726978': 6690, 'apeshit': 6691, 'muchxxlove': 6692, 'locaxx': 6693, '087104711148': 6694, 'disc': 6695, 'backa': 6696, 'token': 6697, 'youthats': 6698, 'likingbe': 6699, 'seeno': 6700, 'thatdont': 6701, 'deepest': 6702, 'darkest': 6703, '09094646631': 6704, 'wasnåõt': 6705, 'spouse': 6706, 'pmt': 6707, 'sumthin': 6708, '4give': 6709, 'shldxxxx': 6710, 'dled': 6711, 'arabian': 6712, 'steed': 6713, 'mmmmmm': 6714, 'companion': 6715, 'chef': 6716, 'listener': 6717, 'organizer': 6718, 'sympathetic': 6719, 'athletic': 6720, 'courageous': 6721, 'determined': 6722, 'dependable': 6723, 'psychologist': 6724, 'pest': 6725, 'exterminator': 6726, 'psychiatrist': 6727, 'healer': 6728, 'stylist': 6729, 'aaniye': 6730, 'pudunga': 6731, 'venaam': 6732, '83039': 6733, '62735': 6734, 'accommodationvouchers': 6735, 'mustprovide': 6736, '15541': 6737, 'woah': 6738, 'realising': 6739, 'rushing': 6740, 'shorethe': 6741, 'clearing': 6742, 'fox': 6743, 'frndsship': 6744, 'dwn': 6745, 'agents': 6746, 'experiment': 6747, 'gsoh': 6748, 'spam': 6749, 'ladiesu': 6750, 'male': 6751, 'gigolo': 6752, 'mens': 6753, 'oncall': 6754, 'mjzgroup': 6755, '087143423992stop': 6756, 'msgå£150rcvd': 6757, 'solihull': 6758, '645': 6759, 'jam': 6760, 'hannaford': 6761, 'wheat': 6762, 'chex': 6763, 'doesn\\x89û÷t': 6764, 'musical': 6765, '4ui': 6766, 'intend': 6767, 'iwas': 6768, 'marinethatåõs': 6769, 'itried2tell': 6770, 'urmomi': 6771, 'careabout': 6772, 'deserve': 6773, 'tight': 6774, 'keen': 6775, 'coughing': 6776, 'cutest': 6777, 'occasion': 6778, 'celebrated': 6779, 'reflection': 6780, 'values': 6781, 'affectionsamp': 6782, 'traditions': 6783, 'phony': 6784, 'nowsend': 6785, '62220cncl': 6786, 'stopcs': 6787, '08717890890å£150': 6788, '08718726970': 6789, \"riley's\": 6790, 'julianaland': 6791, 'oblivious': 6792, 'pants': 6793, 'snickering': 6794, 'chords': 6795, 'auntie': 6796, 'huai': 6797, 'winning': 6798, 'tooo': 6799, 'being': 6800, \"'simple'\": 6801, '09058094454': 6802, 'throws': 6803, 'brothers': 6804, 'accessible': 6805, '08709501522': 6806, '139': 6807, 'la3': 6808, '2wu': 6809, 'computational': 6810, '07973788240': 6811, '08715203649': 6812, 'dining': 6813, 'experiencehttp': 6814, 'wwwvouch4mecom': 6815, 'etlp': 6816, 'diningasp': 6817, 'yalru': 6818, 'astne': 6819, 'innu': 6820, 'mundhe': 6821, 'ali': 6822, 'halla': 6823, 'bilo': 6824, 'marriageprogram': 6825, 'edhae': 6826, 'ovr': 6827, 'chikkuali': 6828, 'vargu': 6829, 'club4mobilescom': 6830, '87070': 6831, 'club4': 6832, 'box1146': 6833, 'mk45': 6834, '2wt': 6835, 'bridge': 6836, 'lager': 6837, 'playng': 6838, 'rodds1': 6839, 'aberdeen': 6840, 'united': 6841, 'kingdom': 6842, 'img': 6843, 'icmb3cktz8r7': 6844, 'predict': 6845, 'selflessness': 6846, 'detailed': 6847, 'å£750': 6848, '087187272008': 6849, 'now1': 6850, 'entertaining': 6851, 'hugh': 6852, 'laurie': 6853, 'hicts': 6854, 'employee': 6855, 'accenture': 6856, 'appendix': 6857, 'appeal': 6858, 'thriller': 6859, 'director': 6860, 'vomitin': 6861, 'favourite': 6862, 'secure': 6863, 'wesley': 6864, \"how've\": 6865, 'buffy': 6866, 'qlynnbv': 6867, 'help08700621170150p': 6868, 'truro': 6869, 'ext': 6870, 'temales': 6871, '22': 6872, 'can\\x89û÷t': 6873, \"idea's\": 6874, 'anyplaces': 6875, \"parents'\": 6876, 'avalarr': 6877, 'hollalater': 6878, 'ringtonefrom': 6879, '1b6a5ecef91ff9': 6880, '37819first': 6881, 'true180430': 6882, 'jul': 6883, 'steamboat': 6884, '09061743811': 6885, 'gopalettan': 6886, 'participate': 6887, 'responsibilities': 6888, 'wiproyou': 6889, '83370': 6890, 'wwwmusic': 6891, 'trivianet': 6892, 'ssi': 6893, 'thinl': 6894, 'sachinjust': 6895, 'chastity': 6896, 'device': 6897, 'beatings': 6898, 'arngd': 6899, 'walkin': 6900, 'unfortuntly': 6901, 'bites': 6902, 'frnt': 6903, 'sayin': 6904, 'retard': 6905, '2bold': 6906, 'relaxing': 6907, '7am': 6908, '5ish': 6909, 'kanoil': 6910, 'route': 6911, 'repent': 6912, 'sleeps': 6913, 'exhaust': 6914, 'replacing': 6915, 'reassurance': 6916, 'iphone': 6917, 'lorwe': 6918, '8am': 6919, 'leg': 6920, 'musta': 6921, 'overdid': 6922, 'shoul': 6923, 'vitamin': 6924, 'goods': 6925, 'possibility': 6926, 'grasp': 6927, '3750': 6928, '09111032124': 6929, 'pobox12n146tf150p': 6930, 'panther': 6931, 'sugababes': 6932, 'zebra': 6933, 'animation': 6934, 'badass': 6935, 'hoody': 6936, '7548': 6937, '350': 6938, '4041': 6939, 'fainting': 6940, 'housework': 6941, 'cuppa': 6942, 'attending': 6943, 'ouch': 6944, 'dinnermsg': 6945, 'vivek': 6946, 'plural': 6947, 'uworld': 6948, 'qbank': 6949, 'assessment': 6950, 'nike': 6951, 'kitty': 6952, 'shaved': 6953, 'mornin': 6954, 'thanku': 6955, 'setting': 6956, 'seeking': 6957, 'noits': 6958, 'lyrics': 6959, 'gei': 6960, 'tron': 6961, 'dl': 6962, '4qf2': 6963, 'zhong': 6964, 'qing': 6965, 'act': 6966, 'abstract': 6967, 'sonetimes': 6968, 'rough': 6969, 'yuou': 6970, 'spot': 6971, 'kegger': 6972, \"'rencontre'\": 6973, 'mountains': 6974, 'miiiiiiissssssssss': 6975, 'basketball': 6976, 'outdoors': 6977, 'engalnd': 6978, 'mia': 6979, 'elliot': 6980, 'kissing': 6981, 'retired': 6982, 'respectful': 6983, 'wikipediacom': 6984, 'mouse': 6985, 'desk': 6986, 'epi': 6987, 'command': 6988, \"harish's\": 6989, 'transfred': 6990, 'acnt': 6991, 'bsn': 6992, 'advising': 6993, 'banneduk': 6994, 'g696ga': 6995, 'gotten': 6996, 'begun': 6997, 'registration': 6998, 'permanent': 6999, 'residency': 7000, 'ffffffffff': 7001, 'taka': 7002, 'que': 7003, 'pases': 7004, 'buen': 7005, 'tiempo': 7006, 'alian': 7007, 'elama': 7008, 'mudyadhu': 7009, 'givits': 7010, 'kanoanyway': 7011, '07808247860': 7012, '08719899229': 7013, '40411': 7014, 'summers': 7015, 'matched': 7016, 'help08714742804': 7017, '89105': 7018, 'eviction': 7019, 'spiral': 7020, 'michael': 7021, 'riddance': 7022, 'staffsciencenusedusg': 7023, 'phyhcmk': 7024, 'pc1323': 7025, 'wrote': 7026, 'ritten': 7027, 'fold': 7028, 'hasbroin': 7029, 'jump': 7030, 'hoops': 7031, 'drastic': 7032, 'brighten': 7033, 'seekers': 7034, 'latebut': 7035, 'kwish': 7036, 'unsubscribed': 7037, 'hunks': 7038, 'gotbabescouk': 7039, 'subscriptions': 7040, 'shiny': 7041, 'warming': 7042, 'ssindia': 7043, 'african': 7044, 'soil': 7045, 'continued': 7046, 'president': 7047, 'uhhhhrmm': 7048, 'feelin': 7049, 'wuld': 7050, 'khelate': 7051, 'kintu': 7052, 'opponenter': 7053, 'dhorte': 7054, 'lage': 7055, 'printing': 7056, 'handing': 7057, 'badrith': 7058, 'chennaii': 7059, 'usno': 7060, 'prakesh': 7061, 'steyn': 7062, 'wicket': 7063, 'datingi': 7064, 'coincidence': 7065, 'tke': 7066, 'kkcongratulation': 7067, 'linear': 7068, 'algebra': 7069, 'phone750': 7070, 'prsn': 7071, 'somtimes': 7072, 'saves': 7073, 'quiet': 7074, 'fujitsu': 7075, 'lifebook': 7076, 'practising': 7077, 'curtsey': 7078, 'deficient': 7079, 'surya': 7080, 'pokkiri': 7081, 'youåõre': 7082, 'dao': 7083, 'optimistic': 7084, '09050000878': 7085, 'computers': 7086, 'ew': 7087, 'typical': 7088, 'nose': 7089, 'essay': 7090, 'stuffing': 7091, 'swan': 7092, 'startedindia': 7093, 'wwwwtlpcouk': 7094, 'sday': 7095, 'joinedso': 7096, 'sum': 7097, 'lucyxx': 7098, 'pride': 7099, 'kid': 7100, 'grownup': 7101, 'begging': 7102, 'highest': 7103, 'å£54': 7104, 'maximum': 7105, 'å£71': 7106, 'svc': 7107, '69988': 7108, 'verify': 7109, 'restrict': 7110, 'palm': 7111, 'enc': 7112, 'paypal': 7113, 'voila': 7114, 'pockets': 7115, 'repairs': 7116, 'followin': 7117, '09061702893': 7118, 'tonght': 7119, 'annoncement': 7120, '07046744435': 7121, 'kaila': 7122, 'steal': 7123, 'raping': 7124, 'dudes': 7125, 'subscribed': 7126, '82324': 7127, 'helpline': 7128, '08706091795': 7129, 'anal': 7130, 'bang': 7131, '02072069400': 7132, 'bx': 7133, '526': 7134, 'tunji': 7135, 'minstand': 7136, 'witin': 7137, 'subtoitles': 7138, 'forwarding': 7139, 'real1': 7140, 'pushbutton': 7141, 'dontcha': 7142, 'babygoodbye': 7143, 'golddigger': 7144, 'webeburnin': 7145, 'wining': 7146, '946': 7147, 'logging': 7148, 'desert': 7149, 'geoenvironmental': 7150, 'implications': 7151, 'el': 7152, 'nino': 7153, 'himself': 7154, 'needy': 7155, 'warned': 7156, 'sprint': 7157, 'intrude': 7158, 'intrepid': 7159, 'duo': 7160, 'quiteamuzing': 7161, 'thatåõscool': 7162, '645pm': 7163, \"that'll\": 7164, 'gloucesterroad': 7165, 'uup': 7166, 'prescribed': 7167, 'shoppin': 7168, 'processnetworking': 7169, 'hostile': 7170, 'affectionate': 7171, 'breathing': 7172, 'sos': 7173, 'shb': 7174, '449071512431': 7175, 'kkwhere': 7176, 'youhow': 7177, 'performed': 7178, 'das': 7179, 'iknow': 7180, 'wellda': 7181, 'peril': 7182, 'studentfinancial': 7183, 'crisisspk': 7184, 'ashley': 7185, 'shattered': 7186, '20m12aq': 7187, '\\x89ûï': 7188, 'girlie': 7189, 'asthma': 7190, 'attack': 7191, 'vijaykanth': 7192, 'tvhe': 7193, 'noworriesloanscom': 7194, '08717111821': 7195, 'philosophical': 7196, 'hole': 7197, 'peoples': 7198, 'sexychat': 7199, 'proper': 7200, 'tongued': 7201, 'fifty': 7202, 'miwa': 7203, 'hanger': 7204, 'onwords': 7205, 'mtnl': 7206, 'mumbai': 7207, 'cedar': 7208, 'plate': 7209, 'leftovers': 7210, 'ip': 7211, 'minecraft': 7212, 'server': 7213, 'thinked': 7214, 'robs': 7215, 'avenge': 7216, \"valentine's\": 7217, '69101': 7218, 'wwwrtfsphostingcom': 7219, '3680offer': 7220, \"28thfebtc's\": 7221, 'kidding': 7222, 'papa': 7223, 'yavnt': 7224, 'tellmiss': 7225, 'hf8': 7226, 'younger': 7227, 'nutter': 7228, 'cutter': 7229, 'ctter': 7230, 'cttergg': 7231, 'cttargg': 7232, 'ctargg': 7233, 'ctagg': 7234, 'ie': 7235, \"ny's\": 7236, \"ta's\": 7237, 'sef': 7238, 'anjie': 7239, 'forgiven': 7240, 'guai': 7241, 'famamus': 7242, 'ovulatewhen': 7243, '3wks': 7244, 'unclaimed': 7245, '09066368327': 7246, 'closingdate04': 7247, 'claimcode': 7248, 'm39m51': 7249, 'å£150pmmorefrommobile2bremoved': 7250, 'mobypobox734ls27yf': 7251, 'denying': 7252, 'floppy': 7253, 'snappy': 7254, 'ukp': 7255, '09061790125': 7256, 'starshine': 7257, 'sips': 7258, 'cappuccino': 7259, 'hasnt': 7260, 'gdnow': 7261, '08701417012150p': 7262, 'withdraw': 7263, 'anyhow': 7264, \"i'ma\": 7265, 'restuwud': 7266, 'reliant': 7267, 'lobby': 7268, 'spiritual': 7269, 'yessura': 7270, 'tvlol': 7271, 'tank': 7272, '1225': 7273, 'å£50award': 7274, 'court': 7275, 'hiding': 7276, 'grr': 7277, 'pharmacy': 7278, 'kkany': 7279, 'twins': 7280, 'maili': 7281, 'mailed': 7282, 'varma': 7283, 'membershiptake': 7284, 'careinsha': 7285, 'chief': 7286, 'accordin': 7287, '09066362220': 7288, 'modelsony': 7289, 'ericson': 7290, 'der': 7291, 'luks': 7292, 'modl': 7293, '08712402972': 7294, 'unlike': 7295, 'patients': 7296, 'turkeys': 7297, 'decorating': 7298, 'friendships': 7299, 'grow': 7300, 'buyer': 7301, 'melike': 7302, 'baaaaaaaabe': 7303, 'kkyesterday': 7304, 'dentists': 7305, 'deari': 7306, 'soso': 7307, \"sms'd\": 7308, 'formatting': 7309, 'gastroenteritis': 7310, 'replace': 7311, 'reduce': 7312, 'limiting': 7313, 'illness': 7314, 'starve': 7315, '09058097218': 7316, 'westshore': 7317, 'wondarfull': 7318, 'wendy': 7319, 'ambitious': 7320, 'payback': 7321, 'boltblue': 7322, 'poly3': 7323, 'jamz': 7324, 'toxic': 7325, 'remb': 7326, 'dayshe': 7327, 'potential': 7328, 'sarasota': 7329, '09058099801': 7330, 'b4190604': 7331, '7876150ppm': 7332, 'k718': 7333, '09065069120': 7334, 'gooddhanush': 7335, 'trash': 7336, 'cruisin': 7337, 'performance': 7338, 'calculated': 7339, 'monthnot': 7340, 'ft': 7341, 'combination': 7342, 'noooooooo': 7343, 'sayy': 7344, 'url': 7345, 'hopeing': 7346, 'wasn\\x89û÷t': 7347, 'sisters': 7348, 'importantly': 7349, 'drove': 7350, 'beyond': 7351, 'biro': 7352, '08714712412': 7353, 'puppy': 7354, 'noise': 7355, 'disconnected': 7356, 'formallypls': 7357, 'prayingwill': 7358, 'rejected': 7359, 'teams': 7360, '330': 7361, '1120': 7362, '1205': 7363, 'afternon': 7364, 'interviews': 7365, \"joke's\": 7366, 'florida': 7367, 'path': 7368, 'appear': 7369, 'paths': 7370, 'iron': 7371, '30th': 7372, 'wwwareyouuniquecouk': 7373, 'hangin': 7374, 'bbd': 7375, 'pooja': 7376, 'pimpleseven': 7377, 'blackand': 7378, 'sweatter': 7379, '09061104283': 7380, 'wwwsmsconet': 7381, 'å£150pm': 7382, 'waqt': 7383, 'pehle': 7384, 'naseeb': 7385, 'zyada': 7386, 'kisi': 7387, 'ko': 7388, 'kuch': 7389, 'miltazindgi': 7390, 'hum': 7391, 'sochte': 7392, 'zindgi': 7393, 'jeetey': 7394, 'authorise': 7395, 'payment': 7396, 'laready': 7397, 'comei': 7398, 'sweater': 7399, 'mango': 7400, 'teenager': 7401, 'cashbincouk': 7402, 'wwwcashbincouk': 7403, \"party's\": 7404, 'contribute': 7405, 'greatly': 7406, 'knowyetunde': 7407, 'involve': 7408, 'imposed': 7409, 'juswoke': 7410, 'boatin': 7411, 'docks': 7412, 'spinout': 7413, '08712101358': 7414, 'wither': 7415, 'eg23f': 7416, 'eg23g': 7417, 'smartcall': 7418, '68866': 7419, 'subscriptn3gbp': 7420, '08448714184': 7421, 'stoptxt': 7422, 'landlineonly': 7423, 'semiobscure': 7424, 'dats': 7425, 'dogg': 7426, 'dismay': 7427, '449050000301': 7428, '09050000301': 7429, 'presents': 7430, 'nicky': 7431, 'sentence': 7432, 'educational': 7433, 'slob': 7434, 'kkapo': 7435, 'kgood': 7436, 'outsider': 7437, 'slice': 7438, 'breadstick': 7439, 'uncountable': 7440, 'wtc': 7441, 'weiyi': 7442, 'mentionned': 7443, 'ma': 7444, 'swell': 7445, 'bowls': 7446, 'aunts': 7447, 'tarpon': 7448, 'springs': 7449, 'chad': 7450, 'gymnastics': 7451, 'christians': 7452, 'vid': 7453, 'keyword': 7454, 'loneliness': 7455, \"biola's\": 7456, 'fne': 7457, 'progress': 7458, 'continue': 7459, 'teju': 7460, 'olowoyey': 7461, 'uscedu': 7462, 'argentina': 7463, 'rounderso': 7464, 'required': 7465, 'stayin': 7466, 'strangersaw': 7467, 'heåõs': 7468, 'nowstill': 7469, 'mrur': 7470, '2getha': 7471, 'answerin': 7472, 'sleepy': 7473, 'aeronautics': 7474, 'professors': 7475, 'calld': 7476, 'aeroplane': 7477, 'hurried': 7478, 'esaplanade': 7479, 'stripes': 7480, 'skirt': 7481, '4the': 7482, 'bothering': 7483, 'chgs': 7484, 'textbuddy': 7485, 'gaytextbuddycom': 7486, '89693': 7487, 'parkin': 7488, 'kent': 7489, 'vale': 7490, 'enjoyin': 7491, 'yourjob': 7492, 'hunnyhope': 7493, 'oktake': 7494, 'iåõllspeak': 7495, 'soonlots': 7496, 'semi': 7497, 'opposed': 7498, 'dajst': 7499, 'ou': 7500, 'ceiling': 7501, \"aunty's\": 7502, 'paranoid': 7503, 'ups': 7504, '3days': 7505, '2wks': 7506, 'usps': 7507, 'bribe': 7508, 'nipost': 7509, 'hmmmbut': 7510, 'promotion': 7511, '8714714': 7512, 'risks': 7513, 'gate': 7514, 'beads': 7515, 'asus': 7516, 'reformat': 7517, 'dearregret': 7518, 'cudnt': 7519, 'calldrove': 7520, 'ctla': 7521, 'homeleft': 7522, 'carente': 7523, 'ishtamayoohappy': 7524, 'bakrid': 7525, 'dan': 7526, 'reminded': 7527, \"dealer's\": 7528, 'ksry': 7529, 'sivatats': 7530, 'fones': 7531, 'wild': 7532, 'stop2stop': 7533, 'conform': 7534, 'honestly': 7535, 'promptly': 7536, 'burnt': 7537, 'tattoos': 7538, 'candont': 7539, 'checkmate': 7540, 'chess': 7541, 'persian': 7542, 'phrase': 7543, 'shah': 7544, 'maat': 7545, 'rip': 7546, 'uterus': 7547, 'matthew': 7548, '09063440451': 7549, 'ppm150': 7550, 'box334': 7551, 'sdryb8i': 7552, 'opposite': 7553, 'accidant': 7554, 'tookplace': 7555, 'ghodbandar': 7556, 'slovely': 7557, 'yeahand': 7558, 'newquay': 7559, '1im': 7560, 'talkin': 7561, 'boutxx': 7562, 'hourish': 7563, 'aluable': 7564, 'ffectionate': 7565, 'oveable': 7566, 'ternal': 7567, 'oble': 7568, 'ruthful': 7569, 'ntimate': 7570, 'atural': 7571, 'namous': 7572, 'flaky': 7573, 'parent': 7574, \"it'snot\": 7575, \"child's\": 7576, 'parentnot': 7577, 'unintentional': 7578, 'nonetheless': 7579, 'exp': 7580, '30apr': 7581, 'chikkusimple': 7582, 'habbahw': 7583, 'powerful': 7584, 'weapon': 7585, 'occupy': 7586, \"'heart'\": 7587, 'manageable': 7588, 'view': 7589, 'gays': 7590, 'dartboard': 7591, 'condition': 7592, 'doubles': 7593, 'trebles': 7594, '08715203694': 7595, 'openings': 7596, 'upcharge': 7597, 'rajas': 7598, 'burrito': 7599, 'poet': 7600, 'imaginationmy': 7601, 'dayhas': 7602, 'hopeafternoon': 7603, 'faithevening': 7604, 'luvnight': 7605, 'restwish': 7606, 'todaygood': 7607, 'lanre': 7608, \"fakeye's\": 7609, 'eckankar': 7610, 'sno': 7611, 'prizeto': 7612, 'jan': 7613, 'ofice': 7614, 'oficegot': 7615, 'duffer': 7616, 'alreadysabarish': 7617, 'stil': 7618, 'tobed': 7619, '430': 7620, 'gobi': 7621, 'cashed': 7622, 'announced': 7623, 'blog': 7624, 'yesbut': 7625, 'sterm': 7626, 'resolved': 7627, 'goggles': 7628, 'bari': 7629, 'hudgi': 7630, 'yorge': 7631, 'pataistha': 7632, 'ertini': 7633, '930': 7634, 'jack': 7635, 'helpful': 7636, 'pretend': 7637, 'hypotheticalhuagauahahuagahyuhagga': 7638, 'hittng': 7639, 'reflex': 7640, 'spreadsheet': 7641, 'determine': 7642, 'entire': 7643, 'unfortunately': 7644, 'cakes': 7645, '08719899230': 7646, '8000930705': 7647, 'sirsalam': 7648, 'alaikkumpride': 7649, 'shopwe': 7650, 'qatarrakhesh': 7651, 'indianpls': 7652, 'numberrespectful': 7653, 'audiitions': 7654, 'relocate': 7655, 'woul': 7656, 'curfew': 7657, 'gibe': 7658, 'getsleep': 7659, 'studdying': 7660, 'fffff': 7661, 'ofcourse': 7662, 'toughest': 7663, 'gayle': 7664, 'scratches': 7665, 'onum': 7666, 'footy': 7667, 'stadium': 7668, 'large': 7669, 'coca': 7670, 'cola': 7671, 'bawling': 7672, 'failure': 7673, 'failing': 7674, 'ridden': 7675, 'swhrt': 7676, 'deyhope': 7677, '2daylove': 7678, 'misstake': 7679, 'supports': 7680, 'srt': 7681, 'ps3': 7682, 'galsu': 7683, 'nìâte': 7684, 'avoid': 7685, 'missunderstding': 7686, \"one's\": 7687, 'billy': 7688, 'dose': 7689, 'tablet': 7690, 'hme': 7691, 'jot': 7692, 'robinson': 7693, 'nowcan': 7694, 'adding': 7695, 'zeros': 7696, 'savings': 7697, 'jos': 7698, 'dizzamn': 7699, 'suitemates': 7700, 'angels': 7701, 'snowball': 7702, 'meaningless': 7703, 'ijust': 7704, 'talked': 7705, 'abbey': 7706, 'starving': 7707, 'prasad': 7708, 'pocy': 7709, 'honeydid': 7710, 'gimmi': 7711, 'gossx': 7712, 'puts': 7713, 'perspective': 7714, 'gr8prizes': 7715, '8800': 7716, 'psp': 7717, 'wktxt': 7718, 'wwwgr8prizescom': 7719, 'invoices': 7720, 'sells': 7721, 'clarification': 7722, 'disastrous': 7723, 'darlings': 7724, 'wld': 7725, 'hep': 7726, 'immunisation': 7727, 'ryan': 7728, 'storelike': 7729, 'cereals': 7730, 'gari': 7731, 'animal': 7732, 'adoring': 7733, 'program': 7734, 'slacking': 7735, 'blowing': 7736, 'splash': 7737, 'breaker': 7738, 'deluxe': 7739, 'features': 7740, 'graphics': 7741, 'å£5': 7742, 'bbdeluxe': 7743, '09071517866': 7744, '150ppmpobox10183bhamb64xe': 7745, 'xafter': 7746, 'cst': 7747, 'chg': 7748, 'opinions': 7749, 'categories': 7750, 'measure': 7751, 'ethnicity': 7752, 'census': 7753, 'transcribing': 7754, 'worc': 7755, 'foregate': 7756, 'shrub': 7757, 'stillmaybe': 7758, 'sameso': 7759, 'itor': 7760, 'admiti': 7761, 'madthen': 7762, 'correctionor': 7763, 'lifeand': 7764, 'worldmay': 7765, 'runninglets': 7766, 'hu': 7767, 'navigate': 7768, 'through': 7769, 'choosing': 7770, 'require': 7771, 'guidance': 7772, 'doubt': 7773, 'burden': 7774, 'barbie': 7775, \"ken's\": 7776, 'holby': 7777, 'shun': 7778, 'bian': 7779, 'glass': 7780, 'exhibition': 7781, \"partner's\": 7782, 'method': 7783, 'calculation': 7784, 'non': 7785, 'alter': 7786, '09095350301': 7787, 'erotic': 7788, 'ecstacy': 7789, 'bleak': 7790, 'lotta': 7791, 'corvettes': 7792, 'unconscious': 7793, 'adults': 7794, 'abnormally': 7795, '146tf150p': 7796, 'hont': 7797, 'tex': 7798, 'mecause': 7799, 'werebored': 7800, 'okden': 7801, 'hunny': 7802, 'uin': 7803, 'satsoundåõs': 7804, 'likeyour': 7805, 'gr8fun': 7806, 'updat': 7807, 'countinlots': 7808, 'puttin': 7809, 'danger': 7810, 'peeps': 7811, 'comment': 7812, 'remembrs': 7813, 'remembered': 7814, 'everytime': 7815, \"textin'\": 7816, '09050005321': 7817, 'stagwood': 7818, 'winterstone': 7819, 'victors': 7820, 'ohi': 7821, 'hahatake': 7822, 'madamregret': 7823, 'disturbancemight': 7824, 'dlf': 7825, 'premaricakindly': 7826, 'informedrgdsrakheshkerala': 7827, 'loti': 7828, 'oga': 7829, 'recieve': 7830, 'teletext': 7831, 'drama': 7832, 'plsi': 7833, 'struggling': 7834, 'strange': 7835, 'placeno': 7836, 'ego': 7837, \"'if\": 7838, \"invited'\": 7839, 'necessity': 7840, 'gowait': 7841, 'reppurcussions': 7842, 'cosign': 7843, 'craving': 7844, 'hectic': 7845, '4goten': 7846, \"me'\": 7847, 'scammers': 7848, 'smartthough': 7849, 'subscription': 7850, 'gprs': 7851, 'santha': 7852, 'corrct': 7853, 'dane': 7854, 'costumes': 7855, 'yowifes': 7856, 'permission': 7857, 'com': 7858, 'compensation': 7859, 'submitting': 7860, 'pity': 7861, 'soany': 7862, 'suggestions': 7863, 'spiffing': 7864, 'workage': 7865, 'everywhere': 7866, 'dirt': 7867, 'windows': 7868, 'chores': 7869, 'exist': 7870, 'hail': 7871, 'mist': 7872, 'nohe': 7873, '09050000928': 7874, 'chile': 7875, 'subletting': 7876, 'squishy': 7877, 'mwahs': 7878, 'prestige': 7879, '10k': 7880, '5k': 7881, '09064011000': 7882, 'cr01327bt': 7883, 'fixedline': 7884, 'coveragd': 7885, 'vasai': 7886, \"4'o\": 7887, 'gary': 7888, 'machines': 7889, 'walsall': 7890, 'tue': 7891, 'terry': 7892, 'balls': 7893, 'rajini': 7894, 'yah': 7895, 'hlday': 7896, 'camp': 7897, 'amrca': 7898, 'serena': 7899, 'å£1000call': 7900, '09071512432': 7901, '300603tcsbcm4235wc1n3xxcallcost150ppmmobilesvary': 7902, 'leu': 7903, 'feelingwavering': 7904, 'decisions': 7905, 'coping': 7906, 'individualtime': 7907, 'heal': 7908, 'faded': 7909, 'glory': 7910, 'ralphs': 7911, 'jackson': 7912, 'tonesreply': 7913, 'spun': 7914, 'wrld': 7915, 'cozy': 7916, 'nightnobody': 7917, 'dawhere': 7918, 'prix': 7919, 'signal': 7920, 'unusual': 7921, 'uses': 7922, 'naal': 7923, 'eruku': 7924, \"fren's\": 7925, \"wherre's\": 7926, 'shrek': 7927, '3db': 7928, 'scenery': 7929, 'okmail': 7930, 'nick': 7931, 'types': 7932, 'warwick': 7933, 'tmw': 7934, 'canceled': 7935, \"havn't\": 7936, 'secured': 7937, 'unsecured': 7938, '195': 7939, '6669': 7940, '09050001295': 7941, 'a21': 7942, 'hack': 7943, 'backdoor': 7944, 'fraction': 7945, 'neo69': 7946, '09050280520': 7947, 'subscribe': 7948, 'dps': 7949, 'bcm': 7950, '8027': 7951, 'farting': 7952, '400minscall': 7953, 'j5q': 7954, 'stash': 7955, '27': 7956, '08714714011': 7957, 'brin': 7958, 'sheet': 7959, 'qet': 7960, 'bbdthts': 7961, 'dvg': 7962, 'coldheard': 7963, 'vinobanagar': 7964, 'conditionand': 7965, 'wind': 7966, 'cthen': 7967, 'conclusion': 7968, 'references': 7969, 'alivebetter': 7970, 'jaklin': 7971, '2years': 7972, 'strain': 7973, 'practical': 7974, 'gwr': 7975, 'lou': 7976, 'gailxx': 7977, 'wildlife': 7978, 'want2come': 7979, 'that2worzels': 7980, 'wizzle': 7981, 'earliest': 7982, 'tai': 7983, 'feng': 7984, 'reservations': 7985, 'str8': 7986, 'classic': 7987, '200p': 7988, 'lightly': 7989, 'custom': 7990, 'checkboxes': 7991, 'spageddies': 7992, 'poortiyagi': 7993, 'odalebeku': 7994, 'hanumanji': 7995, 'hanuman': 7996, 'bajarangabali': 7997, 'maruti': 7998, 'pavanaputra': 7999, 'sankatmochan': 8000, 'ramaduth': 8001, 'mahaveer': 8002, 'janarige': 8003, 'ivatte': 8004, 'kalisidare': 8005, 'olage': 8006, 'ondu': 8007, 'keluviri': 8008, 'maretare': 8009, 'inde': 8010, 'dodda': 8011, 'problum': 8012, 'nalli': 8013, 'siguviri': 8014, 'idu': 8015, 'matra': 8016, 'neglet': 8017, 'iåõd': 8018, 'teresa': 8019, 'dec': 8020, \"you'ld\": 8021, 'bam': 8022, 'aid': 8023, 'usmle': 8024, 'jewelry': 8025, 'trips': 8026, 'urination': 8027, 'shouting': 8028, 'wondar': 8029, 'flim': 8030, 'pongaldo': 8031, 'aptitude': 8032, 'chic': 8033, 'declare': 8034, 'dual': 8035, 'beverage': 8036, 'vpist': 8037, 'hiphop': 8038, 'champ': 8039, 'glasgow': 8040, 'nordstrom': 8041, 'hmph': 8042, 'baller': 8043, '08712103738': 8044, 'resubbing': 8045, 'clever': 8046, 'pears': 8047, 'expressoffer': 8048, 'apply2': 8049, 'level': 8050, 'eh74rr': 8051, 'kills': 8052, 'ams': 8053, 'sitter': 8054, 'kaitlyn': 8055, \"'an\": 8056, \"quote''\": 8057, 'passes': 8058, '08704439680': 8059, '3lions': 8060, 'someonethat': 8061, 'seperated\\x8eö´\\x89ó': 8062, '\\x8bû¬ud': 8063, 'ingredients': 8064, 'mapquest': 8065, 'dogwood': 8066, \"nobody's\": 8067, '730pm': 8068, '10th': 8069, '09050000555': 8070, 'ba128nnfwfly150ppm': 8071, 'gran': 8072, 'onlyfound': 8073, 'afew': 8074, 'agocusoon': 8075, 'honi': 8076, 'hdd': 8077, 'casing': 8078, 'hypertension': 8079, 'placed': 8080, 'signin': 8081, 'tmorrowpls': 8082, 'accomodate': 8083, 'tallent': 8084, 'wasting': 8085, 'dusk': 8086, 'puzzles': 8087, 'sorryin': 8088, 'visa': 8089, 'gucci': 8090, 'bills': 8091, 'ph': 8092, 'tomorro': 8093, \"it'll\": 8094, 'nowadays': 8095, 'notixiquating': 8096, 'laxinorficated': 8097, 'bambling': 8098, 'entropication': 8099, 'oblisingately': 8100, 'opted': 8101, 'masteriastering': 8102, 'amplikater': 8103, 'fidalfication': 8104, 'champlaxigating': 8105, 'atrocious': 8106, 'wotz': 8107, 'junna': 8108, 'youwhen': 8109, 'alibi': 8110, 'luckily': 8111, 'starring': 8112, 'gua': 8113, 'faber': 8114, 'sen': 8115, \"anything's\": 8116, 'yesgauti': 8117, 'sehwag': 8118, \"1's\": 8119, '7cfca1a': 8120, 'vtired': 8121, 'inspection': 8122, 'nursery': 8123, 'piggy': 8124, 'z': 8125, 'theyre': 8126, 'flood': 8127, 'motherfucker': 8128, 'install': 8129, 'browse': 8130, 'artists': 8131, 'pple700': 8132, 'nightsexcellent': 8133, 'breakfast': 8134, 'hamper': 8135, '08714712394': 8136, 'toshiba': 8137, 'portege': 8138, 'm100': 8139, 'rimac': 8140, 'jia': 8141, 'tip': 8142, 'flippin': 8143, 'complacent': 8144, 'videos': 8145, 'smsshsexnetun': 8146, 'fgkslpopw': 8147, 'fgkslpo': 8148, 'multiply': 8149, 'independently': 8150, 'showed': 8151, \"vikkyi'm\": 8152, 'restock': 8153, 'gek1510': 8154, 'audrie': 8155, 'autocorrect': 8156, 'multis': 8157, '2mro': 8158, 'stuffs': 8159, 'textand': 8160, '08002988890': 8161, 'apologize': 8162, 'admit': 8163, \"g's\": 8164, 'scrounge': 8165, 'ammo': 8166, 'ak': 8167, '2yrs': 8168, 'arpraveesh': 8169, 'delicious': 8170, 'inpersonation': 8171, 'flea': 8172, 'forums': 8173, 'peach': 8174, 'tasts': 8175, 'lovly': 8176, 'tagged': 8177, 'predicting': 8178, 'accumulation': 8179, 'the4th': 8180, 'october': 8181, 'breather': 8182, 'granted': 8183, 'fulfil': 8184, 'coccooning': 8185, '116': 8186, 'ringtoneking': 8187, '84484': 8188, 'asia': 8189, 'detailsi': 8190, 'youmy': 8191, 'stamped': 8192, '113': 8193, 'bray': 8194, 'wicklow': 8195, 'eire': 8196, 'babyjontet': 8197, 'poyyarikaturkolathupalayamunjalur': 8198, 'posterode': 8199, 'free2day': 8200, \"george's\": 8201, 'jordantxt': 8202, '89080': 8203, 'celeb4': 8204, '0870241182716': 8205, 'disconnect': 8206, 'callcoz': 8207, \"'terrorist'\": 8208, 'itz': 8209, 'confirmd': 8210, 'verified': 8211, 'cnn': 8212, 'ibn': 8213, 'enters': 8214, 'differ': 8215, 'differbe': 8216, 'jeremiah': 8217, 'typelyk': 8218, 'footblcrckt': 8219, 'oyster': 8220, 'sashimi': 8221, 'rumbling': 8222, 'chinatown': 8223, 'porridge': 8224, 'claypot': 8225, 'yam': 8226, 'fishhead': 8227, 'beehoon': 8228, 'ignoring': 8229, '09061790126': 8230, 'becz': 8231, 'undrstndng': 8232, 'avoids': 8233, 'suffer': 8234, 'fowler': 8235, 'collapsed': 8236, 'tall': 8237, 'cc100p': 8238, 'muhommad': 8239, 'penny': 8240, \"ryan's\": 8241, 'recharged': 8242, 'eachother': 8243, 'worryuse': 8244, 'cloth': 8245, 'packalso': 8246, 'chop': 8247, 'lindsay': 8248, 'bars': 8249, 'heron': 8250, 'thanks2': 8251, 'fondly': 8252, 'treats': 8253, 'bridgwater': 8254, 'banter': 8255, 'prediction': 8256, 'resume': 8257, '3230': 8258, 'textbook': 8259, 'algorithms': 8260, 'edition': 8261, 'tscs08714740323': 8262, '1winawk': 8263, 'å£150perweeksub': 8264, 'ahwhat': 8265, 'machiany': 8266, '0089': 8267, 'digits': 8268, '09063442151': 8269, '09061743810': 8270, 'officewhats': 8271, 'mattermsg': 8272, '1childish': 8273, '2naughty': 8274, '3sentiment': 8275, '4rowdy': 8276, '5ful': 8277, 'attitude': 8278, '6romantic': 8279, '7shy': 8280, '8attractive': 8281, '9funny': 8282, 'lifted': 8283, 'hopes': 8284, 'approaches': 8285, 'nowadayslot': 8286, 'showroomscity': 8287, 'shaping': 8288, 'icic': 8289, 'shola': 8290, 'medicine': 8291, 'department': 8292, 'sagamu': 8293, 'lautech': 8294, 'vital': 8295, 'completes': 8296, 'education': 8297, 'zealand': 8298, 'andrews': 8299, 'stink': 8300, 'beach': 8301, 'expected': 8302, 'thnx': 8303, 'until': 8304, '545': 8305, 'breeze': 8306, 'fresh': 8307, 'twittering': 8308, 'ga': 8309, 'monkey': 8310, 'asshole': 8311, 'playin': 8312, 'arr': 8313, 'oscar': 8314, 'vomiting': 8315, 'sane': 8316, 'helping': 8317, 'trackmarque': 8318, 'infovipclub4u': 8319, 'painhope': 8320, \"hasn't\": 8321, 'listed': 8322, 'skip': 8323, 'spelled': 8324, 'caps': 8325, 'yelling': 8326, 'bullshit': 8327, 'relieved': 8328, 'westonzoyland': 8329, 'oral': 8330, 'printer': 8331, 'groovy': 8332, 'groovying': 8333, 'jamster': 8334, '08701213186': 8335, '83021': 8336, 'armenia': 8337, 'swann': 8338, 'howard': 8339, 'yalrigu': 8340, 'heltiniiyo': 8341, 'shared': 8342, 'meso': 8343, 'uttered': 8344, 'trusting': 8345, 'meok': 8346, '2geva': 8347, 'grab': 8348, \"ìï'll\": 8349, 'snatch': 8350, 'gandhipuram': 8351, '09066660100': 8352, '2309': 8353, 'åòharry': 8354, 'spirit': 8355, 'orh': 8356, 'gut': 8357, 'wrenching': 8358, 'pleasured': 8359, '3miles': 8360, 'bw': 8361, 'nottingham': 8362, '63miles': 8363, '40mph': 8364, '0871277810710p': 8365, 'theres': 8366, 'lord': 8367, 'ringsreturn': 8368, 'nowreply': 8369, 'soundtrack': 8370, 'stdtxtrate': 8371, \"they'll\": 8372, 'slurp': 8373, 'yummmm': 8374, 'afterwards': 8375, 'vat': 8376, 'cheery': 8377, 'hubby': 8378, 'meetins': 8379, 'cumin': 8380, '09099726395': 8381, 'accomodations': 8382, 'cave': 8383, 'offered': 8384, 'embarassing': 8385, 'surgical': 8386, 'emergency': 8387, 'unfolds': 8388, 'thin': 8389, 'faultal': 8390, 'arguments': 8391, 'faultfed': 8392, 'himso': 8393, 'thanxxx': 8394, 'goin2bed': 8395, 'only1more': 8396, 'cheque': 8397, 'potato': 8398, 'ratio': 8399, 'crashing': 8400, 'lasagna': 8401, 'stoners': 8402, 'recorded': 8403, 'vill': 8404, 'orc': 8405, '515pm': 8406, 'explicitly': 8407, 'nora': 8408, 'nhs': 8409, 'mistakeu': 8410, 'bornplease': 8411, 'yor': 8412, '2b': 8413, 'terminatedwe': 8414, 'inconvenience': 8415, 'hcl': 8416, 'requires': 8417, 'freshers': 8418, 'processexcellent': 8419, 'neededsalary': 8420, 'mssuman': 8421, 'telephonic': 8422, 'indyarockscom': 8423, 'salesman': 8424, 'velachery': 8425, 'somewhr': 8426, 'crushes': 8427, 'rgent': 8428, 'jjc': 8429, 'tendencies': 8430, 'justify': 8431, 'heygreat': 8432, 'dealfarm': 8433, '95': 8434, 'pax': 8435, 'deposit': 8436, 'tap': 8437, 'spile': 8438, 'broad': 8439, 'canal': 8440, 'rp176781': 8441, 'wwwregalportfoliocouk': 8442, '08717205546': 8443, 'borrow': 8444, 'passport': 8445, 'lingo': 8446, 'kkare': 8447, 'sbut': 8448, 'luck2': 8449, 'catches': 8450, 'simulate': 8451, 'readiness': 8452, 'sinco': 8453, 'payee': 8454, 'icicibankcom': 8455, 'frauds': 8456, 'disclose': 8457, 'apes': 8458, 'skyving': 8459, 'priya': 8460, 'faith': 8461, 'possiblehope': 8462, 'worklove': 8463, 'beautifulmay': 8464, 'christmasmerry': 8465, 'himthen': 8466, 'virtual': 8467, 'hug': 8468, 'sexiest': 8469, 'dirtiest': 8470, '09061749602': 8471, '528': 8472, 'hp20': 8473, '1yf': 8474, 'purchases': 8475, 'heavily': 8476, 'infact': 8477, 'taj': 8478, 'mahal': 8479, 'lesser': 8480, 'known': 8481, 'facts': 8482, \"shahjahan's\": 8483, 'wifes': 8484, 'shahjahan': 8485, 'arises': 8486, 'hari': 8487, 'salmon': 8488, 'creative': 8489, 'yards': 8490, 'bergkamp': 8491, 'margin': 8492, '78': 8493}\n",
      "Found 8493 unique tokens.\n"
     ]
    }
   ],
   "source": [
    "# dictionary containing words and their index\n",
    "word_index = tokenizer.word_index\n",
    "print(tokenizer.word_index)\n",
    "\n",
    "# total words in the corpus\n",
    "print('Found %s unique tokens.' % len(word_index))"
   ]
  },
  {
   "cell_type": "code",
   "execution_count": 30,
   "metadata": {},
   "outputs": [
    {
     "name": "stdout",
     "output_type": "stream",
     "text": [
      "(4457, 300)\n",
      "(1115, 300)\n"
     ]
    }
   ],
   "source": [
    "# get only the top frequent words on train\n",
    "train_data = pad_sequences(train_sequences, maxlen=MAX_SEQUENCE_LENGTH)\n",
    "print(train_data.shape)\n",
    "\n",
    "# get only the top frequent words on test\n",
    "test_data = pad_sequences(test_sequences, maxlen=MAX_SEQUENCE_LENGTH)\n",
    "print(test_data.shape)"
   ]
  },
  {
   "cell_type": "code",
   "execution_count": 38,
   "metadata": {},
   "outputs": [],
   "source": [
    "train_labels = train['Target']\n",
    "test_labels = test['Target'] "
   ]
  },
  {
   "cell_type": "code",
   "execution_count": 39,
   "metadata": {},
   "outputs": [],
   "source": [
    "#import library\n",
    "from sklearn.preprocessing import LabelEncoder\n",
    "import numpy as np"
   ]
  },
  {
   "cell_type": "code",
   "execution_count": 40,
   "metadata": {},
   "outputs": [
    {
     "name": "stdout",
     "output_type": "stream",
     "text": [
      "['ham' 'spam']\n",
      "(array([0, 1]), array([3859,  598], dtype=int64))\n",
      "(array([0, 1]), array([966, 149], dtype=int64))\n"
     ]
    }
   ],
   "source": [
    "# converts the character array to numeric array. Assigns levels to unique labels.\n",
    "le = LabelEncoder()\n",
    "le.fit(train_labels)\n",
    "train_labels = le.transform(train_labels)\n",
    "test_labels = le.transform(test_labels)\n",
    "\n",
    "print(le.classes_)\n",
    "print(np.unique(train_labels, return_counts=True))\n",
    "print(np.unique(test_labels, return_counts=True))"
   ]
  },
  {
   "cell_type": "code",
   "execution_count": 42,
   "metadata": {},
   "outputs": [
    {
     "name": "stdout",
     "output_type": "stream",
     "text": [
      "Shape of data tensor: (4457, 300)\n",
      "Shape of label tensor: (4457, 2)\n",
      "Shape of label tensor: (1115, 2)\n"
     ]
    }
   ],
   "source": [
    "from keras.utils import to_categorical\n",
    "\n",
    "# changing data types\n",
    "labels_train = to_categorical(np.asarray(train_labels))\n",
    "labels_test = to_categorical(np.asarray(test_labels))\n",
    "\n",
    "print('Shape of data tensor:', train_data.shape)\n",
    "print('Shape of label tensor:', labels_train.shape)\n",
    "print('Shape of label tensor:', labels_test.shape)"
   ]
  },
  {
   "cell_type": "code",
   "execution_count": 43,
   "metadata": {},
   "outputs": [
    {
     "name": "stdout",
     "output_type": "stream",
     "text": [
      "300\n"
     ]
    }
   ],
   "source": [
    "EMBEDDING_DIM = 100\n",
    "print(MAX_SEQUENCE_LENGTH)"
   ]
  },
  {
   "cell_type": "markdown",
   "metadata": {},
   "source": [
    "Step 2-5 Model building and predicting"
   ]
  },
  {
   "cell_type": "code",
   "execution_count": 46,
   "metadata": {},
   "outputs": [
    {
     "name": "stdout",
     "output_type": "stream",
     "text": [
      "Training CNN 1D model.\n"
     ]
    }
   ],
   "source": [
    "# Import Libraries\n",
    "import sys, os, re, csv, codecs, numpy as np, pandas as pd\n",
    "from tensorflow.keras.preprocessing.text import Tokenizer\n",
    "from keras.preprocessing.sequence import pad_sequences\n",
    "from keras.utils import to_categorical\n",
    "from keras.layers import Dense, Input, LSTM, Embedding, Dropout, Activation\n",
    "from keras.layers import Bidirectional, GlobalMaxPool1D, Conv1D, SimpleRNN\n",
    "from keras.models import Model\n",
    "from keras.models import Sequential\n",
    "from keras import initializers, regularizers, constraints, optimizers, layers\n",
    "from keras.layers import Dense, Input, Flatten, Dropout, BatchNormalization\n",
    "from keras.layers import Conv1D, MaxPooling1D, Embedding\n",
    "from keras.models import Sequential\n",
    "\n",
    "print('Training CNN 1D model.')"
   ]
  },
  {
   "cell_type": "code",
   "execution_count": 49,
   "metadata": {},
   "outputs": [
    {
     "name": "stderr",
     "output_type": "stream",
     "text": [
      "c:\\Users\\Lattae\\anaconda3\\lib\\site-packages\\keras\\src\\layers\\core\\embedding.py:90: UserWarning: Argument `input_length` is deprecated. Just remove it.\n",
      "  warnings.warn(\n"
     ]
    }
   ],
   "source": [
    "model = Sequential()\n",
    "model.add(Embedding(MAX_NB_WORDS, EMBEDDING_DIM, input_length=MAX_SEQUENCE_LENGTH))\n",
    "model.add(Dropout(0.5))\n",
    "model.add(Conv1D(128, 5, activation='relu'))\n",
    "model.add(MaxPooling1D(5))\n",
    "model.add(Dropout(0.5))\n",
    "model.add(BatchNormalization())\n",
    "model.add(Conv1D(128, 5, activation='relu'))\n",
    "model.add(MaxPooling1D(5))\n",
    "model.add(Dropout(0.5))\n",
    "model.add(BatchNormalization())\n",
    "model.add(Flatten())\n",
    "model.add(Dense(128, activation='relu'))\n",
    "model.add(Dense(2, activation='softmax'))\n",
    "model.compile(loss='categorical_crossentropy',\n",
    "              optimizer='rmsprop',\n",
    "              metrics=['acc'])"
   ]
  },
  {
   "cell_type": "code",
   "execution_count": 50,
   "metadata": {},
   "outputs": [
    {
     "name": "stdout",
     "output_type": "stream",
     "text": [
      "Epoch 1/5\n",
      "\u001b[1m70/70\u001b[0m \u001b[32m━━━━━━━━━━━━━━━━━━━━\u001b[0m\u001b[37m\u001b[0m \u001b[1m9s\u001b[0m 103ms/step - acc: 0.7974 - loss: 0.4965 - val_acc: 0.8664 - val_loss: 0.3756\n",
      "Epoch 2/5\n",
      "\u001b[1m70/70\u001b[0m \u001b[32m━━━━━━━━━━━━━━━━━━━━\u001b[0m\u001b[37m\u001b[0m \u001b[1m8s\u001b[0m 110ms/step - acc: 0.9303 - loss: 0.2044 - val_acc: 0.8664 - val_loss: 0.3385\n",
      "Epoch 3/5\n",
      "\u001b[1m70/70\u001b[0m \u001b[32m━━━━━━━━━━━━━━━━━━━━\u001b[0m\u001b[37m\u001b[0m \u001b[1m8s\u001b[0m 111ms/step - acc: 0.9767 - loss: 0.0869 - val_acc: 0.1336 - val_loss: 0.7901\n",
      "Epoch 4/5\n",
      "\u001b[1m70/70\u001b[0m \u001b[32m━━━━━━━━━━━━━━━━━━━━\u001b[0m\u001b[37m\u001b[0m \u001b[1m8s\u001b[0m 110ms/step - acc: 0.9818 - loss: 0.0628 - val_acc: 0.1336 - val_loss: 0.7313\n",
      "Epoch 5/5\n",
      "\u001b[1m70/70\u001b[0m \u001b[32m━━━━━━━━━━━━━━━━━━━━\u001b[0m\u001b[37m\u001b[0m \u001b[1m8s\u001b[0m 110ms/step - acc: 0.9903 - loss: 0.0445 - val_acc: 0.9848 - val_loss: 0.6406\n"
     ]
    },
    {
     "data": {
      "text/plain": [
       "<keras.src.callbacks.history.History at 0x19957c6a760>"
      ]
     },
     "execution_count": 50,
     "metadata": {},
     "output_type": "execute_result"
    }
   ],
   "source": [
    "# We are now fitting our model to the data. Here we have 5 epochs and a batch size of 64 patterns.\n",
    "model.fit(train_data, labels_train, \n",
    "          batch_size=64,\n",
    "          epochs=5,\n",
    "          validation_data=(test_data, labels_test))"
   ]
  },
  {
   "cell_type": "code",
   "execution_count": 51,
   "metadata": {},
   "outputs": [
    {
     "name": "stdout",
     "output_type": "stream",
     "text": [
      "\u001b[1m35/35\u001b[0m \u001b[32m━━━━━━━━━━━━━━━━━━━━\u001b[0m\u001b[37m\u001b[0m \u001b[1m1s\u001b[0m 14ms/step\n"
     ]
    },
    {
     "data": {
      "text/plain": [
       "array([[0.5139222 , 0.48607785],\n",
       "       [0.511462  , 0.48853803],\n",
       "       [0.51676095, 0.48323902],\n",
       "       ...,\n",
       "       [0.5122004 , 0.48779958],\n",
       "       [0.5192138 , 0.48078617],\n",
       "       [0.5124003 , 0.48759973]], dtype=float32)"
      ]
     },
     "execution_count": 51,
     "metadata": {},
     "output_type": "execute_result"
    }
   ],
   "source": [
    "#predictions on test data\n",
    "predicted=model.predict(test_data)\n",
    "predicted"
   ]
  },
  {
   "cell_type": "markdown",
   "metadata": {},
   "source": [
    "model evaluation"
   ]
  },
  {
   "cell_type": "code",
   "execution_count": 53,
   "metadata": {},
   "outputs": [
    {
     "name": "stdout",
     "output_type": "stream",
     "text": [
      "precision: [0.982706 1.      ]\n",
      "recall: [1.         0.88590604]\n",
      "fscore: [0.99127758 0.93950178]\n",
      "support: [966 149]\n",
      "############################\n",
      "              precision    recall  f1-score   support\n",
      "\n",
      "           0       0.98      1.00      0.99       966\n",
      "           1       1.00      0.89      0.94       149\n",
      "\n",
      "   micro avg       0.98      0.98      0.98      1115\n",
      "   macro avg       0.99      0.94      0.97      1115\n",
      "weighted avg       0.99      0.98      0.98      1115\n",
      " samples avg       0.98      0.98      0.98      1115\n",
      "\n"
     ]
    }
   ],
   "source": [
    "import sklearn\n",
    "from sklearn.metrics import precision_recall_fscore_support as score\n",
    "\n",
    "precision, recall, fscore, support = score(labels_test, predicted.round())\n",
    "\n",
    "print('precision: {}'.format(precision))\n",
    "print('recall: {}'.format(recall))\n",
    "print('fscore: {}'.format(fscore))\n",
    "print('support: {}'.format(support))\n",
    "print(\"############################\")\n",
    "print(sklearn.metrics.classification_report(labels_test, predicted.round()))"
   ]
  },
  {
   "cell_type": "markdown",
   "metadata": {},
   "source": [
    "Define RNN Model"
   ]
  },
  {
   "cell_type": "code",
   "execution_count": 55,
   "metadata": {},
   "outputs": [
    {
     "name": "stdout",
     "output_type": "stream",
     "text": [
      "Training SIMPLERNN model.\n",
      "Epoch 1/5\n"
     ]
    },
    {
     "name": "stderr",
     "output_type": "stream",
     "text": [
      "c:\\Users\\Lattae\\anaconda3\\lib\\site-packages\\keras\\src\\layers\\core\\embedding.py:90: UserWarning: Argument `input_length` is deprecated. Just remove it.\n",
      "  warnings.warn(\n",
      "c:\\Users\\Lattae\\anaconda3\\lib\\site-packages\\keras\\src\\layers\\rnn\\rnn.py:204: UserWarning: Do not pass an `input_shape`/`input_dim` argument to a layer. When using Sequential models, prefer using an `Input(shape)` object as the first layer in the model instead.\n",
      "  super().__init__(**kwargs)\n"
     ]
    },
    {
     "name": "stdout",
     "output_type": "stream",
     "text": [
      "\u001b[1m279/279\u001b[0m \u001b[32m━━━━━━━━━━━━━━━━━━━━\u001b[0m\u001b[37m\u001b[0m \u001b[1m26s\u001b[0m 89ms/step - accuracy: 0.8536 - loss: 0.5652 - val_accuracy: 0.9103 - val_loss: 0.3997\n",
      "Epoch 2/5\n",
      "\u001b[1m279/279\u001b[0m \u001b[32m━━━━━━━━━━━━━━━━━━━━\u001b[0m\u001b[37m\u001b[0m \u001b[1m27s\u001b[0m 96ms/step - accuracy: 0.9599 - loss: 0.3046 - val_accuracy: 0.9193 - val_loss: 0.3195\n",
      "Epoch 3/5\n",
      "\u001b[1m279/279\u001b[0m \u001b[32m━━━━━━━━━━━━━━━━━━━━\u001b[0m\u001b[37m\u001b[0m \u001b[1m27s\u001b[0m 95ms/step - accuracy: 0.9879 - loss: 0.1817 - val_accuracy: 0.9247 - val_loss: 0.2726\n",
      "Epoch 4/5\n",
      "\u001b[1m279/279\u001b[0m \u001b[32m━━━━━━━━━━━━━━━━━━━━\u001b[0m\u001b[37m\u001b[0m \u001b[1m27s\u001b[0m 95ms/step - accuracy: 0.9961 - loss: 0.1146 - val_accuracy: 0.9274 - val_loss: 0.2470\n",
      "Epoch 5/5\n",
      "\u001b[1m279/279\u001b[0m \u001b[32m━━━━━━━━━━━━━━━━━━━━\u001b[0m\u001b[37m\u001b[0m \u001b[1m26s\u001b[0m 94ms/step - accuracy: 0.9971 - loss: 0.0783 - val_accuracy: 0.9175 - val_loss: 0.2436\n"
     ]
    },
    {
     "data": {
      "text/plain": [
       "<keras.src.callbacks.history.History at 0x19957c6afd0>"
      ]
     },
     "execution_count": 55,
     "metadata": {},
     "output_type": "execute_result"
    }
   ],
   "source": [
    "#import library\n",
    "from tensorflow.keras.layers import SimpleRNN\n",
    "\n",
    "\n",
    "#model training\n",
    "print('Training SIMPLERNN model.')\n",
    "model = Sequential()\n",
    "model.add(Embedding(MAX_NB_WORDS, EMBEDDING_DIM,input_length=MAX_SEQUENCE_LENGTH))\n",
    "model.add(SimpleRNN(2, input_shape=(None,1)))\n",
    "model.add(Dense(2,activation='softmax'))\n",
    "model.compile(loss = 'binary_crossentropy',\n",
    "              \n",
    "optimizer='adam',metrics = ['accuracy']) \n",
    "model.fit(train_data, labels_train, batch_size=16, epochs=5, validation_data=(test_data, labels_test))"
   ]
  },
  {
   "cell_type": "code",
   "execution_count": 56,
   "metadata": {},
   "outputs": [
    {
     "name": "stdout",
     "output_type": "stream",
     "text": [
      "\u001b[1m35/35\u001b[0m \u001b[32m━━━━━━━━━━━━━━━━━━━━\u001b[0m\u001b[37m\u001b[0m \u001b[1m1s\u001b[0m 33ms/step\n"
     ]
    },
    {
     "data": {
      "text/plain": [
       "array([[0.9946063 , 0.00539366],\n",
       "       [0.9988959 , 0.00110413],\n",
       "       [0.99874735, 0.00125265],\n",
       "       ...,\n",
       "       [0.892392  , 0.10760799],\n",
       "       [0.5846516 , 0.41534844],\n",
       "       [0.997332  , 0.00266801]], dtype=float32)"
      ]
     },
     "execution_count": 56,
     "metadata": {},
     "output_type": "execute_result"
    }
   ],
   "source": [
    "# prediction on test data\n",
    "predicted_Srnn=model.predict(test_data)\n",
    "predicted_Srnn"
   ]
  },
  {
   "cell_type": "code",
   "execution_count": 57,
   "metadata": {},
   "outputs": [
    {
     "name": "stdout",
     "output_type": "stream",
     "text": [
      "precision: [0.93525896 0.75675676]\n",
      "recall: [0.97204969 0.56375839]\n",
      "fscore: [0.95329949 0.64615385]\n",
      "support: [966 149]\n",
      "############################\n",
      "              precision    recall  f1-score   support\n",
      "\n",
      "           0       0.94      0.97      0.95       966\n",
      "           1       0.76      0.56      0.65       149\n",
      "\n",
      "   micro avg       0.92      0.92      0.92      1115\n",
      "   macro avg       0.85      0.77      0.80      1115\n",
      "weighted avg       0.91      0.92      0.91      1115\n",
      " samples avg       0.92      0.92      0.92      1115\n",
      "\n"
     ]
    }
   ],
   "source": [
    "#model evaluation\n",
    "from sklearn.metrics import precision_recall_fscore_support as score\n",
    "\n",
    "precision, recall, fscore, support = score(labels_test, predicted_Srnn.round())\n",
    "print('precision: {}'.format(precision))\n",
    "print('recall: {}'.format(recall))\n",
    "print('fscore: {}'.format(fscore))\n",
    "print('support: {}'.format(support))\n",
    "print(\"############################\")\n",
    "print(sklearn.metrics.classification_report(labels_test, predicted_Srnn.round()))"
   ]
  },
  {
   "cell_type": "markdown",
   "metadata": {},
   "source": [
    "Long Short-Term Memory (LSTM)"
   ]
  },
  {
   "cell_type": "code",
   "execution_count": 60,
   "metadata": {},
   "outputs": [
    {
     "name": "stdout",
     "output_type": "stream",
     "text": [
      "Training LSTM model.\n",
      "Epoch 1/5\n",
      "\u001b[1m279/279\u001b[0m \u001b[32m━━━━━━━━━━━━━━━━━━━━\u001b[0m\u001b[37m\u001b[0m \u001b[1m42s\u001b[0m 141ms/step - accuracy: 0.9022 - loss: 0.2806 - val_accuracy: 0.9749 - val_loss: 0.2942\n",
      "Epoch 2/5\n",
      "\u001b[1m279/279\u001b[0m \u001b[32m━━━━━━━━━━━━━━━━━━━━\u001b[0m\u001b[37m\u001b[0m \u001b[1m24s\u001b[0m 85ms/step - accuracy: 0.9954 - loss: 0.0195 - val_accuracy: 0.9857 - val_loss: 0.0555\n",
      "Epoch 3/5\n",
      "\u001b[1m279/279\u001b[0m \u001b[32m━━━━━━━━━━━━━━━━━━━━\u001b[0m\u001b[37m\u001b[0m \u001b[1m25s\u001b[0m 89ms/step - accuracy: 0.9988 - loss: 0.0044 - val_accuracy: 0.9901 - val_loss: 0.0500\n",
      "Epoch 4/5\n",
      "\u001b[1m279/279\u001b[0m \u001b[32m━━━━━━━━━━━━━━━━━━━━\u001b[0m\u001b[37m\u001b[0m \u001b[1m39s\u001b[0m 140ms/step - accuracy: 0.9997 - loss: 0.0015 - val_accuracy: 0.9839 - val_loss: 0.0938\n",
      "Epoch 5/5\n",
      "\u001b[1m279/279\u001b[0m \u001b[32m━━━━━━━━━━━━━━━━━━━━\u001b[0m\u001b[37m\u001b[0m \u001b[1m42s\u001b[0m 152ms/step - accuracy: 1.0000 - loss: 4.0466e-04 - val_accuracy: 0.8448 - val_loss: 0.3786\n"
     ]
    },
    {
     "data": {
      "text/plain": [
       "<keras.src.callbacks.history.History at 0x1996c5f35b0>"
      ]
     },
     "execution_count": 60,
     "metadata": {},
     "output_type": "execute_result"
    }
   ],
   "source": [
    "#model training\n",
    "print('Training LSTM model.')\n",
    "model = Sequential()\n",
    "model.add(Embedding(MAX_NB_WORDS, EMBEDDING_DIM, input_length=MAX_SEQUENCE_LENGTH))\n",
    "model.add(LSTM(units=16, activation='relu', recurrent_activation='hard_sigmoid', return_sequences=True))\n",
    "model.add(Dropout(0.2))\n",
    "model.add(BatchNormalization())\n",
    "model.add(Flatten())\n",
    "model.add(Dense(2,activation='softmax'))\n",
    "model.compile(loss = 'binary_crossentropy', optimizer='adam', metrics = ['accuracy'])\n",
    "model.fit(train_data, labels_train, batch_size=16, epochs=5, validation_data=(test_data, labels_test))"
   ]
  },
  {
   "cell_type": "code",
   "execution_count": 61,
   "metadata": {},
   "outputs": [
    {
     "name": "stdout",
     "output_type": "stream",
     "text": [
      "\u001b[1m35/35\u001b[0m \u001b[32m━━━━━━━━━━━━━━━━━━━━\u001b[0m\u001b[37m\u001b[0m \u001b[1m1s\u001b[0m 23ms/step\n"
     ]
    },
    {
     "data": {
      "text/plain": [
       "array([[1.5544491e-01, 8.4455514e-01],\n",
       "       [9.9772078e-01, 2.2792502e-03],\n",
       "       [9.9999309e-01, 6.9325743e-06],\n",
       "       ...,\n",
       "       [9.9999154e-01, 8.4486956e-06],\n",
       "       [9.9999940e-01, 5.5004699e-07],\n",
       "       [9.9991500e-01, 8.5035208e-05]], dtype=float32)"
      ]
     },
     "execution_count": 61,
     "metadata": {},
     "output_type": "execute_result"
    }
   ],
   "source": [
    "#prediction on text data\n",
    "predicted_lstm=model.predict(test_data)\n",
    "predicted_lstm"
   ]
  },
  {
   "cell_type": "code",
   "execution_count": 62,
   "metadata": {},
   "outputs": [
    {
     "name": "stdout",
     "output_type": "stream",
     "text": [
      "precision: [0.99749059 0.46226415]\n",
      "recall: [0.82298137 0.98657718]\n",
      "fscore: [0.90187181 0.62955032]\n",
      "support: [966 149]\n",
      "############################\n",
      "              precision    recall  f1-score   support\n",
      "\n",
      "           0       1.00      0.82      0.90       966\n",
      "           1       0.46      0.99      0.63       149\n",
      "\n",
      "   micro avg       0.84      0.84      0.84      1115\n",
      "   macro avg       0.73      0.90      0.77      1115\n",
      "weighted avg       0.93      0.84      0.87      1115\n",
      " samples avg       0.84      0.84      0.84      1115\n",
      "\n"
     ]
    }
   ],
   "source": [
    "#model evaluation\n",
    "from sklearn.metrics import precision_recall_fscore_support as score\n",
    "\n",
    "precision, recall, fscore, support = score(labels_test, predicted_lstm.round())\n",
    "print('precision: {}'.format(precision))\n",
    "print('recall: {}'.format(recall))\n",
    "print('fscore: {}'.format(fscore))\n",
    "print('support: {}'.format(support))\n",
    "print(\"############################\")\n",
    "print(sklearn.metrics.classification_report(labels_test, predicted_lstm.round()))"
   ]
  },
  {
   "cell_type": "code",
   "execution_count": 64,
   "metadata": {},
   "outputs": [
    {
     "name": "stdout",
     "output_type": "stream",
     "text": [
      "Training Bidirectional LSTM model.\n",
      "Epoch 1/3\n",
      "\u001b[1m279/279\u001b[0m \u001b[32m━━━━━━━━━━━━━━━━━━━━\u001b[0m\u001b[37m\u001b[0m \u001b[1m69s\u001b[0m 233ms/step - accuracy: 0.8970 - loss: 0.2938 - val_accuracy: 0.9865 - val_loss: 0.0432\n",
      "Epoch 2/3\n",
      "\u001b[1m279/279\u001b[0m \u001b[32m━━━━━━━━━━━━━━━━━━━━\u001b[0m\u001b[37m\u001b[0m \u001b[1m70s\u001b[0m 251ms/step - accuracy: 0.9947 - loss: 0.0224 - val_accuracy: 0.9910 - val_loss: 0.0334\n",
      "Epoch 3/3\n",
      "\u001b[1m279/279\u001b[0m \u001b[32m━━━━━━━━━━━━━━━━━━━━\u001b[0m\u001b[37m\u001b[0m \u001b[1m71s\u001b[0m 255ms/step - accuracy: 0.9987 - loss: 0.0057 - val_accuracy: 0.9892 - val_loss: 0.0426\n"
     ]
    },
    {
     "data": {
      "text/plain": [
       "<keras.src.callbacks.history.History at 0x19971227f40>"
      ]
     },
     "execution_count": 64,
     "metadata": {},
     "output_type": "execute_result"
    }
   ],
   "source": [
    "#model training\n",
    "print('Training Bidirectional LSTM model.')\n",
    "model = Sequential()\n",
    "model.add(Embedding(MAX_NB_WORDS, EMBEDDING_DIM, input_length=MAX_SEQUENCE_LENGTH))\n",
    "model.add(Bidirectional(LSTM(16, return_sequences=True, dropout=0.1, recurrent_dropout=0.1)))\n",
    "model.add(Conv1D(16, kernel_size = 3, padding = \"valid\", kernel_initializer = \"glorot_uniform\"))\n",
    "model.add(GlobalMaxPool1D())\n",
    "model.add(Dense(50, activation=\"relu\"))\n",
    "model.add(Dropout(0.1))\n",
    "model.add(Dense(2,activation='softmax'))\n",
    "model.compile(loss = 'binary_crossentropy', optimizer='adam',metrics = ['accuracy'])\n",
    "model.fit(train_data, labels_train, batch_size=16, epochs=3, validation_data=(test_data, labels_test))"
   ]
  },
  {
   "cell_type": "code",
   "execution_count": 65,
   "metadata": {},
   "outputs": [
    {
     "name": "stdout",
     "output_type": "stream",
     "text": [
      "\u001b[1m35/35\u001b[0m \u001b[32m━━━━━━━━━━━━━━━━━━━━\u001b[0m\u001b[37m\u001b[0m \u001b[1m2s\u001b[0m 34ms/step\n"
     ]
    },
    {
     "data": {
      "text/plain": [
       "array([[1.0000000e+00, 5.0778944e-08],\n",
       "       [1.0000000e+00, 4.3315271e-10],\n",
       "       [9.9999869e-01, 1.3478026e-06],\n",
       "       ...,\n",
       "       [1.0000000e+00, 9.0523818e-11],\n",
       "       [1.0000000e+00, 5.4790874e-09],\n",
       "       [1.0000000e+00, 1.1937731e-10]], dtype=float32)"
      ]
     },
     "execution_count": 65,
     "metadata": {},
     "output_type": "execute_result"
    }
   ],
   "source": [
    "# prediction on test data\n",
    "predicted_blstm=model.predict(test_data)\n",
    "predicted_blstm"
   ]
  },
  {
   "cell_type": "code",
   "execution_count": 66,
   "metadata": {},
   "outputs": [
    {
     "name": "stdout",
     "output_type": "stream",
     "text": [
      "precision: [0.98773006 1.        ]\n",
      "recall: [1.         0.91946309]\n",
      "fscore: [0.99382716 0.95804196]\n",
      "support: [966 149]\n",
      "############################\n",
      "              precision    recall  f1-score   support\n",
      "\n",
      "           0       0.99      1.00      0.99       966\n",
      "           1       1.00      0.92      0.96       149\n",
      "\n",
      "   micro avg       0.99      0.99      0.99      1115\n",
      "   macro avg       0.99      0.96      0.98      1115\n",
      "weighted avg       0.99      0.99      0.99      1115\n",
      " samples avg       0.99      0.99      0.99      1115\n",
      "\n"
     ]
    }
   ],
   "source": [
    "#model evaluation\n",
    "from sklearn.metrics import precision_recall_fscore_support as score\n",
    "precision, recall, fscore, support = score(labels_test, predicted_blstm.round())\n",
    "\n",
    "print('precision: {}'.format(precision))\n",
    "print('recall: {}'.format(recall))\n",
    "print('fscore: {}'.format(fscore))\n",
    "print('support: {}'.format(support))\n",
    "print(\"############################\")\n",
    "print(sklearn.metrics.classification_report(labels_test, predicted_blstm.round()))"
   ]
  },
  {
   "cell_type": "markdown",
   "metadata": {},
   "source": [
    "# Recipe 6-3. Next Word Prediction"
   ]
  },
  {
   "cell_type": "markdown",
   "metadata": {},
   "source": [
    "Step 3-2 Identifying potential data sources, collection, and understanding"
   ]
  },
  {
   "cell_type": "code",
   "execution_count": 67,
   "metadata": {},
   "outputs": [],
   "source": [
    "file_content = pd.read_csv('D:\\\\College\\\\Semester 6\\\\NLP (Natural Language Processing)\\\\TugasBab6_Galih Lanjar Pangastuti_2107412037_CCIT 6B\\\\spam.csv', encoding = \"ISO-8859-1\")"
   ]
  },
  {
   "cell_type": "code",
   "execution_count": 68,
   "metadata": {},
   "outputs": [
    {
     "data": {
      "text/plain": [
       "[['Go until jurong point, crazy.. Available only in bugis n great world la e buffet... Cine there got amore wat...'],\n",
       " ['Ok lar... Joking wif u oni...'],\n",
       " [\"Free entry in 2 a wkly comp to win FA Cup final tkts 21st May 2005. Text FA to 87121 to receive entry question(std txt rate)T&C's apply 08452810075over18's\"],\n",
       " ['U dun say so early hor... U c already then say...'],\n",
       " [\"Nah I don't think he goes to usf, he lives around here though\"],\n",
       " [\"FreeMsg Hey there darling it's been 3 week's now and no word back! I'd like some fun you up for it still? Tb ok! XxX std chgs to send, å£1.50 to rcv\"],\n",
       " ['Even my brother is not like to speak with me. They treat me like aids patent.'],\n",
       " [\"As per your request 'Melle Melle (Oru Minnaminunginte Nurungu Vettam)' has been set as your callertune for all Callers. Press *9 to copy your friends Callertune\"],\n",
       " ['WINNER!! As a valued network customer you have been selected to receivea å£900 prize reward! To claim call 09061701461. Claim code KL341. Valid 12 hours only.'],\n",
       " ['Had your mobile 11 months or more? U R entitled to Update to the latest colour mobiles with camera for Free! Call The Mobile Update Co FREE on 08002986030'],\n",
       " [\"I'm gonna be home soon and i don't want to talk about this stuff anymore tonight, k? I've cried enough today.\"],\n",
       " ['SIX chances to win CASH! From 100 to 20,000 pounds txt> CSH11 and send to 87575. Cost 150p/day, 6days, 16+ TsandCs apply Reply HL 4 info'],\n",
       " ['URGENT! You have won a 1 week FREE membership in our å£100,000 Prize Jackpot! Txt the word: CLAIM to No: 81010 T&C www.dbuk.net LCCLTD POBOX 4403LDNW1A7RW18'],\n",
       " [\"I've been searching for the right words to thank you for this breather. I promise i wont take your help for granted and will fulfil my promise. You have been wonderful and a blessing at all times.\"],\n",
       " ['I HAVE A DATE ON SUNDAY WITH WILL!!'],\n",
       " ['XXXMobileMovieClub: To use your credit, click the WAP link in the next txt message or click here>> http://wap. xxxmobilemovieclub.com?n=QJKGIGHJJGCBL'],\n",
       " [\"Oh k...i'm watching here:)\"],\n",
       " ['Eh u remember how 2 spell his name... Yes i did. He v naughty make until i v wet.'],\n",
       " ['Fine if thatåÕs the way u feel. ThatåÕs the way its gota b'],\n",
       " ['England v Macedonia - dont miss the goals/team news. Txt ur national team to 87077 eg ENGLAND to 87077 Try:WALES, SCOTLAND 4txt/Ì¼1.20 POBOXox36504W45WQ 16+'],\n",
       " ['Is that seriously how you spell his name?'],\n",
       " ['I\\x89Û÷m going to try for 2 months ha ha only joking'],\n",
       " ['So Ì_ pay first lar... Then when is da stock comin...'],\n",
       " ['Aft i finish my lunch then i go str down lor. Ard 3 smth lor. U finish ur lunch already?'],\n",
       " ['Ffffffffff. Alright no way I can meet up with you sooner?'],\n",
       " [\"Just forced myself to eat a slice. I'm really not hungry tho. This sucks. Mark is getting worried. He knows I'm sick when I turn down pizza. Lol\"],\n",
       " ['Lol your always so convincing.'],\n",
       " [\"Did you catch the bus ? Are you frying an egg ? Did you make a tea? Are you eating your mom's left over dinner ? Do you feel my Love ?\"],\n",
       " [\"I'm back &amp; we're packing the car now, I'll let you know if there's room\"],\n",
       " ['Ahhh. Work. I vaguely remember that! What does it feel like? Lol'],\n",
       " [\"Wait that's still not all that clear, were you not sure about me being sarcastic or that that's why x doesn't want to live with us\"],\n",
       " [\"Yeah he got in at 2 and was v apologetic. n had fallen out and she was actin like spoilt child and he got caught up in that. Till 2! But we won't go there! Not doing too badly cheers. You? \"],\n",
       " ['K tell me anything about you.'],\n",
       " ['For fear of fainting with the of all that housework you just did? Quick have a cuppa'],\n",
       " ['Thanks for your subscription to Ringtone UK your mobile will be charged å£5/month Please confirm by replying YES or NO. If you reply NO you will not be charged'],\n",
       " ['Yup... Ok i go home look at the timings then i msg Ì_ again... Xuhui going to learn on 2nd may too but her lesson is at 8am'],\n",
       " [\"Oops, I'll let you know when my roommate's done\"],\n",
       " ['I see the letter B on my car'],\n",
       " ['Anything lor... U decide...'],\n",
       " [\"Hello! How's you and how did saturday go? I was just texting to see if you'd decided to do anything tomo. Not that i'm trying to invite myself or anything!\"],\n",
       " ['Pls go ahead with watts. I just wanted to be sure. Do have a great weekend. Abiola'],\n",
       " ['Did I forget to tell you ? I want you , I need you, I crave you ... But most of all ... I love you my sweet Arabian steed ... Mmmmmm ... Yummy'],\n",
       " ['07732584351 - Rodger Burns - MSG = We tried to call you re your reply to our sms for a free nokia mobile + free camcorder. Please call now 08000930705 for delivery tomorrow'],\n",
       " ['WHO ARE YOU SEEING?'],\n",
       " ['Great! I hope you like your man well endowed. I am  &lt;#&gt;  inches...'],\n",
       " ['No calls..messages..missed calls'],\n",
       " [\"Didn't you get hep b immunisation in nigeria.\"],\n",
       " ['Fair enough, anything going on?'],\n",
       " [\"Yeah hopefully, if tyler can't do it I could maybe ask around a bit\"],\n",
       " [\"U don't know how stubborn I am. I didn't even want to go to the hospital. I kept telling Mark I'm not a weak sucker. Hospitals are for weak suckers.\"],\n",
       " ['What you thinked about me. First time you saw me in class.'],\n",
       " ['A gram usually runs like  &lt;#&gt; , a half eighth is smarter though and gets you almost a whole second gram for  &lt;#&gt;'],\n",
       " [\"K fyi x has a ride early tomorrow morning but he's crashing at our place tonight\"],\n",
       " ['Wow. I never realized that you were so embarassed by your accomodations. I thought you liked it, since i was doing the best i could and you always seemed so happy about \\\\the cave\\\\\". I\\'m sorry I didn\\'t and don\\'t have more to give. I\\'m sorry i offered. I\\'m sorry your room was so embarassing.\"'],\n",
       " ['SMS. ac Sptv: The New Jersey Devils and the Detroit Red Wings play Ice Hockey. Correct or Incorrect? End? Reply END SPTV'],\n",
       " ['Do you know what Mallika Sherawat did yesterday? Find out now @  &lt;URL&gt;'],\n",
       " ['Congrats! 1 year special cinema pass for 2 is yours. call 09061209465 now! C Suprman V, Matrix3, StarWars3, etc all 4 FREE! bx420-ip4-5we. 150pm. Dont miss out! '],\n",
       " [\"Sorry, I'll call later in meeting.\"],\n",
       " ['Tell where you reached'],\n",
       " ['Yes..gauti and sehwag out of odi series.'],\n",
       " [\"Your gonna have to pick up a $1 burger for yourself on your way home. I can't even move. Pain is killing me.\"],\n",
       " ['Ha ha ha good joke. Girls are situation seekers.'],\n",
       " ['Its a part of checking IQ'],\n",
       " ['Sorry my roommates took forever, it ok if I come by now?'],\n",
       " ['Ok lar i double check wif da hair dresser already he said wun cut v short. He said will cut until i look nice.'],\n",
       " ['As a valued customer, I am pleased to advise you that following recent review of your Mob No. you are awarded with a å£1500 Bonus Prize, call 09066364589'],\n",
       " ['Today is \\\\song dedicated day..\\\\\" Which song will u dedicate for me? Send this to all ur valuable frnds but first rply me...\"'],\n",
       " ['Urgent UR awarded a complimentary trip to EuroDisinc Trav, Aco&Entry41 Or å£1000. To claim txt DIS to 87121 18+6*å£1.50(moreFrmMob. ShrAcomOrSglSuplt)10, LS1 3AJ'],\n",
       " ['Did you hear about the new \\\\Divorce Barbie\\\\\"? It comes with all of Ken\\'s stuff!\"'],\n",
       " ['I plane to give on this month end.'],\n",
       " ['Wah lucky man... Then can save money... Hee...'],\n",
       " ['Finished class where are you.'],\n",
       " ['HI BABE IM AT HOME NOW WANNA DO SOMETHING? XX'],\n",
       " ['K..k:)where are you?how did you performed?'],\n",
       " ['U can call me now...'],\n",
       " ['I am waiting machan. Call me once you free.'],\n",
       " ['Thats cool. i am a gentleman and will treat you with dignity and respect.'],\n",
       " ['I like you peoples very much:) but am very shy pa.'],\n",
       " ['Does not operate after  &lt;#&gt;  or what'],\n",
       " [\"Its not the same here. Still looking for a job. How much do Ta's earn there.\"],\n",
       " [\"Sorry, I'll call later\"],\n",
       " ['K. Did you call me just now ah? '],\n",
       " ['Ok i am on the way to home hi hi'],\n",
       " ['You will be in the place of that man'],\n",
       " ['Yup next stop.'],\n",
       " [\"I call you later, don't have network. If urgnt, sms me.\"],\n",
       " [\"For real when u getting on yo? I only need 2 more tickets and one more jacket and I'm done. I already used all my multis.\"],\n",
       " [\"Yes I started to send requests to make it but pain came back so I'm back in bed. Double coins at the factory too. I gotta cash in all my nitros.\"],\n",
       " [\"I'm really not up to it still tonight babe\"],\n",
       " ['Ela kano.,il download, come wen ur free..'],\n",
       " ['Yeah do! Don\\x89Û÷t stand to close tho- you\\x89Û÷ll catch something!'],\n",
       " [\"Sorry to be a pain. Is it ok if we meet another night? I spent late afternoon in casualty and that means i haven't done any of y stuff42moro and that includes all my time sheets and that. Sorry. \"],\n",
       " ['Smile in Pleasure Smile in Pain Smile when trouble pours like Rain Smile when sum1 Hurts U Smile becoz SOMEONE still Loves to see u Smiling!!'],\n",
       " ['Please call our customer service representative on 0800 169 6031 between 10am-9pm as you have WON a guaranteed å£1000 cash or å£5000 prize!'],\n",
       " ['Havent planning to buy later. I check already lido only got 530 show in e afternoon. U finish work already?'],\n",
       " ['Your free ringtone is waiting to be collected. Simply text the password \\\\MIX\\\\\" to 85069 to verify. Get Usher and Britney. FML'],\n",
       " ['Watching telugu movie..wat abt u?'],\n",
       " ['i see. When we finish we have loads of loans to pay'],\n",
       " ['Hi. Wk been ok - on hols now! Yes on for a bit of a run. Forgot that i have hairdressers appointment at four so need to get home n shower beforehand. Does that cause prob for u?\\\\\"\\rham\"'],\n",
       " [\"Please don't text me anymore. I have nothing else to say.\"],\n",
       " ['Okay name ur price as long as its legal! Wen can I pick them up? Y u ave x ams xx'],\n",
       " [\"I'm still looking for a car to buy. And have not gone 4the driving test yet.\"],\n",
       " [\"As per your request 'Melle Melle (Oru Minnaminunginte Nurungu Vettam)' has been set as your callertune for all Callers. Press *9 to copy your friends Callertune\"],\n",
       " [\"wow. You're right! I didn't mean to do that. I guess once i gave up on boston men and changed my search location to nyc, something changed. Cuz on my signin page it still says boston.\"],\n",
       " ['Umma my life and vava umma love you lot dear'],\n",
       " ['Thanks a lot for your wishes on my birthday. Thanks you for making my birthday truly memorable.'],\n",
       " [\"Aight, I'll hit you up when I get some cash\"],\n",
       " [\"How would my ip address test that considering my computer isn't a minecraft server\"],\n",
       " ['I know! Grumpy old people. My mom was like you better not be lying. Then again I am always the one to play jokes...'],\n",
       " [\"Dont worry. I guess he's busy.\"],\n",
       " ['What is the plural of the noun research?'],\n",
       " ['Going for dinner.msg you after.'],\n",
       " [\"I'm ok wif it cos i like 2 try new things. But i scared u dun like mah. Cos u said not too loud.\"],\n",
       " ['GENT! We are trying to contact you. Last weekends draw shows that you won a å£1000 prize GUARANTEED. Call 09064012160. Claim Code K52. Valid 12hrs only. 150ppm'],\n",
       " [\"Wa, ur openin sentence very formal... Anyway, i'm fine too, juz tt i'm eatin too much n puttin on weight...Haha... So anythin special happened?\"],\n",
       " [\"As I entered my cabin my PA said, '' Happy B'day Boss !!''. I felt special. She askd me 4 lunch. After lunch she invited me to her apartment. We went there.\"],\n",
       " ['You are a winner U have been specially selected 2 receive å£1000 or a 4* holiday (flights inc) speak to a live operator 2 claim 0871277810910p/min (18+) '],\n",
       " ['Goodo! Yes we must speak friday - egg-potato ratio for tortilla needed! '],\n",
       " [\"Hmm...my uncle just informed me that he's paying the school directly. So pls buy food.\"],\n",
       " ['PRIVATE! Your 2004 Account Statement for 07742676969 shows 786 unredeemed Bonus Points. To claim call 08719180248 Identifier Code: 45239 Expires'],\n",
       " ['URGENT! Your Mobile No. was awarded å£2000 Bonus Caller Prize on 5/9/03 This is our final try to contact U! Call from Landline 09064019788 BOX42WR29C, 150PPM'],\n",
       " ['here is my new address -apples&pairs&all that malarky'],\n",
       " ['Todays Voda numbers ending 7548 are selected to receive a $350 award. If you have a match please call 08712300220 quoting claim code 4041 standard rates app'],\n",
       " ['I am going to sao mu today. Will be done only at 12 '],\n",
       " [\"ÌÏ predict wat time Ì_'ll finish buying?\"],\n",
       " ['Good stuff, will do.'],\n",
       " [\"Just so that you know,yetunde hasn't sent money yet. I just sent her a text not to bother sending. So its over, you dont have to involve yourself in anything. I shouldn't have imposed anything on you in the first place so for that, i apologise.\"],\n",
       " ['Are you there in room.'],\n",
       " ['HEY GIRL. HOW R U? HOPE U R WELL ME AN DEL R BAK! AGAIN LONG TIME NO C! GIVE ME A CALL SUM TIME FROM LUCYxx'],\n",
       " ['K..k:)how much does it cost?'],\n",
       " [\"I'm home.\"],\n",
       " ['Dear, will call Tmorrow.pls accomodate.'],\n",
       " ['First answer my question.'],\n",
       " ['Sunshine Quiz Wkly Q! Win a top Sony DVD player if u know which country the Algarve is in? Txt ansr to 82277. å£1.50 SP:Tyrone'],\n",
       " [\"Want 2 get laid tonight? Want real Dogging locations sent direct 2 ur mob? Join the UK's largest Dogging Network bt Txting GRAVEL to 69888! Nt. ec2a. 31p.msg@150p\"],\n",
       " [\"I only haf msn. It's yijue@hotmail.com\"],\n",
       " ['He is there. You call and meet him'],\n",
       " ['No no. I will check all rooms befor activities'],\n",
       " [\"You'll not rcv any more msgs from the chat svc. For FREE Hardcore services text GO to: 69988 If u get nothing u must Age Verify with yr network & try again\"],\n",
       " ['Got c... I lazy to type... I forgot Ì_ in lect... I saw a pouch but like not v nice...'],\n",
       " [\"K, text me when you're on the way\"],\n",
       " ['Sir, Waiting for your mail.'],\n",
       " ['A swt thought: \\\\Nver get tired of doing little things 4 lovable persons..\\\\\" Coz..somtimes those little things occupy d biggest part in their Hearts.. Gud ni8\"'],\n",
       " ['I know you are. Can you pls open the back?'],\n",
       " ['Yes see ya not on the dot'],\n",
       " ['Whats the staff name who is taking class for us?'],\n",
       " [\"FreeMsg Why haven't you replied to my text? I'm Randy, sexy, female and live local. Luv to hear from u. Netcollex Ltd 08700621170150p per msg reply Stop to end\"],\n",
       " ['Ummma.will call after check in.our life will begin from qatar so pls pray very hard.'],\n",
       " ['K..i deleted my contact that why?'],\n",
       " ['Sindu got job in birla soft ..'],\n",
       " [\"The wine is flowing and i'm i have nevering..\"],\n",
       " ['Yup i thk cine is better cos no need 2 go down 2 plaza mah.'],\n",
       " ['Ok... Ur typical reply...'],\n",
       " [\"As per your request 'Melle Melle (Oru Minnaminunginte Nurungu Vettam)' has been set as your callertune for all Callers. Press *9 to copy your friends Callertune\"],\n",
       " ['You are everywhere dirt, on the floor, the windows, even on my shirt. And sometimes when i open my mouth, you are all that comes flowing out. I dream of my world without you, then half my chores are out too. A time of joy for me, lots of tv shows i.ll see. But i guess like all things you just must exist, like rain, hail and mist, and when my time here is done, you and i become one.'],\n",
       " ['Aaooooright are you at work?'],\n",
       " [\"I'm leaving my house now...\"],\n",
       " ['Hello, my love. What are you doing? Did you get to that interview today? Are you you happy? Are you being a good boy? Do you think of me?Are you missing me ?'],\n",
       " ['Customer service annoncement. You have a New Years delivery waiting for you. Please call 07046744435 now to arrange delivery'],\n",
       " ['You are a winner U have been specially selected 2 receive å£1000 cash or a 4* holiday (flights inc) speak to a live operator 2 claim 0871277810810'],\n",
       " [\"Keep yourself safe for me because I need you and I miss you already and I envy everyone that see's you in real life\"],\n",
       " ['New car and house for my parents.:)i have only new job in hand:)'],\n",
       " [\"I'm so in love with you. I'm excited each day i spend with you. You make me so happy.\"],\n",
       " ['-PLS STOP bootydelious (32/F) is inviting you to be her friend. Reply YES-434 or NO-434 See her: www.SMS.ac/u/bootydelious STOP? Send STOP FRND to 62468'],\n",
       " ['BangBabes Ur order is on the way. U SHOULD receive a Service Msg 2 download UR content. If U do not, GoTo wap. bangb. tv on UR mobile internet/service menu'],\n",
       " ['I place all ur points on e cultures module already.'],\n",
       " ['URGENT! We are trying to contact you. Last weekends draw shows that you have won a å£900 prize GUARANTEED. Call 09061701939. Claim code S89. Valid 12hrs only'],\n",
       " [\"Hi frnd, which is best way to avoid missunderstding wit our beloved one's?\"],\n",
       " ['Great escape. I fancy the bridge but needs her lager. See you tomo '],\n",
       " ['Yes :)it completely in out of form:)clark also utter waste.'],\n",
       " ['Sir, I need AXIS BANK account no and bank address.'],\n",
       " ['Hmmm.. Thk sure got time to hop ard... Ya, can go 4 free abt... Muz call u to discuss liao... '],\n",
       " ['What time you coming down later? '],\n",
       " ['Bloody hell, cant believe you forgot my surname Mr . Ill give u a clue, its spanish and begins with m... '],\n",
       " [\"Well, i'm gonna finish my bath now. Have a good...fine night.\"],\n",
       " [\"Let me know when you've got the money so carlos can make the call\"],\n",
       " ['U still going to the mall?'],\n",
       " [\"Turns out my friends are staying for the whole show and won't be back til ~ &lt;#&gt; , so feel free to go ahead and smoke that $ &lt;#&gt;  worth\"],\n",
       " ['Text her. If she doesnt reply let me know so i can have her log in'],\n",
       " [\"Hi! You just spoke to MANEESHA V. We'd like to know if you were satisfied with the experience. Reply Toll Free with Yes or No.\"],\n",
       " ['You lifted my hopes with the offer of money. I am in need. Especially when the end of the month approaches and it hurts my studying. Anyways have a gr8 weekend'],\n",
       " ['Lol no. U can trust me.'],\n",
       " ['ok. I am a gentleman and will treat you with dignity and respect.'],\n",
       " ['He will, you guys close?'],\n",
       " ['Going on nothing great.bye'],\n",
       " [\"Hello handsome ! Are you finding that job ? Not being lazy ? Working towards getting back that net for mummy ? Where's my boytoy now ? Does he miss me ?\"],\n",
       " ['Haha awesome, be there in a minute'],\n",
       " ['Please call our customer service representative on FREEPHONE 0808 145 4742 between 9am-11pm as you have WON a guaranteed å£1000 cash or å£5000 prize!'],\n",
       " ['Have you got Xmas radio times. If not i will get it now'],\n",
       " ['I jus reached home. I go bathe first. But my sis using net tell u when she finishes k...'],\n",
       " ['Are you unique enough? Find out from 30th August. www.areyouunique.co.uk'],\n",
       " [\"I'm sorry. I've joined the league of people that dont keep in touch. You mean a great deal to me. You have been a friend at all times even at great personal cost. Do have a great week.|\"],\n",
       " ['Hi :)finally i completed the course:)'],\n",
       " ['It will stop on itself. I however suggest she stays with someone that will be able to give ors for every stool.'],\n",
       " [\"How are you doing? Hope you've settled in for the new school year. Just wishin you a gr8 day\"],\n",
       " ['Gud mrng dear hav a nice day'],\n",
       " ['Did u got that persons story'],\n",
       " ['is your hamster dead? Hey so tmr i meet you at 1pm orchard mrt? '],\n",
       " ['Hi its Kate how is your evening? I hope i can see you tomorrow for a bit but i have to bloody babyjontet! Txt back if u can. :) xxx'],\n",
       " ['Found it, ENC  &lt;#&gt; , where you at?'],\n",
       " ['I sent you  &lt;#&gt;  bucks'],\n",
       " ['Hello darlin ive finished college now so txt me when u finish if u can love Kate xxx'],\n",
       " ['Your account has been refilled successfully by INR  &lt;DECIMAL&gt; . Your KeralaCircle prepaid account balance is Rs  &lt;DECIMAL&gt; . Your Transaction ID is KR &lt;#&gt; .'],\n",
       " ['Goodmorning sleeping ga.'],\n",
       " ['U call me alter at 11 ok.'],\n",
       " ['ÌÏ say until like dat i dun buy ericsson oso cannot oredi lar...'],\n",
       " [\"As I entered my cabin my PA said, '' Happy B'day Boss !!''. I felt special. She askd me 4 lunch. After lunch she invited me to her apartment. We went there.\"],\n",
       " ['Aight yo, dats straight dogg'],\n",
       " ['You please give us connection today itself before  &lt;DECIMAL&gt;  or refund the bill'],\n",
       " ['Both :) i shoot big loads so get ready!'],\n",
       " [\"What's up bruv, hope you had a great break. Do have a rewarding semester.\"],\n",
       " ['Home so we can always chat'],\n",
       " ['K:)k:)good:)study well.'],\n",
       " ['Yup... How Ì_ noe leh...'],\n",
       " ['Sounds great! Are you home now?'],\n",
       " ['Finally the match heading towards draw as your prediction.'],\n",
       " [\"Tired. I haven't slept well the past few nights.\"],\n",
       " ['Easy ah?sen got selected means its good..'],\n",
       " ['I have to take exam with march 3'],\n",
       " [\"Yeah you should. I think you can use your gt atm now to register. Not sure but if there's anyway i can help let me know. But when you do be sure you are ready.\"],\n",
       " ['Ok no prob. Take ur time.'],\n",
       " ['There is os called ubandu which will run without installing in hard disk...you can use that os to copy the important files in system and give it to repair shop..'],\n",
       " [\"Sorry, I'll call later\"],\n",
       " ['U say leh... Of course nothing happen lar. Not say v romantic jus a bit only lor. I thk e nite scenery not so nice leh.'],\n",
       " ['500 New Mobiles from 2004, MUST GO! Txt: NOKIA to No: 89545 & collect yours today!From ONLY å£1 www.4-tc.biz 2optout 087187262701.50gbp/mtmsg18'],\n",
       " ['Would really appreciate if you call me. Just need someone to talk to.'],\n",
       " ['Will u meet ur dream partner soon? Is ur career off 2 a flyng start? 2 find out free, txt HORO followed by ur star sign, e. g. HORO ARIES'],\n",
       " ['Hey company elama po mudyadhu.'],\n",
       " ['Life is more strict than teacher... Bcoz Teacher teaches lesson &amp; then conducts exam, But Life first conducts Exam &amp; then teaches Lessons. Happy morning. . .'],\n",
       " ['Dear good morning now only i am up'],\n",
       " ['Get down in gandhipuram and walk to cross cut road. Right side &lt;#&gt; street road and turn at first right.'],\n",
       " ['Dear we are going to our rubber place'],\n",
       " [\"Sorry battery died, yeah I'm here\"],\n",
       " ['Yes:)here tv is always available in work place..'],\n",
       " ['Text & meet someone sexy today. U can find a date or even flirt its up to U. Join 4 just 10p. REPLY with NAME & AGE eg Sam 25. 18 -msg recd@thirtyeight pence'],\n",
       " ['I have printed it oh. So  &lt;#&gt;  come upstairs'],\n",
       " ['Or ill be a little closer like at the bus stop on the same street'],\n",
       " ['Where are you?when wil you reach here?'],\n",
       " [\"New Theory: Argument wins d SITUATION, but loses the PERSON. So dont argue with ur friends just.. . . . kick them &amp; say, I'm always correct.!\"],\n",
       " ['U 447801259231 have a secret admirer who is looking 2 make contact with U-find out who they R*reveal who thinks UR so special-call on 09058094597'],\n",
       " ['Tomarrow final hearing on my laptop case so i cant.'],\n",
       " ['PLEASSSSSSSEEEEEE TEL ME V AVENT DONE SPORTSx'],\n",
       " ['Okay. No no, just shining on. That was meant to be signing, but that sounds better.'],\n",
       " [\"Although i told u dat i'm into baig face watches now but i really like e watch u gave cos it's fr u. Thanx 4 everything dat u've done today, i'm touched...\"],\n",
       " [\"U don't remember that old commercial?\"],\n",
       " [\"Too late. I said i have the website. I didn't i have or dont have the slippers\"],\n",
       " ['I asked you to call him now ok'],\n",
       " ['Kallis wont bat in 2nd innings.'],\n",
       " ['It didnt work again oh. Ok goodnight then. I.ll fix and have it ready by the time you wake up. You are very dearly missed have a good night sleep.'],\n",
       " ['Congratulations ur awarded 500 of CD vouchers or 125gift guaranteed & Free entry 2 100 wkly draw txt MUSIC to 87066 TnCs www.Ldew.com1win150ppmx3age16'],\n",
       " ['Ranjith cal drpd Deeraj and deepak 5min hold'],\n",
       " ['Wen ur lovable bcums angry wid u, dnt take it seriously.. Coz being angry is d most childish n true way of showing deep affection, care n luv!.. kettoda manda... Have nice day da.'],\n",
       " ['What you doing?how are you?'],\n",
       " ['Ups which is 3days also, and the shipping company that takes 2wks. The other way is usps which takes a week but when it gets to lag you may have to bribe nipost to get your stuff.'],\n",
       " [\"I'm back, lemme know when you're ready\"],\n",
       " [\"Don't necessarily expect it to be done before you get back though because I'm just now headin out\"],\n",
       " ['Mmm so yummy babe ... Nice jolt to the suzy'],\n",
       " ['Where are you lover ? I need you ...'],\n",
       " ['We tried to contact you re your reply to our offer of a Video Handset? 750 anytime networks mins? UNLIMITED TEXT? Camcorder? Reply or call 08000930705 NOW'],\n",
       " ['I\\x89Û÷m parked next to a MINI!!!! When are you coming in today do you think?'],\n",
       " ['Yup'],\n",
       " [\"Anyway i'm going shopping on my own now. Cos my sis not done yet. Dun disturb u liao.\"],\n",
       " ['MY NO. IN LUTON 0125698789 RING ME IF UR AROUND! H*'],\n",
       " ['Hey I am really horny want to chat or see me naked text hot to 69698 text charged at 150pm to unsubscribe text stop 69698'],\n",
       " ['Why you Dint come with us.'],\n",
       " ['Same. Wana plan a trip sometme then'],\n",
       " ['Not sure yet, still trying to get a hold of him'],\n",
       " ['Ur ringtone service has changed! 25 Free credits! Go to club4mobiles.com to choose content now! Stop? txt CLUB STOP to 87070. 150p/wk Club4 PO Box1146 MK45 2WT'],\n",
       " ['The evo. I just had to download flash. Jealous?'],\n",
       " ['Ringtone Club: Get the UK singles chart on your mobile each week and choose any top quality ringtone! This message is free of charge.'],\n",
       " [\"Come to mu, we're sorting out our narcotics situation\"],\n",
       " ['Night has ended for another day, morning has come in a special way. May you smile like the sunny rays and leaves your worries at the blue blue bay.'],\n",
       " ['HMV BONUS SPECIAL 500 pounds of genuine HMV vouchers to be won. Just answer 4 easy questions. Play Now! Send HMV to 86688 More info:www.100percent-real.com'],\n",
       " ['Usf I guess, might as well take 1 car'],\n",
       " ['No objection. My bf not coming.'],\n",
       " ['Thanx...'],\n",
       " ['Tell rob to mack his gf in the theater'],\n",
       " [\"Awesome, I'll see you in a bit\"],\n",
       " ['Just sent it. So what type of food do you like?'],\n",
       " ['All done? All handed in? Celebrations in full swing yet?'],\n",
       " ['You got called a tool?'],\n",
       " ['\\\\Wen u miss someone'],\n",
       " ['Ok. I asked for money how far'],\n",
       " ['Okie...'],\n",
       " [\"Yeah I think my usual guy's still passed out from last night, if you get ahold of anybody let me know and I'll throw down\"],\n",
       " ['K, I might come by tonight then if my class lets out early'],\n",
       " ['Ok..'],\n",
       " ['hi baby im cruisin with my girl friend what r u up 2? give me a call in and hour at home if thats alright or fone me on this fone now love jenny xxx'],\n",
       " ['My life Means a lot to me, Not because I love my life, But because I love the people in my life, The world calls them friends, I call them my World:-).. Ge:-)..'],\n",
       " ['Dear,shall mail tonite.busy in the street,shall update you tonite.things are looking ok.varunnathu edukkukayee raksha ollu.but a good one in real sense.'],\n",
       " ['Hey you told your name to gautham ah?'],\n",
       " ['Haf u found him? I feel so stupid da v cam was working.'],\n",
       " ['Oops. 4 got that bit.'],\n",
       " ['Are you this much buzy'],\n",
       " ['I accidentally deleted the message. Resend please.'],\n",
       " [\"T-Mobile customer you may now claim your FREE CAMERA PHONE upgrade & a pay & go sim card for your loyalty. Call on 0845 021 3680.Offer ends 28thFeb.T&C's apply\"],\n",
       " [\"Unless it's a situation where YOU GO GURL would be more appropriate\"],\n",
       " ['Hurt me... Tease me... Make me cry... But in the end of my life when i die plz keep one rose on my grave and say STUPID I MISS U.. HAVE A NICE DAY BSLVYL'],\n",
       " ['I cant pick the phone right now. Pls send a message'],\n",
       " [\"Need a coffee run tomo?Can't believe it's that time of week already\"],\n",
       " ['Awesome, I remember the last time we got somebody high for the first time with diesel :V'],\n",
       " ['Shit that is really shocking and scary, cant imagine for a second. Def up for night out. Do u think there is somewhere i could crash for night, save on taxi?'],\n",
       " ['Oh and by the way you do have more food in your fridge! Want to go out for a meal tonight? '],\n",
       " ['He is a womdarfull actor'],\n",
       " ['SMS. ac Blind Date 4U!: Rodds1 is 21/m from Aberdeen, United Kingdom. Check Him out http://img. sms. ac/W/icmb3cktz8r7!-4 no Blind Dates send HIDE'],\n",
       " ['Yup... From what i remb... I think should be can book... '],\n",
       " ['Jos ask if u wana meet up?'],\n",
       " [\"Lol yes. Our friendship is hanging on a thread cause u won't buy stuff.\"],\n",
       " ['TheMob> Check out our newest selection of content, Games, Tones, Gossip, babes and sport, Keep your mobile fit and funky text WAP to 82468'],\n",
       " [\"Where are the garage keys? They aren't on the bookshelf\"],\n",
       " ['Today is ACCEPT DAY..U Accept me as? Brother Sister Lover Dear1 Best1 Clos1 Lvblefrnd Jstfrnd Cutefrnd Lifpartnr Belovd Swtheart Bstfrnd No rply means enemy'],\n",
       " ['Think ur smart ? Win å£200 this week in our weekly quiz, text PLAY to 85222 now!T&Cs WinnersClub PO BOX 84, M26 3UZ. 16+. GBP1.50/week'],\n",
       " [\"He says he'll give me a call when his friend's got the money but that he's definitely buying before the end of the week\"],\n",
       " ['Hi the way I was with u 2day, is the normal way&this is the real me. UR unique&I hope I know u 4 the rest of mylife. Hope u find wot was lost.'],\n",
       " ['You made my day. Do have a great day too.'],\n",
       " ['K.k:)advance happy pongal.'],\n",
       " ['Hmmm... Guess we can go 4 kb n power yoga... Haha, dunno we can tahan power yoga anot... Thk got lo oso, forgot liao...'],\n",
       " [\"Not really dude, have no friends i'm afraid :(\"],\n",
       " ['December only! Had your mobile 11mths+? You are entitled to update to the latest colour camera mobile for Free! Call The Mobile Update Co FREE on 08002986906'],\n",
       " ['Coffee cake, i guess...'],\n",
       " ['Merry Christmas to you too babe, i love ya *kisses*'],\n",
       " ['Hey... Why dont we just go watch x men and have lunch... Haha '],\n",
       " ['cud u tell ppl im gona b a bit l8 cos 2 buses hav gon past cos they were full & im still waitin 4 1. Pete x'],\n",
       " [\"That would be great. We'll be at the Guild. Could meet on Bristol road or somewhere - will get in touch over weekend. Our plans take flight! Have a good week\"],\n",
       " ['No problem. How are you doing?'],\n",
       " ['No calls..messages..missed calls'],\n",
       " ['Hi da:)how is the todays class?'],\n",
       " [\"I'd say that's a good sign but, well, you know my track record at reading women\"],\n",
       " [\"Cool, text me when you're parked\"],\n",
       " [\"I'm reading the text i just sent you. Its meant to be a joke. So read it in that light\"],\n",
       " ['K.k:)apo k.good movie.'],\n",
       " ['Maybe i could get book out tomo then return it immediately ..? Or something.'],\n",
       " ['Call Germany for only 1 pence per minute! Call from a fixed line via access number 0844 861 85 85. No prepayment. Direct access!'],\n",
       " [\"Any chance you might have had with me evaporated as soon as you violated my privacy by stealing my phone number from your employer's paperwork. Not cool at all. Please do not contact me again or I will report you to your supervisor.\"],\n",
       " ['Valentines Day Special! Win over å£1000 in our quiz and take your partner on the trip of a lifetime! Send GO to 83600 now. 150p/msg rcvd. CustCare:08718720201.'],\n",
       " ['Ta-Daaaaa! I am home babe, are you still up ?'],\n",
       " ['Cool. So how come you havent been wined and dined before?'],\n",
       " ['Just sleeping..and surfing'],\n",
       " [\"Sorry, I'll call later\"],\n",
       " ['U calling me right? Call my hand phone...'],\n",
       " [\"Ok that's great thanx a lot.\"],\n",
       " ['I take it the post has come then! You must have 1000s of texts now! Happy reading. My one from wiv hello caroline at the end is my favourite. Bless him'],\n",
       " ['Where u been hiding stranger?'],\n",
       " ['Am not interested to do like that.'],\n",
       " ['My sister cleared two round in birla soft yesterday.'],\n",
       " ['Gudnite....tc...practice going on'],\n",
       " ['Dis is yijue. I jus saw ur mail. In case huiming havent sent u my num. Dis is my num.'],\n",
       " ['One small prestige problem now.'],\n",
       " ['Fancy a shag? I do.Interested? sextextuk.com txt XXUK SUZY to 69876. Txts cost 1.50 per msg. TnCs on website. X'],\n",
       " ['Just checking in on you. Really do miss seeing Jeremiah. Do have a great month'],\n",
       " [\"Nah can't help you there, I've never had an iphone\"],\n",
       " [\"If you're not in my car in an hour and a half I'm going apeshit\"],\n",
       " [\"TODAY is Sorry day.! If ever i was angry with you, if ever i misbehaved or hurt you? plz plz JUST SLAP URSELF Bcoz, Its ur fault, I'm basically GOOD\"],\n",
       " ['Yo you guys ever figure out how much we need for alcohol? Jay and I are trying to figure out how much we can safely spend on weed'],\n",
       " ['&lt;#&gt; ISH MINUTES WAS 5 MINUTES AGO. WTF.'],\n",
       " ['Thank You for calling.Forgot to say Happy Onam to you Sirji.I am fine here and remembered you when i met an insurance person.Meet You in Qatar Insha Allah.Rakhesh, ex Tata AIG who joined TISSCO,Tayseer.'],\n",
       " ['Congratulations ur awarded 500 of CD vouchers or 125gift guaranteed & Free entry 2 100 wkly draw txt MUSIC to 87066 TnCs www.Ldew.com1win150ppmx3age16'],\n",
       " ['Ur cash-balance is currently 500 pounds - to maximize ur cash-in now send CASH to 86688 only 150p/msg. CC: 08708800282 HG/Suite342/2Lands Row/W1J6HL'],\n",
       " [\"I'm an actor. When i work, i work in the evening and sleep late. Since i'm unemployed at the moment, i ALWAYS sleep late. When you're unemployed, every day is saturday.\"],\n",
       " ['Hello! Just got here, st andrews-boy its a long way! Its cold. I will keep you posted'],\n",
       " ['Ha ha cool cool chikku chikku:-):-DB-)'],\n",
       " ['Oh ok no prob..'],\n",
       " [\"Check audrey's status right now\"],\n",
       " ['Busy here. Trying to finish for new year. I am looking forward to finally meeting you...'],\n",
       " ['Good afternoon sunshine! How dawns that day ? Are we refreshed and happy to be alive? Do we breathe in the air and smile ? I think of you, my love ... As always'],\n",
       " ['Well i know Z will take care of me. So no worries.'],\n",
       " ['Update_Now - Xmas Offer! Latest Motorola, SonyEricsson & Nokia & FREE Bluetooth! Double Mins & 1000 Txt on Orange. Call MobileUpd8 on 08000839402 or call2optout/F4Q='],\n",
       " ['Here is your discount code RP176781. To stop further messages reply stop. www.regalportfolio.co.uk. Customer Services 08717205546'],\n",
       " ['Wat uniform? In where get?'],\n",
       " [\"Cool, text me when you're ready\"],\n",
       " ['Hello my boytoy ... Geeee I miss you already and I just woke up. I wish you were here in bed with me, cuddling me. I love you ...'],\n",
       " ['I will spoil you in bed as well :)'],\n",
       " [\"I'm going for bath will msg you next  &lt;#&gt;  min..\"],\n",
       " ['I cant keep talking to people if am not sure i can pay them if they agree to price. So pls tell me what you want to really buy and how much you are willing to pay'],\n",
       " ['Thanks for your Ringtone Order, Reference T91. You will be charged GBP 4 per week. You can unsubscribe at anytime by calling customer services on 09057039994'],\n",
       " ['Can you say what happen'],\n",
       " [\"You could have seen me..i did't recognise you Face.:)\"],\n",
       " [\"Well there's not a lot of things happening in Lindsay on New years *sighs* Some bars in Ptbo and the blue heron has something going\"],\n",
       " ['Keep my payasam there if rinu brings'],\n",
       " ['I taught that Ranjith sir called me. So only i sms like that. Becaus hes verifying about project. Prabu told today so only pa dont mistake me..'],\n",
       " [\"I guess that's why you re worried. You must know that there's a way the body repairs itself. And i'm quite sure you shouldn't worry. We'll take it slow. First the tests, they will guide when your ovulation is then just relax. Nothing you've said is a reason to worry but i.ll keep on followin you up.\"],\n",
       " ['Yeah sure, give me a couple minutes to track down my wallet'],\n",
       " ['Hey leave it. not a big deal:-) take care.'],\n",
       " ['Hey i will be late ah... Meet you at 945+'],\n",
       " ['Double mins and txts 4 6months FREE Bluetooth on Orange. Available on Sony, Nokia Motorola phones. Call MobileUpd8 on 08000839402 or call2optout/N9DX'],\n",
       " ['It took Mr owl 3 licks'],\n",
       " ['Customer place i will call you.'],\n",
       " ['Mm that time you dont like fun'],\n",
       " ['4mths half price Orange line rental & latest camera phones 4 FREE. Had your phone 11mths ? Call MobilesDirect free on 08000938767 to update now! or2stoptxt'],\n",
       " ['Yup having my lunch buffet now.. U eat already?'],\n",
       " ['Huh so late... Fr dinner?'],\n",
       " ['Hey so this sat are we going for the intro pilates only? Or the kickboxing too? '],\n",
       " ['Morning only i can ok.'],\n",
       " ['Yes i think so. I am in office but my lap is in room i think thats on for the last few days. I didnt shut that down'],\n",
       " ['Pick you up bout 7.30ish? What time are  and that going?'],\n",
       " ['From here after The performance award is calculated every two month.not for current one month period..'],\n",
       " ['Was actually sleeping and still might when u call back. So a text is gr8. You rock sis. Will send u a text wen i wake.'],\n",
       " [\"You are always putting your business out there. You put pictures of your ass on facebook. You are one of the most open people i've ever met. Why would i think a picture of your room would hurt you, make you feel violated.\"],\n",
       " ['Good evening Sir, Al Salam Wahleykkum.sharing a happy news.By the grace of God, i got an offer from Tayseer,TISSCO and i joined.Hope you are fine.Inshah Allah,meet you sometime.Rakhesh,visitor from India.'],\n",
       " ['Hmmm...k...but i want to change the field quickly da:-)i wanna get system administrator or network administrator..'],\n",
       " ['FREE RINGTONE text FIRST to 87131 for a poly or text GET to 87131 for a true tone! Help? 0845 2814032 16 after 1st free, tones are 3xå£150pw to eå£nd txt stop'],\n",
       " ['Dear how is chechi. Did you talk to her'],\n",
       " ['The hair cream has not been shipped.'],\n",
       " [\"None of that's happening til you get here though\"],\n",
       " ['Yep, the great loxahatchee xmas tree burning of  &lt;#&gt;  starts in an hour'],\n",
       " ['Haha get used to driving to usf man, I know a lot of stoners'],\n",
       " [\"All was well until slightly disastrous class this pm with my fav darlings! Hope day off ok. Coffee wld be good as can't stay late tomorrow. Same time + place as always?\"],\n",
       " ['Hello! Good week? Fancy a drink or something later?'],\n",
       " ['Headin towards busetop'],\n",
       " ['Message:some text missing* Sender:Name Missing* *Number Missing *Sent:Date missing *Missing U a lot thats y everything is missing sent via fullonsms.com'],\n",
       " ['Come by our room at some point so we can iron out the plan for this weekend'],\n",
       " ['Cos i want it to be your thing'],\n",
       " [\"Okies... I'll go yan jiu too... We can skip ard oso, go cine den go mrt one, blah blah blah... \"],\n",
       " ['Bring home some Wendy =D'],\n",
       " ['100 dating service cal;l 09064012103 box334sk38ch'],\n",
       " ['Whatsup there. Dont u want to sleep'],\n",
       " ['Alright i have a new goal now'],\n",
       " ['FREE entry into our å£250 weekly competition just text the word WIN to 80086 NOW. 18 T&C www.txttowin.co.uk'],\n",
       " [\"Alright, I'll head out in a few minutes, text me where to meet you\"],\n",
       " ['Send a logo 2 ur lover - 2 names joined by a heart. Txt LOVE NAME1 NAME2 MOBNO eg LOVE ADAM EVE 07123456789 to 87077 Yahoo! POBox36504W45WQ TxtNO 4 no ads 150p'],\n",
       " [\"Yes:)from last week itself i'm taking live call.\"],\n",
       " ['Someone has contacted our dating service and entered your phone because they fancy you! To find out who it is call from a landline 09111032124 . PoBox12n146tf150p'],\n",
       " ['Siva is in hostel aha:-.'],\n",
       " ['URGENT! Your Mobile number has been awarded with a å£2000 prize GUARANTEED. Call 09058094455 from land line. Claim 3030. Valid 12hrs only'],\n",
       " ['Send this to ur friends and receive something about ur voice..... How is my speaking expression? 1.childish 2.naughty 3.Sentiment 4.rowdy 5.ful of attitude 6.romantic 7.shy 8.Attractive 9.funny  &lt;#&gt; .irritating  &lt;#&gt; .lovable. reply me..'],\n",
       " [\"Ok. She'll be ok. I guess\"],\n",
       " ['aathi..where are you dear..'],\n",
       " ['Any pain on urination any thing else?'],\n",
       " ['7 at esplanade.. Do Ì_ mind giving me a lift cos i got no car today..'],\n",
       " ['I wnt to buy a BMW car urgently..its vry urgent.but hv a shortage of  &lt;#&gt; Lacs.there is no source to arng dis amt. &lt;#&gt; lacs..thats my prob'],\n",
       " ['At home watching tv lor.'],\n",
       " ['Does she usually take fifteen fucking minutes to respond to a yes or no question'],\n",
       " ['Congrats! Nokia 3650 video camera phone is your Call 09066382422 Calls cost 150ppm Ave call 3mins vary from mobiles 16+ Close 300603 post BCM4284 Ldn WC1N3XX'],\n",
       " ['Booked ticket for pongal?'],\n",
       " [\"You available now? I'm like right around hillsborough &amp;  &lt;#&gt; th\"],\n",
       " ['The message sent is askin for  &lt;#&gt; dollars. Shoul i pay  &lt;#&gt;  or  &lt;#&gt; ?'],\n",
       " [\"Ask g or iouri, I've told the story like ten times already\"],\n",
       " ['How long does applebees fucking take'],\n",
       " ['Hi hope u get this txt~journey hasnt been gd,now about 50 mins late I think.'],\n",
       " ['But i have to. I like to have love and arrange.'],\n",
       " ['Yes..he is really great..bhaji told kallis best cricketer after sachin in world:).very tough to get out.'],\n",
       " ['You were supposed to wake ME up &gt;:('],\n",
       " ['Oic... I saw him too but i tot he din c me... I found a group liao...'],\n",
       " [\"Sorry, I'll call later\"],\n",
       " ['\\\\HEY HEY WERETHE MONKEESPEOPLE SAY WE MONKEYAROUND! HOWDY GORGEOUS'],\n",
       " [\"Sorry, my battery died, I can come by but I'm only getting a gram for now, where's your place?\"],\n",
       " ['Well done, blimey, exercise, yeah, i kinda remember wot that is, hmm. '],\n",
       " ['I wont get concentration dear you know you are my mind and everything :-)'],\n",
       " ['LOL ... Have you made plans for new years?'],\n",
       " ['10 min later k...'],\n",
       " ['hanks lotsly!'],\n",
       " ['Thanks for this hope you had a good day today'],\n",
       " ['K:)k:)what are detail you want to transfer?acc no enough?'],\n",
       " ['Ok i will tell her to stay out. Yeah its been tough but we are optimistic things will improve this month.'],\n",
       " [\"Loan for any purpose å£500 - å£75,000. Homeowners + Tenants welcome. Have you been previously refused? We can still help. Call Free 0800 1956669 or text back 'help'\"],\n",
       " ['Si si. I think ill go make those oreo truffles.'],\n",
       " ['LOOK AT AMY URE A BEAUTIFUL, INTELLIGENT WOMAN AND I LIKE U A LOT. I KNOW U DONåÕT LIKE ME LIKE THAT SO DONåÕT WORRY.'],\n",
       " [\"I hope you that's the result of being consistently intelligent and kind. Start asking him about practicum links and keep your ears open and all the best. ttyl\"],\n",
       " ['1.20 that call cost. Which i guess isnt bad. Miss ya, need ya, want ya, love ya'],\n",
       " ['Going thru a very different feeling.wavering decisions and coping up with the same is the same individual.time will heal everything i believe.'],\n",
       " ['Where did u go? My phone is gonna die you have to stay in here'],\n",
       " ['Great. Never been better. Each day gives even more reasons to thank God'],\n",
       " [\"UpgrdCentre Orange customer, you may now claim your FREE CAMERA PHONE upgrade for your loyalty. Call now on 0207 153 9153. Offer ends 26th July. T&C's apply. Opt-out available\"],\n",
       " [\"Sorry, I'll call later ok bye\"],\n",
       " ['Ok i am on the way to railway'],\n",
       " ['great princess! I love giving and receiving oral. Doggy style is my fave position. How about you? I enjoy making love  &lt;#&gt;  times per night :)'],\n",
       " [\"They don't put that stuff on the roads to keep it from getting slippery over there?\"],\n",
       " ['When are you going to ride your bike?'],\n",
       " [\"Yup, no need. I'll jus wait 4 e rain 2 stop.\"],\n",
       " ['There are many company. Tell me the language.'],\n",
       " ['okmail: Dear Dave this is your final notice to collect your 4* Tenerife Holiday or #5000 CASH award! Call 09061743806 from landline. TCs SAE Box326 CW25WX 150ppm'],\n",
       " ['How long has it been since you screamed, princess?'],\n",
       " ['Nothing. I meant that once the money enters your account here, the bank will remove its flat rate. Someone transfered  &lt;#&gt;  to my account and  &lt;#&gt; dollars got removed. So the banks differ and charges also differ.be sure you trust the 9ja person you are sending account details to cos...'],\n",
       " [\"Want 2 get laid tonight? Want real Dogging locations sent direct 2 ur Mob? Join the UK's largest Dogging Network by txting MOAN to 69888Nyt. ec2a. 31p.msg@150p\"],\n",
       " [\"Nice line said by a broken heart- Plz don't cum 1 more times infront of me... Other wise once again I ll trust U... Good 9t:)\"],\n",
       " [\"Ok I'm gonna head up to usf in like fifteen minutes\"],\n",
       " ['Love you aathi..love u lot..'],\n",
       " ['Tension ah?what machi?any problem?'],\n",
       " [\"K, can I pick up another 8th when you're done?\"],\n",
       " [\"When're you guys getting back? G said you were thinking about not staying for mcr\"],\n",
       " ['Almost there, see u in a sec'],\n",
       " ['Yo carlos, a few friends are already asking me about you, you working at all this weekend?'],\n",
       " ['Watching tv lor...'],\n",
       " ['Thank you baby! I cant wait to taste the real thing...'],\n",
       " ['You should change your fb to jaykwon thuglyfe falconerf'],\n",
       " ['If we win its really no 1 side for long time.'],\n",
       " ['FREE MESSAGE Activate your 500 FREE Text Messages by replying to this message with the word FREE For terms & conditions, visit www.07781482378.com'],\n",
       " ['Dear reached railway. What happen to you'],\n",
       " ['Depends on quality. If you want the type i sent boye, faded glory, then about 6. If you want ralphs maybe 2'],\n",
       " [\"I think i've fixed it can you send a test message?\"],\n",
       " [\"Sorry man my account's dry or I would, if you want we could trade back half or I could buy some shit with my credit card\"],\n",
       " ['Congrats! 1 year special cinema pass for 2 is yours. call 09061209465 now! C Suprman V, Matrix3, StarWars3, etc all 4 FREE! bx420-ip4-5we. 150pm. Dont miss out!'],\n",
       " [\"Sorry,in meeting I'll call later\"],\n",
       " ['What class of  &lt;#&gt;  reunion?'],\n",
       " ['Are you free now?can i call now?'],\n",
       " ['Got meh... When?'],\n",
       " ['Nope... Think i will go for it on monday... Sorry i replied so late'],\n",
       " ['Some of them told accenture is not confirm. Is it true.'],\n",
       " ['Kate jackson rec center before 7ish, right?'],\n",
       " ['Dear i have reache room'],\n",
       " ['Fighting with the world is easy, u either win or lose bt fightng with some1 who is close to u is dificult if u lose - u lose if u win - u still lose.'],\n",
       " ['When can Ì_ come out?'],\n",
       " ['Check with nuerologist.'],\n",
       " ['Lolnice. I went from a fish to ..water.?'],\n",
       " [\"+123 Congratulations - in this week's competition draw u have won the å£1450 prize to claim just call 09050002311 b4280703. T&Cs/stop SMS 08718727868. Over 18 only 150ppm\"],\n",
       " [\"No it's waiting in e car dat's bored wat. Cos wait outside got nothing 2 do. At home can do my stuff or watch tv wat.\"],\n",
       " ['Maybe westshore or hyde park village, the place near my house?'],\n",
       " [\"You should know now. So how's anthony. Are you bringing money. I've school fees to pay and rent and stuff like that. Thats why i need your help. A friend in need....|\"],\n",
       " [\"What's the significance?\"],\n",
       " ['Your opinion about me? 1. Over 2. Jada 3. Kusruthi 4. Lovable 5. Silent 6. Spl character 7. Not matured 8. Stylish 9. Simple Pls reply..'],\n",
       " [\"8 at the latest, g's still there if you can scrounge up some ammo and want to give the new ak a try\"],\n",
       " [\"Prabha..i'm soryda..realy..frm heart i'm sory\"],\n",
       " ['Lol ok your forgiven :)'],\n",
       " ['No..jst change tat only..'],\n",
       " ['You are guaranteed the latest Nokia Phone, a 40GB iPod MP3 player or a å£500 prize! Txt word: COLLECT to No: 83355! IBHltd LdnW15H 150p/Mtmsgrcvd18+'],\n",
       " ['S:)no competition for him.'],\n",
       " ['Boltblue tones for 150p Reply POLY# or MONO# eg POLY3 1. Cha Cha Slide 2. Yeah 3. Slow Jamz 6. Toxic 8. Come With Me or STOP 4 more tones txt MORE'],\n",
       " ['Your credits have been topped up for http://www.bubbletext.com Your renewal Pin is tgxxrz'],\n",
       " ['That way transport is less problematic than on sat night. By the way, if u want to ask  n  to join my bday, feel free. But need to know definite nos as booking on fri. '],\n",
       " [\"Usually the person is unconscious that's in children but in adults they may just behave abnormally. I.ll call you now\"],\n",
       " [\"But that's on ebay it might be less elsewhere.\"],\n",
       " ['Shall i come to get pickle'],\n",
       " ['Were gonna go get some tacos'],\n",
       " [\"That's very rude, you on campus?\"],\n",
       " ['URGENT!: Your Mobile No. was awarded a å£2,000 Bonus Caller Prize on 02/09/03! This is our 2nd attempt to contact YOU! Call 0871-872-9755 BOX95QU'],\n",
       " [\"Hi i won't b ard 4 christmas. But do enjoy n merry x'mas.\"],\n",
       " [\"Today's Offer! Claim ur å£150 worth of discount vouchers! Text YES to 85023 now! SavaMob, member offers mobile! T Cs 08717898035. å£3.00 Sub. 16 . Unsub reply X\"],\n",
       " ['Yes! How is a pretty lady like you single?'],\n",
       " ['You will recieve your tone within the next 24hrs. For Terms and conditions please see Channel U Teletext Pg 750'],\n",
       " [\"Jay says that you're a double-faggot\"],\n",
       " ['PRIVATE! Your 2003 Account Statement for 07815296484 shows 800 un-redeemed S.I.M. points. Call 08718738001 Identifier Code 41782 Expires 18/11/04 '],\n",
       " ['What Today-sunday..sunday is holiday..so no work..'],\n",
       " ['Gudnite....tc...practice going on'],\n",
       " [\"I'll be late...\"],\n",
       " [\"I've not called you in a while. This is hoping it was l8r malaria and that you know that we miss you guys. I miss Bani big, so pls give her my love especially. Have a great day.\"],\n",
       " ['Good afternoon, my love! How goes that day ? I hope maybe you got some leads on a job. I think of you, boytoy and send you a passionate kiss from across the sea'],\n",
       " ['Probably gonna be here for a while, see you later tonight &lt;)'],\n",
       " [\"Or maybe my fat fingers just press all these buttons and it doesn't know what to do.\"],\n",
       " ['Ummmmmaah Many many happy returns of d day my dear sweet heart.. HAPPY BIRTHDAY dear'],\n",
       " ['I am in tirupur da, once you started from office call me.'],\n",
       " ['from www.Applausestore.com MonthlySubscription@50p/msg max6/month T&CsC web age16 2stop txt stop'],\n",
       " [\"A famous quote : when you develop the ability to listen to 'anything' unconditionally without losing your temper or self confidence, it means you are ......... 'MARRIED'\"],\n",
       " ['But am going to college pa. What to do. are else ill come there it self. Pa.'],\n",
       " ['4 oclock at mine. Just to bash out a flat plan.'],\n",
       " [\"This girl does not stay in bed. This girl doesn't need recovery time. Id rather pass out while having fun then be cooped up in bed\"],\n",
       " ['Then any special there?'],\n",
       " [\"I know but you need to get hotel now. I just got my invitation but i had to apologise. Cali is to sweet for me to come to some english bloke's weddin\"],\n",
       " ['Sorry that took so long, omw now'],\n",
       " ['Wait  &lt;#&gt;  min..'],\n",
       " [\"Ok give me 5 minutes I think I see her. BTW you're my alibi. You were cutting my hair the whole time.\"],\n",
       " ['Imagine you finally get to sink into that bath after I have put you through your paces, maybe even having you eat me for a while before I left ... But also imagine the feel of that cage on your cock surrounded by the bath water, reminding you always who owns you ... Enjoy, my cuck'],\n",
       " [\"Hurry up, I've been weed-deficient for like three days\"],\n",
       " [\"Sure, if I get an acknowledgement from you that it's astoundingly tactless and generally faggy to demand a blood oath fo\"],\n",
       " [\"Ok. Every night take a warm bath drink a cup of milk and you'll see a work of magic. You still need to loose weight. Just so that you know\"],\n",
       " ['I\\x89Û÷ll have a look at the frying pan in case it\\x89Û÷s cheap or a book perhaps. No that\\x89Û÷s silly a frying pan isn\\x89Û÷t likely to be a book'],\n",
       " ['O. Well uv causes mutations. Sunscreen is like essential thesedays'],\n",
       " ['Having lunch:)you are not in online?why?'],\n",
       " ['I know that my friend already told that.'],\n",
       " ['Hi Princess! Thank you for the pics. You are very pretty. How are you?'],\n",
       " ['Aiyo... U always c our ex one... I dunno abt mei, she haven reply... First time u reply so fast... Y so lucky not workin huh, got bao by ur sugardad ah...gee.. '],\n",
       " [\"Hi msg me:)i'm in office..\"],\n",
       " [\"Thanx 4 e brownie it's v nice...\"],\n",
       " ['Geeeee ... I love you so much I can barely stand it'],\n",
       " ['GENT! We are trying to contact you. Last weekends draw shows that you won a å£1000 prize GUARANTEED. Call 09064012160. Claim Code K52. Valid 12hrs only. 150ppm '],\n",
       " [\"Fuck babe ... I miss you already, you know ? Can't you let me send you some money towards your net ? I need you ... I want you ... I crave you ...\"],\n",
       " ['Ill call u 2mrw at ninish, with my address that icky American freek wont stop callin me 2 bad Jen k eh?'],\n",
       " ['Oooh bed ridden ey? What are YOU thinking of?'],\n",
       " ['So anyways, you can just go to your gym or whatever, my love *smiles* I hope your ok and having a good day babe ... I miss you so much already'],\n",
       " ['Love it! Daddy will make you scream with pleasure! I am going to slap your ass with my dick!'],\n",
       " ['WOT U WANNA DO THEN MISSY?'],\n",
       " ['Yar lor wait 4 my mum 2 finish sch then have lunch lor... I whole morning stay at home clean my room now my room quite clean... Hee...'],\n",
       " ['Do you know where my lab goggles went'],\n",
       " ['Can you open the door?'],\n",
       " ['Waiting for your call.'],\n",
       " ['Nope i waiting in sch 4 daddy... '],\n",
       " ['You have won ?1,000 cash or a ?2,000 prize! To claim, call09050000327'],\n",
       " [\"I'm tired of arguing with you about this week after week. Do what you want and from now on, i'll do the same.\"],\n",
       " ['ÌÏ wait 4 me in sch i finish ard 5..'],\n",
       " ['our mobile number has won å£5000, to claim calls us back or ring the claims hot line on 09050005321.'],\n",
       " ['Arngd marriage is while u r walkin unfortuntly a snake bites u. bt love marriage is dancing in frnt of d snake &amp; sayin Bite me, bite me.'],\n",
       " ['Huh so early.. Then Ì_ having dinner outside izzit?'],\n",
       " ['Ok anyway no need to change with what you said'],\n",
       " ['We tried to contact you re your reply to our offer of 750 mins 150 textand a new video phone call 08002988890 now or reply for free delivery tomorrow'],\n",
       " ['my ex-wife was not able to have kids. Do you want kids one day?'],\n",
       " [\"So how's scotland. Hope you are not over showing your JJC tendencies. Take care. Live the dream\"],\n",
       " ['Tell them u have a headache and just want to use 1 hour of sick time.'],\n",
       " [\"I dun thk i'll quit yet... Hmmm, can go jazz ? Yogasana oso can... We can go meet em after our lessons den... \"],\n",
       " ['\\\\Pete can you please ring meive hardly gotany credit\\\\\"\"'],\n",
       " ['Ya srsly better than yi tho'],\n",
       " [\"I'm in a meeting, call me later at\"],\n",
       " [\"For ur chance to win a å£250 wkly shopping spree TXT: SHOP to 80878. T's&C's www.txt-2-shop.com custcare 08715705022, 1x150p/wk\"],\n",
       " ['You have been specially selected to receive a 2000 pound award! Call 08712402050 BEFORE the lines close. Cost 10ppm. 16+. T&Cs apply. AG Promo'],\n",
       " ['PRIVATE! Your 2003 Account Statement for 07753741225 shows 800 un-redeemed S. I. M. points. Call 08715203677 Identifier Code: 42478 Expires 24/10/04'],\n",
       " ['You still at grand prix?'],\n",
       " ['I met you as a stranger and choose you as my friend. As long as the world stands, our friendship never ends. Lets be Friends forever!!! Gud nitz...'],\n",
       " ['I am great! How are you?'],\n",
       " ['Gud mrng dear have a nice day'],\n",
       " ['You have an important customer service announcement. Call FREEPHONE 0800 542 0825 now!'],\n",
       " ['Will do. Was exhausted on train this morning. Too much wine and pie. You sleep well too'],\n",
       " [\"I'm going out to buy mum's present ar.\"],\n",
       " ['Mind blastin.. No more Tsunamis will occur from now on.. Rajnikant stopped swimming in Indian Ocean..:-D'],\n",
       " [\"If u sending her home first it's ok lor. I'm not ready yet.\"],\n",
       " ['Speaking of does he have any cash yet?'],\n",
       " ['Be happy there. I will come after noon'],\n",
       " ['Meet after lunch la...'],\n",
       " ['TaKe CaRE n gET WeLL sOOn'],\n",
       " ['XCLUSIVE@CLUBSAISAI 2MOROW 28/5 SOIREE SPECIALE ZOUK WITH NICHOLS FROM PARIS.FREE ROSES 2 ALL LADIES !!! info: 07946746291/07880867867 '],\n",
       " ['what I meant to say is cant wait to see u again getting bored of this bridgwater banter'],\n",
       " [\"Neva mind it's ok..\"],\n",
       " [\"It's fine, imma get a drink or somethin. Want me to come find you?\"],\n",
       " ['22 days to kick off! For Euro2004 U will be kept up to date with the latest news and results daily. To be removed send GET TXT STOP to 83222'],\n",
       " ['Its a valentine game. . . Send dis msg to all ur friends. .. If 5 answers r d same then someone really loves u. Ques- which colour suits me the best?rply me'],\n",
       " ['I have many dependents'],\n",
       " ['THANX4 TODAY CER IT WAS NICE 2 CATCH UP BUT WE AVE 2 FIND MORE TIME MORE OFTEN OH WELL TAKE CARE C U SOON.C'],\n",
       " ['I called and said all to him:)then he have to choose this future.'],\n",
       " ['\\\\Happy valentines day\\\\\" I know its early but i have hundreds of handsomes and beauties to wish. So i thought to finish off aunties and uncles 1st...\"'],\n",
       " ['He like not v shock leh. Cos telling shuhui is like telling leona also. Like dat almost all know liao. He got ask me abt ur reaction lor.'],\n",
       " ['For my family happiness..'],\n",
       " ['I come n pick Ì_ up... Come out immediately aft ur lesson...'],\n",
       " ['Let there be snow. Let there be snow. This kind of weather brings ppl together so friendships can grow.'],\n",
       " ['Dear we got  &lt;#&gt;  dollars hi hi'],\n",
       " ['Good words.... But words may leave u in dismay many times.'],\n",
       " [\"MAKE SURE ALEX KNOWS HIS BIRTHDAY IS OVER IN FIFTEEN MINUTES AS FAR AS YOU'RE CONCERNED\"],\n",
       " ['sorry, no, have got few things to do. may be in pub later.'],\n",
       " [\"Nah it's straight, if you can just bring bud or drinks or something that's actually a little more useful than straight cash\"],\n",
       " [\"Haha good to hear, I'm officially paid and on the market for an 8th\"],\n",
       " ['How many licks does it take to get to the center of a tootsie pop?'],\n",
       " ['Yup i thk they r e teacher said that will make my face look longer. Darren ask me not 2 cut too short.'],\n",
       " ['New TEXTBUDDY Chat 2 horny guys in ur area 4 just 25p Free 2 receive Search postcode or at gaytextbuddy.com. TXT ONE name to 89693'],\n",
       " ['Todays Vodafone numbers ending with 4882 are selected to a receive a å£350 award. If your number matches call 09064019014 to receive your å£350 award.'],\n",
       " ['Please dont say like that. Hi hi hi'],\n",
       " ['Thank u!'],\n",
       " ['Oh that was a forwarded message. I thought you send that to me'],\n",
       " ['Got it. Seventeen pounds for seven hundred ml \\x89ÛÒ hope ok.'],\n",
       " ['Dear Voucher Holder, 2 claim this weeks offer, at your PC go to http://www.e-tlp.co.uk/expressoffer Ts&Cs apply.2 stop texts txt STOP to 80062.'],\n",
       " ['Me n him so funny...'],\n",
       " ['Sweetheart, hope you are not having that kind of day! Have one with loads of reasons to smile. Biola'],\n",
       " ['When Ì_ login dat time... Dad fetching Ì_ home now?'],\n",
       " ['What will we do in the shower, baby?'],\n",
       " ['I had askd u a question some hours before. Its answer'],\n",
       " [\"Well imma definitely need to restock before thanksgiving, I'll let you know when I'm out\"],\n",
       " [\" said kiss, kiss, i can't do the sound effects! He is a gorgeous man isn't he! Kind of person who needs a smile to brighten his day! \"],\n",
       " ['Probably gonna swing by in a wee bit'],\n",
       " ['Ya very nice. . .be ready on thursday'],\n",
       " ['Allo! We have braved the buses and taken on the trains and triumphed. I mean we\\x89Û÷re in b\\x89Û÷ham. Have a jolly good rest of week'],\n",
       " ['Watching cartoon, listening music &amp; at eve had to go temple &amp; church.. What about u?'],\n",
       " ['Do you mind if I ask what happened? You dont have to say if it is uncomfortable.'],\n",
       " ['PRIVATE! Your 2003 Account Statement for shows 800 un-redeemed S. I. M. points. Call 08715203694 Identifier Code: 40533 Expires 31/10/04'],\n",
       " ['No prob. I will send to your email.'],\n",
       " ['You have won ?1,000 cash or a ?2,000 prize! To claim, call09050000327. T&C: RSTM, SW7 3SS. 150ppm'],\n",
       " ['Thats cool! Sometimes slow and gentle. Sonetimes rough and hard :)'],\n",
       " [\"I'm gonna say no. Sorry. I would but as normal am starting to panic about time. Sorry again! Are you seeing on Tuesday?\"],\n",
       " ['Wait, do you know if wesleys in town? I bet she does hella drugs!'],\n",
       " ['Fine i miss you very much.'],\n",
       " ['Did u got that persons story'],\n",
       " [\"Tell them the drug dealer's getting impatient\"],\n",
       " ['Sun cant come to earth but send luv as rays. cloud cant come to river but send luv as rain. I cant come to meet U, but can send my care as msg to U. Gud evng'],\n",
       " ['You will be in the place of that man'],\n",
       " ['It doesnt make sense to take it there unless its free. If you need to know more, wikipedia.com'],\n",
       " ['88800 and 89034 are premium phone services call 08718711108'],\n",
       " [\"Under the sea, there lays a rock. In the rock, there is an envelope. In the envelope, there is a paper. On the paper, there are 3 words... '\"],\n",
       " [\"Then mum's repent how?\"],\n",
       " ['Sorry me going home first... Daddy come fetch Ì_ later...'],\n",
       " ['Leave it de:-). Start Prepare for next:-)..'],\n",
       " ['Yes baby! We can study all the positions of the kama sutra ;)'],\n",
       " ['En chikku nange bakra msg kalstiya..then had tea/coffee?'],\n",
       " [\"Carlos'll be here in a minute if you still need to buy\"],\n",
       " ['This pay is  &lt;DECIMAL&gt;  lakhs:)'],\n",
       " ['Have a good evening! Ttyl'],\n",
       " ['Did u receive my msg?'],\n",
       " ['Ho ho - big belly laugh! See ya tomo'],\n",
       " ['SMS. ac sun0819 posts HELLO:\\\\You seem cool'],\n",
       " ['Get ur 1st RINGTONE FREE NOW! Reply to this msg with TONE. Gr8 TOP 20 tones to your phone every week just å£1.50 per wk 2 opt out send STOP 08452810071 16'],\n",
       " [\"Ditto. And you won't have to worry about me saying ANYTHING to you anymore. Like i said last night, you do whatever you want and i'll do the same. Peace.\"],\n",
       " [\"I've got  &lt;#&gt; , any way I could pick up?\"],\n",
       " ['I dont knw pa, i just drink milk..'],\n",
       " ['Maybe?! Say hi to  and find out if  got his card. Great escape or wetherspoons? '],\n",
       " [\"Piggy, r u awake? I bet u're still sleeping. I'm going 4 lunch now...\"],\n",
       " [\"Cause I'm not freaky lol\"],\n",
       " [\"Missed your call cause I was yelling at scrappy. Miss u. Can't wait for u to come home. I'm so lonely today.\"],\n",
       " [\"What is this 'hex' place you talk of? Explain!\"],\n",
       " [\"ÌÏ log off 4 wat. It's sdryb8i\"],\n",
       " ['Is xy going 4 e lunch?'],\n",
       " [\"Hi I'm sue. I am 20 years old and work as a lapdancer. I love sex. Text me live - I'm i my bedroom now. text SUE to 89555. By TextOperator G2 1DA 150ppmsg 18+\"],\n",
       " ['I wanted to ask Ì_ to wait 4 me to finish lect. Cos my lect finishes in an hour anyway.'],\n",
       " ['Have you finished work yet? :)'],\n",
       " ['Every King Was Once A Crying Baby And Every Great Building Was Once A Map.. Not Imprtant Where U r TODAY, BUT Where U Wil Reach TOMORW. Gud ni8'],\n",
       " ['Dear,Me at cherthala.in case u r coming cochin pls call bfore u start.i shall also reach accordingly.or tell me which day u r coming.tmorow i am engaged ans its holiday.'],\n",
       " ['Thanks love. But am i doing torch or bold.'],\n",
       " ['<Forwarded from 448712404000>Please CALL 08712404000 immediately as there is an urgent message waiting for you.'],\n",
       " ['Was the farm open?'],\n",
       " ['Sorry to trouble u again. Can buy 4d for my dad again? 1405, 1680, 1843. All 2 big 1 small, sat n sun. Thanx.'],\n",
       " ['My sister in law, hope you are having a great month. Just saying hey. Abiola'],\n",
       " ['Will purchase d stuff today and mail to you. Do you have a po box number?'],\n",
       " ['Ah poop. Looks like ill prob have to send in my laptop to get fixed cuz it has a gpu problem'],\n",
       " ['Good. Good job. I like entrepreneurs'],\n",
       " [\"Aight, you close by or still down around alex's place?\"],\n",
       " ['meet you in corporation st outside gap \\x89Û_ you can see how my mind is working!'],\n",
       " ['Mum ask Ì_ to buy food home...'],\n",
       " ['K..u also dont msg or reply to his msg..'],\n",
       " ['How much r Ì_ willing to pay?'],\n",
       " [\"Sorry, I'll call later\"],\n",
       " ['What is important is that you prevent dehydration by giving her enough fluids'],\n",
       " ['Thats a bit weird, even ?- where is the do supposed to be happening? But good idea, sure they will be in pub!'],\n",
       " [\"True dear..i sat to pray evening and felt so.so i sms'd you in some time...\"],\n",
       " [\"I don't think I can get away for a trek that long with family in town, sorry\"],\n",
       " ['So when do you wanna gym harri'],\n",
       " ['Quite late lar... Ard 12 anyway i wun b drivin...'],\n",
       " ['To review and KEEP the fantastic Nokia N-Gage game deck with Club Nokia, go 2 www.cnupdates.com/newsletter. unsubscribe from alerts reply with the word OUT'],\n",
       " ['4mths half price Orange line rental & latest camera phones 4 FREE. Had your phone 11mths+? Call MobilesDirect free on 08000938767 to update now! or2stoptxt T&Cs'],\n",
       " ['Height of Confidence: All the Aeronautics professors wer calld &amp; they wer askd 2 sit in an aeroplane. Aftr they sat they wer told dat the plane ws made by their students. Dey all hurried out of d plane.. Bt only 1 didnt move... He said:\\\\if it is made by my students'],\n",
       " ['It just seems like weird timing that the night that all you and g want is for me to come smoke is the same day as when a shitstorm is attributed to me always coming over and making everyone smoke'],\n",
       " ['08714712388 between 10am-7pm Cost 10p'],\n",
       " ['Save yourself the stress. If the person has a dorm account, just send your account details and the money will be sent to you.'],\n",
       " ['He also knows about lunch menu only da. . I know'],\n",
       " ['When i have stuff to sell i.ll tell you'],\n",
       " ['+449071512431 URGENT! This is the 2nd attempt to contact U!U have WON å£1250 CALL 09071512433 b4 050703 T&CsBCM4235WC1N3XX. callcost 150ppm mobilesvary. maxå£7. 50'],\n",
       " [\"Book which lesson? then you msg me... I will call up after work or sth... I'm going to get specs. My membership is PX3748\"],\n",
       " ['You have WON a guaranteed å£1000 cash or a å£2000 prize. To claim yr prize call our customer service representative on 08714712394 between 10am-7pm'],\n",
       " ['Macha dont feel upset.i can assume your mindset.believe me one evening with me and i have some wonderful plans for both of us.LET LIFE BEGIN AGAIN.call me anytime'],\n",
       " ['Oh is it? Send me the address'],\n",
       " [\"S'fine. Anytime. All the best with it.\"],\n",
       " ['That is wondar full flim.'],\n",
       " ['Ya even those cookies have jelly on them'],\n",
       " ['The world is running and i am still.maybe all are feeling the same,so be it.or i have to admit,i am mad.then where is the correction?or let me call this is life.and keep running with the world,may be u r also running.lets run.'],\n",
       " ['Got it! It looks scrumptious... daddy wants to eat you all night long!'],\n",
       " [\"Of cos can lar i'm not so ba dao ok... 1 pm lor... Y u never ask where we go ah... I said u would ask on fri but he said u will ask today...\"],\n",
       " ['Alright omw, gotta change my order to a half8th'],\n",
       " ['Exactly. Anyways how far. Is jide her to study or just visiting'],\n",
       " ['Dunno y u ask me.'],\n",
       " ['Email AlertFrom: Jeri StewartSize: 2KBSubject: Low-cost prescripiton drvgsTo listen to email call 123'],\n",
       " [\"No he didn't. Spring is coming early yay!\"],\n",
       " [\"Lol you won't feel bad when I use her money to take you out to a steak dinner =D\"],\n",
       " ['Even u dont get in trouble while convincing..just tel him once or twice and just tel neglect his msgs dont c and read it..just dont reply'],\n",
       " ['Leaving to qatar tonite in search of an opportunity.all went fast.pls add me in ur prayers dear.Rakhesh'],\n",
       " ['Then why no one talking to me'],\n",
       " ['Thanks for looking out for me. I really appreciate.'],\n",
       " ['Hi. Customer Loyalty Offer:The NEW Nokia6650 Mobile from ONLY å£10 at TXTAUCTION! Txt word: START to No: 81151 & get yours Now! 4T&Ctxt TC 150p/MTmsg'],\n",
       " ['Wish i were with you now!'],\n",
       " [\"Haha mayb u're rite... U know me well. Da feeling of being liked by someone is gd lor. U faster go find one then all gals in our group attached liao.\"],\n",
       " ['Yes i will be there. Glad you made it.'],\n",
       " ['Do well :)all will for little time. Thing of good times ahead:'],\n",
       " [\"Just got up. have to be out of the room very soon. \\x89Û_. i hadn't put the clocks back til at 8 i shouted at everyone to get up and then realised it was 7. wahay. another hour in bed.\"],\n",
       " ['Ok. There may be a free gym about.'],\n",
       " ['Men like shorter ladies. Gaze up into his eyes.'],\n",
       " ['Dunno he jus say go lido. Same time 930.'],\n",
       " ['I promise to take good care of you, princess. I have to run now. Please send pics when you get a chance. Ttyl!'],\n",
       " ['U are subscribed to the best Mobile Content Service in the UK for å£3 per 10 days until you send STOP to 82324. Helpline 08706091795'],\n",
       " [\"Is there a reason we've not spoken this year? Anyways have a great week and all the best in your exam\"],\n",
       " ['By monday next week. Give me the full gist'],\n",
       " [\"Do you realize that in about 40 years, we'll have thousands of old ladies running around with tattoos?\"],\n",
       " ['You have an important customer service announcement from PREMIER.'],\n",
       " ['Dont gimme that lip caveboy'],\n",
       " ['When did you get to the library'],\n",
       " [\"Realy sorry-i don't recognise this number and am now confused :) who r u please?! \"],\n",
       " ['So why didnt you holla?'],\n",
       " ['Cant think of anyone with * spare room off * top of my head'],\n",
       " ['Faith makes things possible,Hope makes things work,Love makes things beautiful,May you have all three this Christmas!Merry Christmas!'],\n",
       " ['U should have made an appointment'],\n",
       " [\"Call me when you/carlos is/are here, my phone's vibrate is acting up and I might not hear texts\"],\n",
       " ['Romantic Paris. 2 nights, 2 flights from å£79 Book now 4 next year. Call 08704439680Ts&Cs apply.'],\n",
       " ['We are at grandmas. Oh dear, u still ill? I felt Shit this morning but i think i am just hungover! Another night then. We leave on sat.'],\n",
       " ['Urgent Ur å£500 guaranteed award is still unclaimed! Call 09066368327 NOW closingdate04/09/02 claimcode M39M51 å£1.50pmmorefrommobile2Bremoved-MobyPOBox734LS27YF'],\n",
       " ['Nothing but we jus tot u would ask cos u ba gua... But we went mt faber yest... Yest jus went out already mah so today not going out... Jus call lor...'],\n",
       " ['Wishing you and your family Merry \\\\X\\\\\" mas and HAPPY NEW Year in advance..\"'],\n",
       " ['UR awarded a City Break and could WIN a å£200 Summer Shopping spree every WK. Txt STORE to 88039 . SkilGme. TsCs087147403231Winawk!Age16 å£1.50perWKsub'],\n",
       " [\"I'm nt goin, got somethin on, unless they meetin 4 dinner lor... Haha, i wonder who will go tis time...\"],\n",
       " [\"Sorry, I'll call later\"],\n",
       " ['I cant pick the phone right now. Pls send a message'],\n",
       " [\"Lol I know! They're so dramatic. Schools already closed for tomorrow. Apparently we can't drive in the inch of snow were supposed to get.\"],\n",
       " ['Not getting anywhere with this damn job hunting over here!'],\n",
       " ['Lol! U drunkard! Just doing my hair at d moment. Yeah still up 4 tonight. Wats the plan? '],\n",
       " ['idc get over here, you are not weaseling your way out of this shit twice in a row'],\n",
       " ['I wil be there with in  &lt;#&gt;  minutes. Got any space'],\n",
       " ['Just sleeping..and surfing'],\n",
       " ['Thanks for picking up the trash.'],\n",
       " [\"Why don't you go tell your friend you're not sure you want to live with him because he smokes too much then spend hours begging him to come smoke\"],\n",
       " ['\\\\Hi its Kate it was lovely to see you tonight and ill phone you tomorrow. I got to sing and a guy gave me his card! xxx\\\\\"\"'],\n",
       " ['Happy New year my dear brother. I really do miss you. Just got your number and decided to send you this text wishing you only happiness. Abiola'],\n",
       " ['That means get the door'],\n",
       " ['Your opinion about me? 1. Over 2. Jada 3. Kusruthi 4. Lovable 5. Silent 6. Spl character 7. Not matured 8. Stylish 9. Simple Pls reply..'],\n",
       " ['Hmmm ... I thought we said 2 hours slave, not 3 ... You are late ... How should I punish you ?'],\n",
       " ['Beerage?'],\n",
       " ['You have an important customer service announcement from PREMIER. Call FREEPHONE 0800 542 0578 now!'],\n",
       " ['Dont think so. It turns off like randomlly within 5min of opening'],\n",
       " [\"She was supposed to be but couldn't make it, she's still in town though\"],\n",
       " ['It does it on its own. Most of the time it fixes my spelling. But sometimes it gets a completely diff word. Go figure'],\n",
       " ['Ever thought about living a good life with a perfect partner? Just txt back NAME and AGE to join the mobile community. (100p/SMS)'],\n",
       " ['5 Free Top Polyphonic Tones call 087018728737, National Rate. Get a toppoly tune sent every week, just text SUBPOLY to 81618, å£3 per pole. UnSub 08718727870.'],\n",
       " ['Gud mrng dear hav a nice day'],\n",
       " [\"This is hoping you enjoyed your game yesterday. Sorry i've not been in touch but pls know that you are fondly bein thot off. Have a great week. Abiola\"],\n",
       " ['All e best 4 ur driving tmr :-)'],\n",
       " ['Y?WHERE U AT DOGBREATH? ITS JUST SOUNDING LIKE JAN C THATåÕS AL!!!!!!!!!'],\n",
       " ['Omg I want to scream. I weighed myself and I lost more weight! Woohoo!'],\n",
       " [\"There generally isn't one. It's an uncountable noun - u in the dictionary. pieces of research?\"],\n",
       " [\"it's really getting me down just hanging around.\"],\n",
       " [\"Orange customer, you may now claim your FREE CAMERA PHONE upgrade for your loyalty. Call now on 0207 153 9996. Offer ends 14thMarch. T&C's apply. Opt-out availa\"],\n",
       " ['\\\\Petey boy whereare you me and all your friendsare in theKingshead come down if you canlove Nic\\\\\"\"'],\n",
       " ['Ok i msg u b4 i leave my house.'],\n",
       " ['\\\\Gimme a few\\\\\" was  &lt;#&gt;  minutes ago\"'],\n",
       " ['Last Chance! Claim ur å£150 worth of discount vouchers today! Text SHOP to 85023 now! SavaMob, offers mobile! T Cs SavaMob POBOX84, M263UZ. å£3.00 Sub. 16'],\n",
       " [\"Appt is at &lt;TIME&gt; am. Not my fault u don't listen. I told u twice\"],\n",
       " ['FREE for 1st week! No1 Nokia tone 4 ur mobile every week just txt NOKIA to 8077 Get txting and tell ur mates. www.getzed.co.uk POBox 36504 W45WQ 16+ norm150p/tone'],\n",
       " ['You have won a guaranteed å£200 award or even å£1000 cashto claim UR award call free on 08000407165 (18+) 2 stop getstop on 88222 PHP. RG21 4JX'],\n",
       " [\"K I'll be there before 4.\"],\n",
       " ['I dled 3d its very imp'],\n",
       " [\"sure, but make sure he knows we ain't smokin yet\"],\n",
       " ['Boooo you always work. Just quit.'],\n",
       " ['I am taking half day leave bec i am not well'],\n",
       " [\"Ugh I don't wanna get out of bed. It's so warm.\"],\n",
       " ['S:)s.nervous  &lt;#&gt; :)'],\n",
       " [\"So there's a ring that comes with the guys costumes. It's there so they can gift their future yowifes. Hint hint\"],\n",
       " ['Congratulations ur awarded either å£500 of CD gift vouchers & Free entry 2 our å£100 weekly draw txt MUSIC to 87066 TnCs www.Ldew.com1win150ppmx3age16'],\n",
       " ['I borrow ur bag ok.'],\n",
       " ['U were outbid by simonwatson5120 on the Shinco DVD Plyr. 2 bid again, visit sms. ac/smsrewards 2 end bid notifications, reply END OUT'],\n",
       " [\"Where's my boytoy? I miss you ... What happened?\"],\n",
       " [\"He has lots of used ones babe, but the model doesn't help. Youi have to bring it over and he'll match it up\"],\n",
       " ['Also are you bringing galileo or dobby'],\n",
       " ['Then why you not responding'],\n",
       " ['\\\\BOO BABE! U ENJOYIN YOURJOB? U SEEMED 2 B GETTIN ON WELL HUNNY!HOPE URE OK?TAKE CARE & IåÕLLSPEAK 2U SOONLOTS OF LOVEME XXXX.\\\\\"\"'],\n",
       " [\"Good afternoon starshine! How's my boytoy? Does he crave me yet? Ache to fuck me ? *sips cappuccino* I miss you babe *teasing kiss*\"],\n",
       " ['On the road so cant txt'],\n",
       " ['SMSSERVICES. for yourinclusive text credits, pls goto www.comuk.net login= 3qxj9 unsubscribe with STOP, no extra charge. help 08702840625.COMUK. 220-CM2 9AE'],\n",
       " [\"25p 4 alfie Moon's Children in need song on ur mob. Tell ur m8s. Txt Tone charity to 8007 for Nokias or Poly charity for polys: zed 08701417012 profit 2 charity.\"],\n",
       " ['Have a good evening! Ttyl'],\n",
       " ['Hmm .. Bits and pieces lol ... *sighs* ...'],\n",
       " ['Hahaha..use your brain dear'],\n",
       " ['Hey. You got any mail?'],\n",
       " ['Sorry light turned green, I meant another friend wanted  &lt;#&gt;  worth but he may not be around'],\n",
       " ['Thanks for yesterday sir. You have been wonderful. Hope you enjoyed the burial. MojiBiola'],\n",
       " ['U have a secret admirer. REVEAL who thinks U R So special. Call 09065174042. To opt out Reply REVEAL STOP. 1.50 per msg recd. Cust care 07821230901'],\n",
       " ['Hi mate its RV did u hav a nice hol just a message 3 say hello coz havenåÕt sent u 1 in ages started driving so stay off roads!RVx'],\n",
       " ['Dear Voucher Holder, To claim this weeks offer, at you PC please go to http://www.e-tlp.co.uk/expressoffer Ts&Cs apply. To stop texts, txt STOP to 80062'],\n",
       " [\"Thank you so much. When we skyped wit kz and sura, we didnt get the pleasure of your company. Hope you are good. We've given you ultimatum oh! We are countin down to aburo. Enjoy! This is the message i sent days ago\"],\n",
       " ['Surely result will offer:)'],\n",
       " ['Good Morning my Dear........... Have a great &amp; successful day.'],\n",
       " ['Do you want 750 anytime any network mins 150 text and a NEW VIDEO phone for only five pounds per week call 08002888812 or reply for delivery tomorrow'],\n",
       " [\"Sir, I have been late in paying rent for the past few months and had to pay a $ &lt;#&gt;  charge. I felt it would be inconsiderate of me to nag about something you give at great cost to yourself and that's why i didnt speak up. I however am in a recession and wont be able to pay the charge this month hence my askin well ahead of month's end. Can you please help. Thanks\"],\n",
       " ['We tried to contact you re our offer of New Video Phone 750 anytime any network mins HALF PRICE Rental camcorder call 08000930705 or reply for delivery Wed'],\n",
       " ['Last chance 2 claim ur å£150 worth of discount vouchers-Text YES to 85023 now!SavaMob-member offers mobile T Cs 08717898035. å£3.00 Sub. 16 . Remove txt X or STOP'],\n",
       " ['I luv u soo much u donåÕt understand how special u r 2 me ring u 2morrow luv u xxx'],\n",
       " [\"Pls send me a comprehensive mail about who i'm paying, when and how much.\"],\n",
       " [\"Our Prashanthettan's mother passed away last night. pray for her and family.\"],\n",
       " ['Urgent! call 09066350750 from your landline. Your complimentary 4* Ibiza Holiday or 10,000 cash await collection SAE T&Cs PO BOX 434 SK3 8WP 150 ppm 18+ '],\n",
       " ['K.k:)when are you going?'],\n",
       " [\"Meanwhile in the shit suite: xavier decided to give us  &lt;#&gt;  seconds of warning that samantha was coming over and is playing jay's guitar to impress her or some shit. Also I don't think doug realizes I don't live here anymore\"],\n",
       " [\"My stomach has been thru so much trauma I swear I just can't eat. I better lose weight.\"],\n",
       " ['I am in office:)whats the matter..msg me now.i will call you at break:).'],\n",
       " [\"Yeah there's barely enough room for the two of us, x has too many fucking shoes. Sorry man, see you later\"],\n",
       " [\"Today's Offer! Claim ur å£150 worth of discount vouchers! Text YES to 85023 now! SavaMob, member offers mobile! T Cs 08717898035. å£3.00 Sub. 16 . Unsub reply X\"],\n",
       " ['U reach orchard already? U wan 2 go buy tickets first?'],\n",
       " ['I am real, baby! I want to bring out your inner tigress...'],\n",
       " ['No da if you run that it activate the full version da.'],\n",
       " ['\\\\AH POOR BABY!HOPE URFEELING BETTERSN LUV! PROBTHAT OVERDOSE OF WORK HEY GO CAREFUL SPK 2 U SN LOTS OF LOVEJEN XXX.\\\\\"\"'],\n",
       " [\"Stop the story. I've told him i've returned it and he's saying i should not re order it.\"],\n",
       " ['Talk sexy!! Make new friends or fall in love in the worlds most discreet text dating service. Just text VIP to 83110 and see who you could meet.'],\n",
       " ['Going to take your babe out ?'],\n",
       " ['Hai ana tomarrow am coming on morning.  &lt;DECIMAL&gt;  ill be there in sathy then we ll go to RTO office. Reply me after came to home.'],\n",
       " ['Spoons it is then okay?'],\n",
       " ['Did he just say somebody is named tampa'],\n",
       " ['In work now. Going have in few min.'],\n",
       " ['Your brother is a genius'],\n",
       " [\"Sorry, I guess whenever I can get a hold of my connections, maybe an hour or two? I'll text you\"],\n",
       " ['Did u find out what time the bus is at coz i need to sort some stuff out.'],\n",
       " ['Dude ive been seeing a lotta corvettes lately'],\n",
       " ['Congratulations ur awarded either a yrs supply of CDs from Virgin Records or a Mystery Gift GUARANTEED Call 09061104283 Ts&Cs www.smsco.net å£1.50pm approx 3mins'],\n",
       " [\"Same here, but I consider walls and bunkers and shit important just because I never play on peaceful but I guess your place is high enough that it don't matter\"],\n",
       " ['PRIVATE! Your 2003 Account Statement for 07808 XXXXXX shows 800 un-redeemed S. I. M. points. Call 08719899217 Identifier Code: 41685 Expires 07/11/04'],\n",
       " ['Hello. We need some posh birds and chaps to user trial prods for champneys. Can i put you down? I need your address and dob asap. Ta r'],\n",
       " ['What do U want for Xmas? How about 100 free text messages & a new video phone with half price line rental? Call free now on 0800 0721072 to find out more!'],\n",
       " ['Well am officially in a philosophical hole, so if u wanna call am at home ready to be saved!'],\n",
       " ['Its going good...no problem..but still need little experience to understand american customer voice...'],\n",
       " [\"I'll text you when I drop x off\"],\n",
       " [\"Ugh its been a long day. I'm exhausted. Just want to cuddle up and take a nap\"],\n",
       " ['Talk With Yourself Atleast Once In A Day...!!! Otherwise You Will Miss Your Best FRIEND In This WORLD...!!! -Shakespeare- SHESIL  &lt;#&gt;'],\n",
       " ['Shop till u Drop, IS IT YOU, either 10K, 5K, å£500 Cash or å£100 Travel voucher, Call now, 09064011000. NTT PO Box CR01327BT fixedline Cost 150ppm mobile vary'],\n",
       " ['Are you in castor? You need to see something'],\n",
       " ['Sunshine Quiz Wkly Q! Win a top Sony DVD player if u know which country Liverpool played in mid week? Txt ansr to 82277. å£1.50 SP:Tyrone'],\n",
       " ['U have a secret admirer who is looking 2 make contact with U-find out who they R*reveal who thinks UR so special-call on 09058094565'],\n",
       " ['U have a Secret Admirer who is looking 2 make contact with U-find out who they R*reveal who thinks UR so special-call on 09065171142-stopsms-08'],\n",
       " ['Reminder: You have not downloaded the content you have already paid for. Goto http://doit. mymoby. tv/ to collect your content.'],\n",
       " [\"see, i knew giving you a break a few times woul lead to you always wanting to miss curfew. I was gonna gibe you 'til one, but a MIDNIGHT movie is not gonna get out til after 2. You need to come home. You need to getsleep and, if anything, you need to b studdying ear training.\"],\n",
       " ['I love to give massages. I use lots of baby oil... What is your fave position?'],\n",
       " ['Dude we should go sup again'],\n",
       " ['Yoyyooo u know how to change permissions for a drive in mac. My usb flash drive'],\n",
       " ['Gibbs unsold.mike hussey'],\n",
       " ['I like to talk pa but am not able to. I dont know y.'],\n",
       " [\"Y dun cut too short leh. U dun like ah? She failed. She's quite sad.\"],\n",
       " ['You unbelievable faglord'],\n",
       " ['Wife.how she knew the time of murder exactly'],\n",
       " ['Why do you ask princess?'],\n",
       " ['I am great princess! What are you thinking about me? :)'],\n",
       " ['Nutter. Cutter. Ctter. Cttergg. Cttargg. Ctargg. Ctagg. ie you'],\n",
       " [\"It's ok i noe u're busy but i'm really too bored so i msg u. I oso dunno wat colour she choose 4 me one.\"],\n",
       " [\"Doesn't g have class early tomorrow and thus shouldn't be trying to smoke at  &lt;#&gt;\"],\n",
       " ['Superb Thought- \\\\Be grateful that u dont have everything u want. That means u still have an opportunity to be happier tomorrow than u are today.\\\\\":-)\"'],\n",
       " ['Hope you are having a good week. Just checking in'],\n",
       " [\"I'm used to it. I just hope my agents don't drop me since i've only booked a few things this year. This whole me in boston, them in nyc was an experiment.\"],\n",
       " [\"Thursday night? Yeah, sure thing, we'll work it out then\"],\n",
       " ['Your free ringtone is waiting to be collected. Simply text the password \\\\MIX\\\\\" to 85069 to verify. Get Usher and Britney. FML'],\n",
       " ['Probably money worries. Things are coming due and i have several outstanding invoices for work i did two and three months ago.'],\n",
       " ['How is it possible to teach you. And where.'],\n",
       " ['I wonder if your phone battery went dead ? I had to tell you, I love you babe'],\n",
       " [\"Lovely smell on this bus and it ain't tobacco... \"],\n",
       " [\"We're all getting worried over here, derek and taylor have already assumed the worst\"],\n",
       " [\"Hey what's up charles sorry about the late reply.\"],\n",
       " ['all the lastest from Stereophonics, Marley, Dizzee Racal, Libertines and The Strokes! Win Nookii games with Flirt!! Click TheMob WAP Bookmark or text WAP to 82468'],\n",
       " ['I.ll give her once i have it. Plus she said grinule greet you whenever we speak'],\n",
       " ['WHITE FUDGE OREOS ARE IN STORES'],\n",
       " ['January Male Sale! Hot Gay chat now cheaper, call 08709222922. National rate from 1.5p/min cheap to 7.8p/min peak! To stop texts call 08712460324 (10p/min)'],\n",
       " [\"My love ! How come it took you so long to leave for Zaher's? I got your words on ym and was happy to see them but was sad you had left. I miss you\"],\n",
       " ['I am sorry it hurt you.'],\n",
       " [\"Can't. I feel nauseous. I'm so pissed. I didn't eat any sweets all week cause today I was planning to pig out. I was dieting all week. And now I'm not hungry :/\"],\n",
       " ['Ok lor but not too early. Me still having project meeting now.'],\n",
       " ['Call me da, i am waiting for your call.'],\n",
       " ['I could ask carlos if we could get more if anybody else can chip in'],\n",
       " ['Was actually about to send you a reminder today. Have a wonderful weekend'],\n",
       " [\"When people see my msgs, They think Iam addicted to msging... They are wrong, Bcoz They don\\\\'t know that Iam addicted to my sweet Friends..!! BSLVYL\"],\n",
       " ['Hey you gave them your photo when you registered for driving ah? Tmr wanna meet at yck? '],\n",
       " ['Dont talk to him ever ok its my word.'],\n",
       " ['When u wana see it then'],\n",
       " [\"On ma way to school. Can you pls send me ashley's number\"],\n",
       " ['It shall be fine. I have avalarr now. Will hollalater'],\n",
       " [\"She went to attend another two rounds today..but still did't reach home..\"],\n",
       " ['Actually i deleted my old website..now i m blogging at magicalsongs.blogspot.com'],\n",
       " ['K, wait chikku..il send aftr  &lt;#&gt; mins'],\n",
       " [\"But I'm on a diet. And I ate 1 too many slices of pizza yesterday. Ugh I'm ALWAYS on a diet.\"],\n",
       " ['K:)i will give my kvb acc details:)'],\n",
       " ['Oh all have to come ah?'],\n",
       " ['money!!! you r a lucky winner ! 2 claim your prize text money 2 88600 over å£1million to give away ! ppt150x3+normal text rate box403 w1t1jy'],\n",
       " [\"I'm really sorry i won't b able 2 do this friday.hope u can find an alternative.hope yr term's going ok:-)\"],\n",
       " ['Congratulations ore mo owo re wa. Enjoy it and i wish you many happy moments to and fro wherever you go'],\n",
       " ['So do you have samus shoulders yet'],\n",
       " [\"What time you think you'll have it? Need to know when I should be near campus\"],\n",
       " ['Dear Matthew please call 09063440451 from a landline, your complimentary 4*Lux Tenerife holiday or å£1000 CASH await collection. ppm150 SAE T&Cs Box334 SK38XH.'],\n",
       " ['Then dun wear jeans lor...'],\n",
       " ['Since when, which side, any fever, any vomitin.'],\n",
       " ['K:)k.are you in college?'],\n",
       " ['Urgent! call 09061749602 from Landline. Your complimentary 4* Tenerife Holiday or å£10,000 cash await collection SAE T&Cs BOX 528 HP20 1YF 150ppm 18+'],\n",
       " ['Better. Made up for Friday and stuffed myself like a pig yesterday. Now I feel bleh. But at least its not writhing pain kind of bleh.'],\n",
       " [\"No we sell it all so we'll have tons if coins. Then sell our coins to someone thru paypal. Voila! Money back in life pockets:)\"],\n",
       " ['Theyre doing it to lots of places. Only hospitals and medical places are safe.'],\n",
       " ['How about getting in touch with folks waiting for company? Just txt back your NAME and AGE to opt in! Enjoy the community (150p/SMS)'],\n",
       " [\"And also I've sorta blown him off a couple times recently so id rather not text him out of the blue looking for weed\"],\n",
       " ['I sent my scores to sophas and i had to do secondary application for a few schools. I think if you are thinking of applying, do a research on cost also. Contact joke ogunrinde, her school is one me the less expensive ones'],\n",
       " ['I cant wait to see you! How were the photos were useful? :)'],\n",
       " ['Ur cash-balance is currently 500 pounds - to maximize ur cash-in now send GO to 86688 only 150p/msg. CC: 08718720201 PO BOX 114/14 TCR/W1'],\n",
       " ['Hey i booked the kb on sat already... what other lessons are we going for ah? Keep your sat night free we need to meet and confirm our lodging '],\n",
       " ['Chk in ur belovd ms dict'],\n",
       " ['Is that what time you want me to come?'],\n",
       " [\"Awesome, lemme know whenever you're around\"],\n",
       " ['Shb b ok lor... Thanx...'],\n",
       " ['Beautiful Truth against Gravity.. Read carefully: \\\\Our heart feels light when someone is in it.. But it feels very heavy when someone leaves it..\\\\\" GOOD NIGHT\"'],\n",
       " [\"Also remember to get dobby's bowl from your car\"],\n",
       " ['Filthy stories and GIRLS waiting for your'],\n",
       " [\"Sorry i now then c ur msg... Yar lor so poor thing... But only 4 one night... Tmr u'll have a brand new room 2 sleep in...\"],\n",
       " [\"Love isn't a decision, it's a feeling. If we could decide who to love, then, life would be much simpler, but then less magical\"],\n",
       " ['Welp apparently he retired'],\n",
       " [\"My sort code is  and acc no is . The bank is natwest. Can you reply to confirm i've sent this to the right person!\"],\n",
       " ['Where @'],\n",
       " [\"U sure u can't take any sick time?\"],\n",
       " ['URGENT! We are trying to contact U. Todays draw shows that you have won a å£800 prize GUARANTEED. Call 09050001808 from land line. Claim M95. Valid12hrs only'],\n",
       " ['Watching cartoon, listening music &amp; at eve had to go temple &amp; church.. What about u?'],\n",
       " ['Yo chad which gymnastics class do you wanna take? The site says Christians class is full..'],\n",
       " ['Are you this much buzy'],\n",
       " ['Or better still can you catch her and let ask her if she can sell  &lt;#&gt;  for me.'],\n",
       " ['I am not sure about night menu. . . I know only about noon menu'],\n",
       " ['What do u want when i come back?.a beautiful necklace as a token of my heart for you.thats what i will give but ONLY to MY WIFE OF MY LIKING.BE THAT AND SEE..NO ONE can give you that.dont call me.i will wait till i come.'],\n",
       " ['Are you willing to go for aptitude class.'],\n",
       " ['It wont b until 2.15 as trying 2 sort house out, is that ok?'],\n",
       " ['Yar lor he wan 2 go c horse racing today mah, so eat earlier lor. I ate chicken rice. U?'],\n",
       " ['Haha awesome, omw back now then'],\n",
       " ['Yup i thk so until e shop closes lor.'],\n",
       " ['what is your account number?'],\n",
       " ['Eh u send wrongly lar...'],\n",
       " ['Hey no I ad a crap nite was borin without ya 2 boggy with me u boring biatch! Thanx but u wait til nxt time il ave ya '],\n",
       " ['Ok i shall talk to him'],\n",
       " ['Dont hesitate. You know this is the second time she has had weakness like that. So keep i notebook of what she eat and did the day before or if anything changed the day before so that we can be sure its nothing'],\n",
       " ['Hey you can pay. With salary de. Only  &lt;#&gt; .'],\n",
       " ['Another month. I need chocolate weed and alcohol.'],\n",
       " ['If he started searching he will get job in few days.he have great potential and talent.'],\n",
       " ['Reckon need to be in town by eightish to walk from * carpark.'],\n",
       " ['Congrats! 2 mobile 3G Videophones R yours. call 09063458130 now! videochat wid your mates, play java games, Dload polyPH music, noline rentl.'],\n",
       " ['LOOK AT THE FUCKIN TIME. WHAT THE FUCK YOU THINK IS UP'],\n",
       " ['Yo guess what I just dropped'],\n",
       " [\"Carlos says he'll be at mu in  &lt;#&gt;  minutes\"],\n",
       " [\"I'm in office now . I will call you  &lt;#&gt;  min:)\"],\n",
       " [\"Geeee ... I miss you already, you know ? Your all I can think about. Fuck, I can't wait till next year when we will be together ... *loving kiss*\"],\n",
       " ['Yun ah.the ubi one say if Ì_ wan call by tomorrow.call 67441233 look for irene.ere only got bus8,22,65,61,66,382. Ubi cres,ubi tech park.6ph for 1st 5wkg days.Ì¬n'],\n",
       " ['Ugh. Gotta drive back to sd from la. My butt is sore.'],\n",
       " ['26th OF JULY'],\n",
       " ['Hi im having the most relaxing time ever! we have to get up at 7am every day! was the party good the other night? I get home tomorrow at 5ish.'],\n",
       " ['Up to Ì_... ÌÏ wan come then come lor... But i din c any stripes skirt...'],\n",
       " ['The Xmas story is peace.. The Xmas msg is love.. The Xmas miracle is jesus.. Hav a blessed month ahead &amp; wish U Merry Xmas...'],\n",
       " [\"I can't, I don't have her number!\"],\n",
       " [\"Change again... It's e one next to escalator...\"],\n",
       " [\"Yetunde i'm in class can you not run water on it to make it ok. Pls now.\"],\n",
       " ['Not a lot has happened here. Feels very quiet. Beth is at her aunts and charlie is working lots. Just me and helen in at the mo. How have you been? '],\n",
       " ['Then Ì_ wait 4 me at bus stop aft ur lect lar. If i dun c Ì_ then i go get my car then come back n pick Ì_.'],\n",
       " ['Aight will do, thanks again for comin out'],\n",
       " ...]"
      ]
     },
     "execution_count": 68,
     "metadata": {},
     "output_type": "execute_result"
    }
   ],
   "source": [
    "# Just selecting emails and connverting it into list\n",
    "Email_Data = file_content[[ 'v2']]\n",
    "list_data = Email_Data.values.tolist()\n",
    "list_data"
   ]
  },
  {
   "cell_type": "markdown",
   "metadata": {},
   "source": [
    "Step 3-3 Importing and installing necessary libraries"
   ]
  },
  {
   "cell_type": "code",
   "execution_count": 70,
   "metadata": {},
   "outputs": [],
   "source": [
    "import numpy as np\n",
    "import random\n",
    "import pandas as pd\n",
    "import sys\n",
    "import os\n",
    "import time\n",
    "import codecs\n",
    "import collections\n",
    "import numpy\n",
    "from keras.models import Sequential\n",
    "from keras.layers import Dense\n",
    "from keras.layers import Dropout\n",
    "from keras.layers import LSTM\n",
    "from keras.callbacks import ModelCheckpoint\n",
    "from keras.utils import to_categorical\n",
    "from nltk.tokenize import sent_tokenize, word_tokenize\n",
    "import scipy\n",
    "from scipy import spatial\n",
    "from nltk.tokenize.toktok import ToktokTokenizer\n",
    "import re\n",
    "tokenizer = ToktokTokenizer()"
   ]
  },
  {
   "cell_type": "markdown",
   "metadata": {},
   "source": [
    "Step 3-4 Processing the data"
   ]
  },
  {
   "cell_type": "code",
   "execution_count": 71,
   "metadata": {},
   "outputs": [
    {
     "name": "stderr",
     "output_type": "stream",
     "text": [
      "C:\\Users\\Lattae\\AppData\\Local\\Temp\\ipykernel_8936\\272138307.py:2: DeprecationWarning: Using or importing the ABCs from 'collections' instead of from 'collections.abc' is deprecated since Python 3.3, and in 3.10 it will stop working\n",
      "  from collections import Iterable\n"
     ]
    }
   ],
   "source": [
    "#Converting list to string\n",
    "from collections import Iterable\n",
    "\n",
    "def flatten(items):\n",
    "    \"\"\"Yield items from any nested iterable\"\"\"\n",
    "    for x in items:\n",
    "        if isinstance(x, Iterable) and not isinstance(x, (str, bytes)):\n",
    "            for sub_x in flatten(x):\n",
    "                yield sub_x\n",
    "        else:\n",
    "            yield x\n",
    "            \n",
    "TextData=list(flatten(list_data))\n",
    "TextData = ''.join(TextData)"
   ]
  },
  {
   "cell_type": "code",
   "execution_count": 74,
   "metadata": {},
   "outputs": [],
   "source": [
    "# Remove unwanted lines and converting into lower case\n",
    "TextData = TextData.replace('\\n','')\n",
    "TextData = TextData.lower()\n",
    "pattern = r'[^a-zA-z0-9\\s]'\n",
    "TextData = re.sub(pattern, ' ', TextData) "
   ]
  },
  {
   "cell_type": "code",
   "execution_count": 75,
   "metadata": {},
   "outputs": [],
   "source": [
    "# Tokenizing\n",
    "tokens = tokenizer.tokenize(TextData)\n",
    "tokens = [token.strip() for token in tokens]"
   ]
  },
  {
   "cell_type": "code",
   "execution_count": 76,
   "metadata": {},
   "outputs": [
    {
     "name": "stdout",
     "output_type": "stream",
     "text": [
      "10476\n"
     ]
    }
   ],
   "source": [
    "# get the distinct words and sort it\n",
    "word_counts = collections.Counter(tokens)\n",
    "word_c = len(word_counts)\n",
    "\n",
    "print(word_c)\n",
    "\n",
    "distinct_words = [x[0] for x in word_counts.most_common()]\n",
    "distinct_words_sorted = list(sorted(distinct_words))"
   ]
  },
  {
   "cell_type": "code",
   "execution_count": 77,
   "metadata": {},
   "outputs": [],
   "source": [
    "# Generate indexing for all words\n",
    "word_index = {x: i for i, x in enumerate(distinct_words_sorted)}\n",
    "\n",
    "# decide on sentence length\n",
    "sentence_length = 25"
   ]
  },
  {
   "cell_type": "markdown",
   "metadata": {},
   "source": [
    "Step 3-5 Data preparation for modeling"
   ]
  },
  {
   "cell_type": "code",
   "execution_count": 78,
   "metadata": {},
   "outputs": [
    {
     "name": "stdout",
     "output_type": "stream",
     "text": [
      "[[4260, 9652, 5187, 7160, 2847, 1651, 6693, 4898, 2170, 6292, 4356, 10220, 5328, 3431, 2166, 2533, 9127, 4315, 1371, 9941, 6640, 5368, 5152, 10104, 9559]]\n",
      "\n",
      "\n",
      "[6689]\n"
     ]
    }
   ],
   "source": [
    "# prepare the dataset of input to output pairs encoded as integers\n",
    "# Generate the data for the model\n",
    "# input = the input sentence to the model with index\n",
    "# output = output of the model with index\n",
    "InputData = []\n",
    "OutputData = []\n",
    "\n",
    "for i in range(0, word_c - sentence_length, 1):\n",
    "    X = tokens[i:i + sentence_length]\n",
    "    Y = tokens[i + sentence_length]\n",
    "    InputData.append([word_index[char] for char in X])\n",
    "    OutputData.append(word_index[Y])\n",
    "    \n",
    "print (InputData[:1])\n",
    "print (\"\\n\")\n",
    "print(OutputData[:1])"
   ]
  },
  {
   "cell_type": "code",
   "execution_count": 79,
   "metadata": {},
   "outputs": [
    {
     "data": {
      "text/plain": [
       "array([[0., 0., 0., ..., 0., 0., 0.],\n",
       "       [0., 0., 0., ..., 0., 0., 0.],\n",
       "       [0., 0., 0., ..., 0., 0., 0.],\n",
       "       ...,\n",
       "       [0., 0., 0., ..., 0., 0., 0.],\n",
       "       [0., 0., 0., ..., 0., 0., 0.],\n",
       "       [0., 0., 0., ..., 0., 0., 0.]])"
      ]
     },
     "execution_count": 79,
     "metadata": {},
     "output_type": "execute_result"
    }
   ],
   "source": [
    "# Generate X\n",
    "X = numpy.reshape(InputData, (len(InputData), sentence_length, 1))\n",
    "\n",
    "# One hot encode the output variable\n",
    "Y = to_categorical(OutputData)\n",
    "Y"
   ]
  },
  {
   "cell_type": "markdown",
   "metadata": {},
   "source": [
    "Step 3-6 Model building"
   ]
  },
  {
   "cell_type": "code",
   "execution_count": 80,
   "metadata": {},
   "outputs": [
    {
     "name": "stderr",
     "output_type": "stream",
     "text": [
      "c:\\Users\\Lattae\\anaconda3\\lib\\site-packages\\keras\\src\\layers\\rnn\\rnn.py:204: UserWarning: Do not pass an `input_shape`/`input_dim` argument to a layer. When using Sequential models, prefer using an `Input(shape)` object as the first layer in the model instead.\n",
      "  super().__init__(**kwargs)\n"
     ]
    }
   ],
   "source": [
    "# define the LSTM model\n",
    "model = Sequential()\n",
    "model.add(LSTM(256, input_shape=(X.shape[1], X.shape[2])))\n",
    "model.add(Dropout(0.2))\n",
    "model.add(Dense(Y.shape[1], activation='softmax'))\n",
    "model.compile(loss='categorical_crossentropy', optimizer='adam')"
   ]
  },
  {
   "cell_type": "code",
   "execution_count": 86,
   "metadata": {},
   "outputs": [],
   "source": [
    "# define the checkpoint\n",
    "file_name_path = \"weights-improvement-{epoch:02d}-{loss:.4f}.keras\"\n",
    "checkpoint = ModelCheckpoint(file_name_path, monitor='loss', verbose=1, save_best_only=True, mode='min')\n",
    "callbacks = [checkpoint]"
   ]
  },
  {
   "cell_type": "code",
   "execution_count": 87,
   "metadata": {},
   "outputs": [
    {
     "name": "stdout",
     "output_type": "stream",
     "text": [
      "Epoch 1/5\n",
      "\u001b[1m82/82\u001b[0m \u001b[32m━━━━━━━━━━━━━━━━━━━━\u001b[0m\u001b[37m\u001b[0m \u001b[1m0s\u001b[0m 94ms/step - loss: 8.3645\n",
      "Epoch 1: loss improved from inf to 7.74180, saving model to weights-improvement-01-7.7418.keras\n",
      "\u001b[1m82/82\u001b[0m \u001b[32m━━━━━━━━━━━━━━━━━━━━\u001b[0m\u001b[37m\u001b[0m \u001b[1m9s\u001b[0m 97ms/step - loss: 8.3570\n",
      "Epoch 2/5\n",
      "\u001b[1m82/82\u001b[0m \u001b[32m━━━━━━━━━━━━━━━━━━━━\u001b[0m\u001b[37m\u001b[0m \u001b[1m0s\u001b[0m 88ms/step - loss: 6.8230\n",
      "Epoch 2: loss improved from 7.74180 to 6.86264, saving model to weights-improvement-02-6.8626.keras\n",
      "\u001b[1m82/82\u001b[0m \u001b[32m━━━━━━━━━━━━━━━━━━━━\u001b[0m\u001b[37m\u001b[0m \u001b[1m7s\u001b[0m 89ms/step - loss: 6.8234\n",
      "Epoch 3/5\n",
      "\u001b[1m82/82\u001b[0m \u001b[32m━━━━━━━━━━━━━━━━━━━━\u001b[0m\u001b[37m\u001b[0m \u001b[1m0s\u001b[0m 86ms/step - loss: 6.6903\n",
      "Epoch 3: loss improved from 6.86264 to 6.72709, saving model to weights-improvement-03-6.7271.keras\n",
      "\u001b[1m82/82\u001b[0m \u001b[32m━━━━━━━━━━━━━━━━━━━━\u001b[0m\u001b[37m\u001b[0m \u001b[1m7s\u001b[0m 87ms/step - loss: 6.6908\n",
      "Epoch 4/5\n",
      "\u001b[1m82/82\u001b[0m \u001b[32m━━━━━━━━━━━━━━━━━━━━\u001b[0m\u001b[37m\u001b[0m \u001b[1m0s\u001b[0m 93ms/step - loss: 6.5759\n",
      "Epoch 4: loss improved from 6.72709 to 6.61399, saving model to weights-improvement-04-6.6140.keras\n",
      "\u001b[1m82/82\u001b[0m \u001b[32m━━━━━━━━━━━━━━━━━━━━\u001b[0m\u001b[37m\u001b[0m \u001b[1m8s\u001b[0m 95ms/step - loss: 6.5764\n",
      "Epoch 5/5\n",
      "\u001b[1m82/82\u001b[0m \u001b[32m━━━━━━━━━━━━━━━━━━━━\u001b[0m\u001b[37m\u001b[0m \u001b[1m0s\u001b[0m 115ms/step - loss: 6.5007\n",
      "Epoch 5: loss improved from 6.61399 to 6.52878, saving model to weights-improvement-05-6.5288.keras\n",
      "\u001b[1m82/82\u001b[0m \u001b[32m━━━━━━━━━━━━━━━━━━━━\u001b[0m\u001b[37m\u001b[0m \u001b[1m10s\u001b[0m 119ms/step - loss: 6.5011\n"
     ]
    },
    {
     "data": {
      "text/plain": [
       "<keras.src.callbacks.history.History at 0x1997f41c490>"
      ]
     },
     "execution_count": 87,
     "metadata": {},
     "output_type": "execute_result"
    }
   ],
   "source": [
    "# fit the model\n",
    "model.fit(X, Y, epochs=5, batch_size=128, callbacks=callbacks) "
   ]
  },
  {
   "cell_type": "code",
   "execution_count": 89,
   "metadata": {},
   "outputs": [],
   "source": [
    "# load the network weights\n",
    "file_name = \"weights-improvement-05-6.5288.keras\"\n",
    "model.load_weights(file_name)\n",
    "model.compile(loss='categorical_crossentropy', optimizer='adam')"
   ]
  },
  {
   "cell_type": "markdown",
   "metadata": {},
   "source": [
    "Step 3-7 Predicting next word"
   ]
  },
  {
   "cell_type": "code",
   "execution_count": 90,
   "metadata": {},
   "outputs": [
    {
     "name": "stdout",
     "output_type": "stream",
     "text": [
      "[1680, 2993, 2018, 4815, 3827, 8511, 8136, 1572, 5888, 645, 5705, 1238, 5705, 8136, 5001, 5888, 9279, 4575, 1454, 9975, 10042, 9127, 1284, 10397, 2990]\n",
      "\n",
      "\n",
      "4815\n"
     ]
    }
   ],
   "source": [
    "# Generating random sequence\n",
    "start = numpy.random.randint(0, len(InputData))\n",
    "input_sent = InputData[start]\n",
    "\n",
    "# Generate index of the next word of the email\n",
    "X = numpy.reshape(input_sent, (1, len(input_sent), 1))\n",
    "\n",
    "predict_word = model.predict(X, verbose=0)\n",
    "index = numpy.argmax(predict_word)\n",
    "\n",
    "print(input_sent)\n",
    "print (\"\\n\")\n",
    "print(index)"
   ]
  },
  {
   "cell_type": "code",
   "execution_count": 91,
   "metadata": {},
   "outputs": [
    {
     "name": "stdout",
     "output_type": "stream",
     "text": [
      "['wk', 'muz', 'she', 'but', 'exam', 'in', '1', 'in', 'finish', 'too', 'and', 'will', 'and', '1', 'our', 'finish', 'number', 'celebrations', 'more', 'you', 'cut', 'you', 'about', 'to', '4']\n",
      "\n",
      "\n",
      "but\n"
     ]
    }
   ],
   "source": [
    "# Convert these indexes back to words\n",
    "word_index_rev = dict((i, c) for i, c in enumerate(tokens))\n",
    "result = word_index_rev[index]\n",
    "sent_in = [word_index_rev[value] for value in input_sent]\n",
    "\n",
    "print(sent_in)\n",
    "print (\"\\n\")\n",
    "print(result)"
   ]
  }
 ],
 "metadata": {
  "kernelspec": {
   "display_name": "base",
   "language": "python",
   "name": "python3"
  },
  "language_info": {
   "codemirror_mode": {
    "name": "ipython",
    "version": 3
   },
   "file_extension": ".py",
   "mimetype": "text/x-python",
   "name": "python",
   "nbconvert_exporter": "python",
   "pygments_lexer": "ipython3",
   "version": "3.9.13"
  }
 },
 "nbformat": 4,
 "nbformat_minor": 2
}
